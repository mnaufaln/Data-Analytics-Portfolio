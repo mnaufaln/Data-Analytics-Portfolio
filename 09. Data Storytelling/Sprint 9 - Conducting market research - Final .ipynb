{
 "cells": [
  {
   "cell_type": "markdown",
   "metadata": {},
   "source": [
    "## Introduction \n",
    "\n",
    "*Project description*\n",
    "\n",
    "You’ve decided to open a small robot-run cafe in Los Angeles. The project is promising but expensive, so you and your partners decide to try to attract investors. They’re interested in the current market conditions—will you be able to maintain your success when the novelty of robot waiters wears off?\n",
    "You’re an analytics guru, so your partners have asked you to prepare some market research. You have open-source data on restaurants in LA."
   ]
  },
  {
   "cell_type": "markdown",
   "metadata": {},
   "source": [
    "## Import Library"
   ]
  },
  {
   "cell_type": "code",
   "execution_count": 43,
   "metadata": {},
   "outputs": [],
   "source": [
    "import pandas as pd\n",
    "import matplotlib.pyplot as plt"
   ]
  },
  {
   "cell_type": "markdown",
   "metadata": {},
   "source": [
    "## Load Dataframe"
   ]
  },
  {
   "cell_type": "code",
   "execution_count": 2,
   "metadata": {},
   "outputs": [],
   "source": [
    "data = pd.read_csv('/datasets/rest_data_us.csv')"
   ]
  },
  {
   "cell_type": "code",
   "execution_count": 3,
   "metadata": {
    "scrolled": false
   },
   "outputs": [
    {
     "data": {
      "text/html": [
       "<div>\n",
       "<style scoped>\n",
       "    .dataframe tbody tr th:only-of-type {\n",
       "        vertical-align: middle;\n",
       "    }\n",
       "\n",
       "    .dataframe tbody tr th {\n",
       "        vertical-align: top;\n",
       "    }\n",
       "\n",
       "    .dataframe thead th {\n",
       "        text-align: right;\n",
       "    }\n",
       "</style>\n",
       "<table border=\"1\" class=\"dataframe\">\n",
       "  <thead>\n",
       "    <tr style=\"text-align: right;\">\n",
       "      <th></th>\n",
       "      <th>id</th>\n",
       "      <th>object_name</th>\n",
       "      <th>address</th>\n",
       "      <th>chain</th>\n",
       "      <th>object_type</th>\n",
       "      <th>number</th>\n",
       "    </tr>\n",
       "  </thead>\n",
       "  <tbody>\n",
       "    <tr>\n",
       "      <th>0</th>\n",
       "      <td>11786</td>\n",
       "      <td>HABITAT COFFEE SHOP</td>\n",
       "      <td>3708 N EAGLE ROCK BLVD</td>\n",
       "      <td>False</td>\n",
       "      <td>Cafe</td>\n",
       "      <td>26</td>\n",
       "    </tr>\n",
       "    <tr>\n",
       "      <th>1</th>\n",
       "      <td>11787</td>\n",
       "      <td>REILLY'S</td>\n",
       "      <td>100 WORLD WAY # 120</td>\n",
       "      <td>False</td>\n",
       "      <td>Restaurant</td>\n",
       "      <td>9</td>\n",
       "    </tr>\n",
       "    <tr>\n",
       "      <th>2</th>\n",
       "      <td>11788</td>\n",
       "      <td>STREET CHURROS</td>\n",
       "      <td>6801 HOLLYWOOD BLVD # 253</td>\n",
       "      <td>False</td>\n",
       "      <td>Fast Food</td>\n",
       "      <td>20</td>\n",
       "    </tr>\n",
       "    <tr>\n",
       "      <th>3</th>\n",
       "      <td>11789</td>\n",
       "      <td>TRINITI ECHO PARK</td>\n",
       "      <td>1814 W SUNSET BLVD</td>\n",
       "      <td>False</td>\n",
       "      <td>Restaurant</td>\n",
       "      <td>22</td>\n",
       "    </tr>\n",
       "    <tr>\n",
       "      <th>4</th>\n",
       "      <td>11790</td>\n",
       "      <td>POLLEN</td>\n",
       "      <td>2100 ECHO PARK AVE</td>\n",
       "      <td>False</td>\n",
       "      <td>Restaurant</td>\n",
       "      <td>20</td>\n",
       "    </tr>\n",
       "    <tr>\n",
       "      <th>5</th>\n",
       "      <td>11791</td>\n",
       "      <td>THE SPOT GRILL</td>\n",
       "      <td>10004 NATIONAL BLVD</td>\n",
       "      <td>False</td>\n",
       "      <td>Restaurant</td>\n",
       "      <td>14</td>\n",
       "    </tr>\n",
       "    <tr>\n",
       "      <th>6</th>\n",
       "      <td>11792</td>\n",
       "      <td>CPK</td>\n",
       "      <td>100 WORLD WAY # 126</td>\n",
       "      <td>False</td>\n",
       "      <td>Restaurant</td>\n",
       "      <td>100</td>\n",
       "    </tr>\n",
       "    <tr>\n",
       "      <th>7</th>\n",
       "      <td>11793</td>\n",
       "      <td>PHO LALA</td>\n",
       "      <td>3500 W 6TH ST STE 226</td>\n",
       "      <td>False</td>\n",
       "      <td>Restaurant</td>\n",
       "      <td>7</td>\n",
       "    </tr>\n",
       "    <tr>\n",
       "      <th>8</th>\n",
       "      <td>11794</td>\n",
       "      <td>ABC DONUTS</td>\n",
       "      <td>3027 N SAN FERNANDO RD UNIT 103</td>\n",
       "      <td>True</td>\n",
       "      <td>Fast Food</td>\n",
       "      <td>1</td>\n",
       "    </tr>\n",
       "    <tr>\n",
       "      <th>9</th>\n",
       "      <td>11795</td>\n",
       "      <td>UPSTAIRS</td>\n",
       "      <td>3707 N CAHUENGA BLVD</td>\n",
       "      <td>False</td>\n",
       "      <td>Restaurant</td>\n",
       "      <td>35</td>\n",
       "    </tr>\n",
       "    <tr>\n",
       "      <th>10</th>\n",
       "      <td>11796</td>\n",
       "      <td>EL POLLO LOCO</td>\n",
       "      <td>5319 W SUNSET BLVD</td>\n",
       "      <td>True</td>\n",
       "      <td>Restaurant</td>\n",
       "      <td>38</td>\n",
       "    </tr>\n",
       "    <tr>\n",
       "      <th>11</th>\n",
       "      <td>11797</td>\n",
       "      <td>POONG NYUN BAKERY</td>\n",
       "      <td>928 S WESTERN AVE STE 109</td>\n",
       "      <td>True</td>\n",
       "      <td>Bakery</td>\n",
       "      <td>17</td>\n",
       "    </tr>\n",
       "    <tr>\n",
       "      <th>12</th>\n",
       "      <td>11798</td>\n",
       "      <td>EMC RESTAURANT GROUP LLC</td>\n",
       "      <td>3500 W 6TH ST STE 101</td>\n",
       "      <td>True</td>\n",
       "      <td>Restaurant</td>\n",
       "      <td>133</td>\n",
       "    </tr>\n",
       "    <tr>\n",
       "      <th>13</th>\n",
       "      <td>11799</td>\n",
       "      <td>POPULAR DONUTS</td>\n",
       "      <td>3614 W SLAUSON AVE</td>\n",
       "      <td>False</td>\n",
       "      <td>Fast Food</td>\n",
       "      <td>18</td>\n",
       "    </tr>\n",
       "    <tr>\n",
       "      <th>14</th>\n",
       "      <td>11800</td>\n",
       "      <td>CUSCATLECA BAKERY</td>\n",
       "      <td>2501 W SUNSET BLVD #A</td>\n",
       "      <td>True</td>\n",
       "      <td>Bakery</td>\n",
       "      <td>26</td>\n",
       "    </tr>\n",
       "    <tr>\n",
       "      <th>15</th>\n",
       "      <td>11801</td>\n",
       "      <td>FOOD COURT TRAY WASHING AREA</td>\n",
       "      <td>928 S WESTERN AVE STE 300</td>\n",
       "      <td>True</td>\n",
       "      <td>Restaurant</td>\n",
       "      <td>21</td>\n",
       "    </tr>\n",
       "    <tr>\n",
       "      <th>16</th>\n",
       "      <td>11802</td>\n",
       "      <td>HMS BOUNTY</td>\n",
       "      <td>3357 WILSHIRE BLVD</td>\n",
       "      <td>False</td>\n",
       "      <td>Restaurant</td>\n",
       "      <td>147</td>\n",
       "    </tr>\n",
       "    <tr>\n",
       "      <th>17</th>\n",
       "      <td>11803</td>\n",
       "      <td>AN'S CHAN BANG</td>\n",
       "      <td>244 S OXFORD AVE # 5</td>\n",
       "      <td>False</td>\n",
       "      <td>Restaurant</td>\n",
       "      <td>10</td>\n",
       "    </tr>\n",
       "    <tr>\n",
       "      <th>18</th>\n",
       "      <td>11804</td>\n",
       "      <td>MURAKAMI</td>\n",
       "      <td>7160 MELROSE AVE</td>\n",
       "      <td>False</td>\n",
       "      <td>Restaurant</td>\n",
       "      <td>139</td>\n",
       "    </tr>\n",
       "    <tr>\n",
       "      <th>19</th>\n",
       "      <td>11805</td>\n",
       "      <td>DELTA SKY CLUB T3</td>\n",
       "      <td>300 WORLD WAY</td>\n",
       "      <td>False</td>\n",
       "      <td>Restaurant</td>\n",
       "      <td>103</td>\n",
       "    </tr>\n",
       "    <tr>\n",
       "      <th>20</th>\n",
       "      <td>11806</td>\n",
       "      <td>CRYSTAL CAFE</td>\n",
       "      <td>3500 W 6TH ST STE #321</td>\n",
       "      <td>False</td>\n",
       "      <td>Restaurant</td>\n",
       "      <td>16</td>\n",
       "    </tr>\n",
       "    <tr>\n",
       "      <th>21</th>\n",
       "      <td>11807</td>\n",
       "      <td>ORANGE TREE CAFE</td>\n",
       "      <td>3500 W 6TH ST STE #220</td>\n",
       "      <td>False</td>\n",
       "      <td>Restaurant</td>\n",
       "      <td>14</td>\n",
       "    </tr>\n",
       "    <tr>\n",
       "      <th>22</th>\n",
       "      <td>11808</td>\n",
       "      <td>CAMY'S GRILL</td>\n",
       "      <td>3339 WILSHIRE BLVD</td>\n",
       "      <td>False</td>\n",
       "      <td>Restaurant</td>\n",
       "      <td>39</td>\n",
       "    </tr>\n",
       "    <tr>\n",
       "      <th>23</th>\n",
       "      <td>11809</td>\n",
       "      <td>SABORES DEL PERU</td>\n",
       "      <td>1015 WALL ST STE 123</td>\n",
       "      <td>False</td>\n",
       "      <td>Restaurant</td>\n",
       "      <td>4</td>\n",
       "    </tr>\n",
       "    <tr>\n",
       "      <th>24</th>\n",
       "      <td>11810</td>\n",
       "      <td>M CAFE DE CHAYA</td>\n",
       "      <td>7119 MELROSE AVE</td>\n",
       "      <td>True</td>\n",
       "      <td>Restaurant</td>\n",
       "      <td>43</td>\n",
       "    </tr>\n",
       "    <tr>\n",
       "      <th>25</th>\n",
       "      <td>11811</td>\n",
       "      <td>INDIA'S GRILL</td>\n",
       "      <td>428 S SAN VICENTE BLVD</td>\n",
       "      <td>False</td>\n",
       "      <td>Restaurant</td>\n",
       "      <td>48</td>\n",
       "    </tr>\n",
       "    <tr>\n",
       "      <th>26</th>\n",
       "      <td>11812</td>\n",
       "      <td>LA INDIA BONITA CAFE</td>\n",
       "      <td>1277 S INDIANA ST</td>\n",
       "      <td>False</td>\n",
       "      <td>Restaurant</td>\n",
       "      <td>19</td>\n",
       "    </tr>\n",
       "    <tr>\n",
       "      <th>27</th>\n",
       "      <td>11813</td>\n",
       "      <td>NORM'S RESTAURANT</td>\n",
       "      <td>470 N LA CIENEGA BLVD</td>\n",
       "      <td>True</td>\n",
       "      <td>Restaurant</td>\n",
       "      <td>80</td>\n",
       "    </tr>\n",
       "    <tr>\n",
       "      <th>28</th>\n",
       "      <td>11814</td>\n",
       "      <td>BEVERLY FALAFEL</td>\n",
       "      <td>8508 W 3RD ST</td>\n",
       "      <td>False</td>\n",
       "      <td>Restaurant</td>\n",
       "      <td>31</td>\n",
       "    </tr>\n",
       "    <tr>\n",
       "      <th>29</th>\n",
       "      <td>11815</td>\n",
       "      <td>KRISPY KRUNCHY CHICKEN - ALVARADO</td>\n",
       "      <td>600 S ALVARADO ST STE 111C</td>\n",
       "      <td>True</td>\n",
       "      <td>Restaurant</td>\n",
       "      <td>15</td>\n",
       "    </tr>\n",
       "  </tbody>\n",
       "</table>\n",
       "</div>"
      ],
      "text/plain": [
       "       id                        object_name                          address  \\\n",
       "0   11786                HABITAT COFFEE SHOP           3708 N EAGLE ROCK BLVD   \n",
       "1   11787                           REILLY'S              100 WORLD WAY # 120   \n",
       "2   11788                     STREET CHURROS        6801 HOLLYWOOD BLVD # 253   \n",
       "3   11789                  TRINITI ECHO PARK               1814 W SUNSET BLVD   \n",
       "4   11790                             POLLEN               2100 ECHO PARK AVE   \n",
       "5   11791                     THE SPOT GRILL              10004 NATIONAL BLVD   \n",
       "6   11792                                CPK              100 WORLD WAY # 126   \n",
       "7   11793                           PHO LALA            3500 W 6TH ST STE 226   \n",
       "8   11794                         ABC DONUTS  3027 N SAN FERNANDO RD UNIT 103   \n",
       "9   11795                           UPSTAIRS             3707 N CAHUENGA BLVD   \n",
       "10  11796                      EL POLLO LOCO               5319 W SUNSET BLVD   \n",
       "11  11797                  POONG NYUN BAKERY        928 S WESTERN AVE STE 109   \n",
       "12  11798           EMC RESTAURANT GROUP LLC            3500 W 6TH ST STE 101   \n",
       "13  11799                     POPULAR DONUTS               3614 W SLAUSON AVE   \n",
       "14  11800                  CUSCATLECA BAKERY            2501 W SUNSET BLVD #A   \n",
       "15  11801       FOOD COURT TRAY WASHING AREA        928 S WESTERN AVE STE 300   \n",
       "16  11802                         HMS BOUNTY               3357 WILSHIRE BLVD   \n",
       "17  11803                     AN'S CHAN BANG             244 S OXFORD AVE # 5   \n",
       "18  11804                           MURAKAMI                 7160 MELROSE AVE   \n",
       "19  11805                  DELTA SKY CLUB T3                    300 WORLD WAY   \n",
       "20  11806                       CRYSTAL CAFE           3500 W 6TH ST STE #321   \n",
       "21  11807                   ORANGE TREE CAFE           3500 W 6TH ST STE #220   \n",
       "22  11808                       CAMY'S GRILL               3339 WILSHIRE BLVD   \n",
       "23  11809                   SABORES DEL PERU             1015 WALL ST STE 123   \n",
       "24  11810                    M CAFE DE CHAYA                 7119 MELROSE AVE   \n",
       "25  11811                      INDIA'S GRILL           428 S SAN VICENTE BLVD   \n",
       "26  11812               LA INDIA BONITA CAFE                1277 S INDIANA ST   \n",
       "27  11813                  NORM'S RESTAURANT            470 N LA CIENEGA BLVD   \n",
       "28  11814                    BEVERLY FALAFEL                    8508 W 3RD ST   \n",
       "29  11815  KRISPY KRUNCHY CHICKEN - ALVARADO       600 S ALVARADO ST STE 111C   \n",
       "\n",
       "    chain object_type  number  \n",
       "0   False        Cafe      26  \n",
       "1   False  Restaurant       9  \n",
       "2   False   Fast Food      20  \n",
       "3   False  Restaurant      22  \n",
       "4   False  Restaurant      20  \n",
       "5   False  Restaurant      14  \n",
       "6   False  Restaurant     100  \n",
       "7   False  Restaurant       7  \n",
       "8    True   Fast Food       1  \n",
       "9   False  Restaurant      35  \n",
       "10   True  Restaurant      38  \n",
       "11   True      Bakery      17  \n",
       "12   True  Restaurant     133  \n",
       "13  False   Fast Food      18  \n",
       "14   True      Bakery      26  \n",
       "15   True  Restaurant      21  \n",
       "16  False  Restaurant     147  \n",
       "17  False  Restaurant      10  \n",
       "18  False  Restaurant     139  \n",
       "19  False  Restaurant     103  \n",
       "20  False  Restaurant      16  \n",
       "21  False  Restaurant      14  \n",
       "22  False  Restaurant      39  \n",
       "23  False  Restaurant       4  \n",
       "24   True  Restaurant      43  \n",
       "25  False  Restaurant      48  \n",
       "26  False  Restaurant      19  \n",
       "27   True  Restaurant      80  \n",
       "28  False  Restaurant      31  \n",
       "29   True  Restaurant      15  "
      ]
     },
     "execution_count": 3,
     "metadata": {},
     "output_type": "execute_result"
    }
   ],
   "source": [
    "data.head(30)"
   ]
  },
  {
   "cell_type": "code",
   "execution_count": 4,
   "metadata": {},
   "outputs": [
    {
     "name": "stdout",
     "output_type": "stream",
     "text": [
      "<class 'pandas.core.frame.DataFrame'>\n",
      "RangeIndex: 9651 entries, 0 to 9650\n",
      "Data columns (total 6 columns):\n",
      " #   Column       Non-Null Count  Dtype \n",
      "---  ------       --------------  ----- \n",
      " 0   id           9651 non-null   int64 \n",
      " 1   object_name  9651 non-null   object\n",
      " 2   address      9651 non-null   object\n",
      " 3   chain        9648 non-null   object\n",
      " 4   object_type  9651 non-null   object\n",
      " 5   number       9651 non-null   int64 \n",
      "dtypes: int64(2), object(4)\n",
      "memory usage: 452.5+ KB\n"
     ]
    }
   ],
   "source": [
    "data.info()"
   ]
  },
  {
   "cell_type": "code",
   "execution_count": 5,
   "metadata": {},
   "outputs": [
    {
     "data": {
      "text/html": [
       "<div>\n",
       "<style scoped>\n",
       "    .dataframe tbody tr th:only-of-type {\n",
       "        vertical-align: middle;\n",
       "    }\n",
       "\n",
       "    .dataframe tbody tr th {\n",
       "        vertical-align: top;\n",
       "    }\n",
       "\n",
       "    .dataframe thead th {\n",
       "        text-align: right;\n",
       "    }\n",
       "</style>\n",
       "<table border=\"1\" class=\"dataframe\">\n",
       "  <thead>\n",
       "    <tr style=\"text-align: right;\">\n",
       "      <th></th>\n",
       "      <th>id</th>\n",
       "      <th>object_name</th>\n",
       "      <th>address</th>\n",
       "      <th>chain</th>\n",
       "      <th>object_type</th>\n",
       "      <th>number</th>\n",
       "    </tr>\n",
       "  </thead>\n",
       "  <tbody>\n",
       "    <tr>\n",
       "      <th>7408</th>\n",
       "      <td>19194</td>\n",
       "      <td>TAQUERIA LOS 3 CARNALES</td>\n",
       "      <td>5000 E WHITTIER BLVD</td>\n",
       "      <td>NaN</td>\n",
       "      <td>Restaurant</td>\n",
       "      <td>14</td>\n",
       "    </tr>\n",
       "    <tr>\n",
       "      <th>7523</th>\n",
       "      <td>19309</td>\n",
       "      <td>JAMMIN JIMMY'S PIZZA</td>\n",
       "      <td>1641 FIRESTONE BLVD</td>\n",
       "      <td>NaN</td>\n",
       "      <td>Pizza</td>\n",
       "      <td>1</td>\n",
       "    </tr>\n",
       "    <tr>\n",
       "      <th>8648</th>\n",
       "      <td>20434</td>\n",
       "      <td>THE LEXINGTON THEATER</td>\n",
       "      <td>129 E 3RD ST</td>\n",
       "      <td>NaN</td>\n",
       "      <td>Restaurant</td>\n",
       "      <td>35</td>\n",
       "    </tr>\n",
       "  </tbody>\n",
       "</table>\n",
       "</div>"
      ],
      "text/plain": [
       "         id              object_name               address chain object_type  \\\n",
       "7408  19194  TAQUERIA LOS 3 CARNALES  5000 E WHITTIER BLVD   NaN  Restaurant   \n",
       "7523  19309     JAMMIN JIMMY'S PIZZA   1641 FIRESTONE BLVD   NaN       Pizza   \n",
       "8648  20434    THE LEXINGTON THEATER          129 E 3RD ST   NaN  Restaurant   \n",
       "\n",
       "      number  \n",
       "7408      14  \n",
       "7523       1  \n",
       "8648      35  "
      ]
     },
     "execution_count": 5,
     "metadata": {},
     "output_type": "execute_result"
    }
   ],
   "source": [
    "data[data['chain'].isna()]"
   ]
  },
  {
   "cell_type": "code",
   "execution_count": 6,
   "metadata": {
    "scrolled": true
   },
   "outputs": [
    {
     "data": {
      "text/plain": [
       "0.031084861672365557"
      ]
     },
     "execution_count": 6,
     "metadata": {},
     "output_type": "execute_result"
    }
   ],
   "source": [
    "total_rows = 9651\n",
    "null_val = (data['chain'].isna().sum() / total_rows)*100\n",
    "null_val"
   ]
  },
  {
   "cell_type": "markdown",
   "metadata": {},
   "source": [
    "Missing Chain Values: The three rows with missing chain values are:\n",
    "\n",
    "- Row 7408: Taqueria Los 3 Carnales at 5000 E Whittier Blvd, with object_type 'Restaurant' and number 14.\n",
    "- Row 7523: Jammin Jimmy's Pizza at 1641 Firestone Blvd, with object_type 'Pizza' and number 1.\n",
    "- Row 8648: The Lexington Theater at 129 E 3rd St, with object_type 'Restaurant' and number 35.\n",
    "\n",
    "Percentage of Missing Values: The percentage of missing values in the 'chain' column is calculated as (3 / 9,651) * 100, which results in 0.031%.\n",
    "\n",
    "Based on the above analysis, we can conclude that the 'chain' column has a very low percentage of missing values (0.031%), indicating that the majority of the entries have information regarding whether the restaurant is part of a chain or not."
   ]
  },
  {
   "cell_type": "markdown",
   "metadata": {},
   "source": [
    "## Enrich data"
   ]
  },
  {
   "cell_type": "markdown",
   "metadata": {},
   "source": [
    "Since this missing values has no meaningful to our analysis, we will drop the data."
   ]
  },
  {
   "cell_type": "code",
   "execution_count": 7,
   "metadata": {
    "scrolled": true
   },
   "outputs": [
    {
     "name": "stdout",
     "output_type": "stream",
     "text": [
      "<class 'pandas.core.frame.DataFrame'>\n",
      "Int64Index: 9648 entries, 0 to 9650\n",
      "Data columns (total 6 columns):\n",
      " #   Column       Non-Null Count  Dtype \n",
      "---  ------       --------------  ----- \n",
      " 0   id           9648 non-null   int64 \n",
      " 1   object_name  9648 non-null   object\n",
      " 2   address      9648 non-null   object\n",
      " 3   chain        9648 non-null   object\n",
      " 4   object_type  9648 non-null   object\n",
      " 5   number       9648 non-null   int64 \n",
      "dtypes: int64(2), object(4)\n",
      "memory usage: 527.6+ KB\n"
     ]
    }
   ],
   "source": [
    "# Drop rows containing NaN in the 'chain' column\n",
    "data = data.dropna(subset=['chain'])\n",
    "\n",
    "# Verify the changes\n",
    "data.info()"
   ]
  },
  {
   "cell_type": "code",
   "execution_count": 8,
   "metadata": {
    "scrolled": true
   },
   "outputs": [
    {
     "data": {
      "text/plain": [
       "0.0"
      ]
     },
     "execution_count": 8,
     "metadata": {},
     "output_type": "execute_result"
    }
   ],
   "source": [
    "null_val = (data['chain'].isna().sum() / total_rows)*100\n",
    "null_val"
   ]
  },
  {
   "cell_type": "markdown",
   "metadata": {},
   "source": [
    "## Step 2 - Data analysis\n"
   ]
  },
  {
   "cell_type": "markdown",
   "metadata": {},
   "source": [
    "### investigate the proportions of the various types of establishments"
   ]
  },
  {
   "cell_type": "markdown",
   "metadata": {},
   "source": [
    "To investigate the proportions of the various types of establishments in the provided DataFrame, we can use the value_counts() method on the 'object_type' column. This will give us the count of each unique establishment type. We can then calculate the proportions by dividing each count by the total number of establishments."
   ]
  },
  {
   "cell_type": "code",
   "execution_count": 9,
   "metadata": {},
   "outputs": [
    {
     "name": "stdout",
     "output_type": "stream",
     "text": [
      "Restaurant    0.751762\n",
      "Fast Food     0.110489\n",
      "Cafe          0.045087\n",
      "Pizza         0.033064\n",
      "Bar           0.030265\n",
      "Bakery        0.029333\n",
      "Name: object_type, dtype: float64\n"
     ]
    }
   ],
   "source": [
    "# Assuming your DataFrame is named 'data'\n",
    "establishment_counts = data['object_type'].value_counts()\n",
    "total_establishments = len(data)\n",
    "\n",
    "# Calculate the proportions\n",
    "establishment_proportions = establishment_counts / total_establishments\n",
    "\n",
    "# Print the proportions\n",
    "print(establishment_proportions)"
   ]
  },
  {
   "cell_type": "markdown",
   "metadata": {},
   "source": [
    "We create a pie chart to visually represent the proportions of the various types of establishments in the DataFrame"
   ]
  },
  {
   "cell_type": "code",
   "execution_count": 44,
   "metadata": {},
   "outputs": [
    {
     "data": {
      "image/png": "[encoded data removed]",
      "text/plain": [
       "<Figure size 504x288 with 1 Axes>"
      ]
     },
     "metadata": {
      "needs_background": "light"
     },
     "output_type": "display_data"
    }
   ],
   "source": [
    "establishment_counts = data['object_type'].value_counts(normalize=True)\n",
    "\n",
    "color = [\"green\" if r_type == \"Cafe\" else \"grey\" for r_type in establishment_counts.index]\n",
    "\n",
    "plt.figure(figsize=[7, 4])\n",
    "establishment_counts.plot(kind='bar', color=color)\n",
    "plt.title('Proportions of Establishment Types')\n",
    "plt.xlabel('Type of Establishment')\n",
    "plt.ylabel('Proportion of Establishments (%)')\n",
    "plt.xticks(rotation=0)\n",
    "plt.show()"
   ]
  },
  {
   "cell_type": "markdown",
   "metadata": {},
   "source": [
    "Based on the proportions of establishment types in the provided DataFrame, we can draw the following conclusions and findings:\n",
    "\n",
    "- Restaurants dominate the dataset: The most prevalent establishment type is \"Restaurant,\" accounting for approximately 75.2% of all establishments. This indicates that restaurants are the most common type of establishment in LA.\n",
    "\n",
    "- Fast Food establishments are the second most common: Fast food establishments make up about 11.0% of the dataset. While not as prevalent as restaurants, fast food establishments still represent a significant portion of the establishments.\n",
    "\n",
    "- Cafes, Pizzas, Bars, and Bakeries have smaller shares: Cafes account for approximately 4.5% of the establishments, while Pizzas, Bars, and Bakeries have proportions of around 3.3%, 3.0%, and 2.9%, respectively. These establishment types have relatively smaller shares compared to restaurants and fast food establishments.\n",
    "\n",
    "- Diverse range of establishment types: The presence of different establishment types suggests a diverse dining landscape. This variety may provide options catering to different preferences and culinary experiences."
   ]
  },
  {
   "cell_type": "markdown",
   "metadata": {},
   "source": [
    "### Investigate the proportions of chain and nonchain establishments."
   ]
  },
  {
   "cell_type": "markdown",
   "metadata": {},
   "source": [
    "To investigate the proportions of chain and non-chain establishments in the provided DataFrame, we can use the value_counts() method on the 'chain' column. This will give us the count of each unique value, which in this case are True and False. We can then calculate the proportions by dividing each count by the total number of establishments."
   ]
  },
  {
   "cell_type": "code",
   "execution_count": 12,
   "metadata": {
    "scrolled": false
   },
   "outputs": [
    {
     "name": "stdout",
     "output_type": "stream",
     "text": [
      "False    0.618988\n",
      "True     0.381012\n",
      "Name: chain, dtype: float64\n"
     ]
    }
   ],
   "source": [
    "chain_counts = data['chain'].value_counts()\n",
    "total_establishments = len(data)\n",
    "\n",
    "# Calculate the proportions\n",
    "chain_proportions = chain_counts / total_establishments\n",
    "\n",
    "# Print the proportions\n",
    "print(chain_proportions)"
   ]
  },
  {
   "cell_type": "markdown",
   "metadata": {},
   "source": [
    "To visualize the proportions of chain and non-chain establishments in the DataFrame, We can use a bar chart. "
   ]
  },
  {
   "cell_type": "code",
   "execution_count": 13,
   "metadata": {
    "scrolled": false
   },
   "outputs": [
    {
     "data": {
      "image/png": "[encoded data removed]",
      "text/plain": [
       "<Figure size 576x432 with 1 Axes>"
      ]
     },
     "metadata": {
      "needs_background": "light"
     },
     "output_type": "display_data"
    },
    {
     "data": {
      "image/png": "[encoded data removed]",
      "text/plain": [
       "<Figure size 576x432 with 1 Axes>"
      ]
     },
     "metadata": {},
     "output_type": "display_data"
    }
   ],
   "source": [
    "chain_counts = data['chain'].value_counts()\n",
    "\n",
    "# Create the bar chart\n",
    "plt.figure(figsize=(8, 6))\n",
    "plt.bar(chain_counts.index.astype(str), chain_counts)\n",
    "plt.xlabel('Chain')\n",
    "plt.ylabel('Count')\n",
    "plt.title('Proportions of Chain and Non-chain Establishments')\n",
    "\n",
    "# Display the chart\n",
    "plt.show()\n",
    "\n",
    "# Create the pie chart\n",
    "plt.figure(figsize=(8, 6))\n",
    "plt.pie(chain_counts, labels=chain_counts.index, autopct='%1.1f%%')\n",
    "plt.title('Proportions of Chain and Non-chain Establishments')\n",
    "\n",
    "# Display the chart\n",
    "plt.show()"
   ]
  },
  {
   "cell_type": "markdown",
   "metadata": {},
   "source": [
    "Based on the proportions of chain and non-chain establishments in the provided DataFrame, we can draw the following conclusions and findings:\n",
    "\n",
    "- Non-chain establishments are more prevalent: The proportion of non-chain establishments is approximately 61.9% (0.618796). This indicates that the majority of establishments in the dataset are independent and not part of a chain.\n",
    "\n",
    "- Chain establishments make up a significant portion: The proportion of chain establishments is around 38.1% (0.380893). Although slightly less common than non-chain establishments, chain establishments still represent a significant portion of the dataset.\n"
   ]
  },
  {
   "cell_type": "markdown",
   "metadata": {},
   "source": [
    "### Which type of establishment is typically a chain?"
   ]
  },
  {
   "cell_type": "markdown",
   "metadata": {},
   "source": [
    "To determine which type of establishment is typically a chain based on the provided DataFrame, we can analyze the relationship between the 'chain' column and the 'object_type' column. We can calculate the proportions of chain establishments for each establishment type and identify the type with the highest proportion of chain establishments."
   ]
  },
  {
   "cell_type": "code",
   "execution_count": 14,
   "metadata": {},
   "outputs": [
    {
     "data": {
      "text/plain": [
       "Restaurant    0.623504\n",
       "Fast Food     0.164581\n",
       "Bakery        0.076986\n",
       "Cafe          0.072361\n",
       "Pizza         0.041621\n",
       "Bar           0.020947\n",
       "Name: object_type, dtype: float64"
      ]
     },
     "execution_count": 14,
     "metadata": {},
     "output_type": "execute_result"
    }
   ],
   "source": [
    "chain_establishments = data[data['chain'] == True]\n",
    "chain_proportions_by_type = chain_establishments['object_type'].value_counts(normalize=True)\n",
    "chain_proportions_by_type"
   ]
  },
  {
   "cell_type": "code",
   "execution_count": 15,
   "metadata": {},
   "outputs": [
    {
     "name": "stdout",
     "output_type": "stream",
     "text": [
      "The type of establishment typically a chain:  Restaurant\n"
     ]
    }
   ],
   "source": [
    "# Find the type with the highest proportion of chain establishments\n",
    "most_common_chain_type = chain_proportions_by_type.idxmax()\n",
    "\n",
    "# Print the most common chain establishment type\n",
    "print(\"The type of establishment typically a chain: \", most_common_chain_type)"
   ]
  },
  {
   "cell_type": "markdown",
   "metadata": {},
   "source": [
    "We create a pie chart representing the overview proportions of chain establishments by establishment type."
   ]
  },
  {
   "cell_type": "code",
   "execution_count": 16,
   "metadata": {},
   "outputs": [
    {
     "data": {
      "image/png": "[encoded data removed]",
      "text/plain": [
       "<Figure size 576x432 with 1 Axes>"
      ]
     },
     "metadata": {},
     "output_type": "display_data"
    }
   ],
   "source": [
    "labels = chain_proportions_by_type.index\n",
    "proportions = chain_proportions_by_type.values\n",
    "\n",
    "# Create the pie chart\n",
    "plt.figure(figsize=(8, 6))\n",
    "plt.pie(proportions, labels=labels, autopct='%1.1f%%', normalize=False)\n",
    "plt.title('Proportions of Chain Establishments by Type')\n",
    "\n",
    "# Display the chart\n",
    "plt.show()"
   ]
  },
  {
   "cell_type": "markdown",
   "metadata": {},
   "source": [
    "### What characterizes chains: many establishments with a small number of seats or a few establishments with a lot of seats?"
   ]
  },
  {
   "cell_type": "markdown",
   "metadata": {},
   "source": [
    "To determine whether chains in the provided DataFrame are characterized by many establishments with a small number of seats or a few establishments with a lot of seats, we can analyze the relationship between the 'chain' column and the 'number' column. We can compare the average number of seats for chain establishments and non-chain establishments to understand the seating patterns."
   ]
  },
  {
   "cell_type": "code",
   "execution_count": 17,
   "metadata": {},
   "outputs": [
    {
     "name": "stdout",
     "output_type": "stream",
     "text": [
      "39.69423286180631\n",
      "46.17146684527796\n"
     ]
    }
   ],
   "source": [
    "chain_establishments = data[data['chain'] == True]\n",
    "non_chain_establishments = data[data['chain'] == False]\n",
    "\n",
    "# Calculate the average number of seats for chain and non-chain establishments\n",
    "avg_seats_chain = chain_establishments['number'].mean()\n",
    "avg_seats_non_chain = non_chain_establishments['number'].mean()\n",
    "print(avg_seats_chain)\n",
    "print(avg_seats_non_chain )"
   ]
  },
  {
   "cell_type": "code",
   "execution_count": 18,
   "metadata": {},
   "outputs": [
    {
     "name": "stdout",
     "output_type": "stream",
     "text": [
      "Characterization of Chains:  Chains are characterized by many establishments with a small number of seats.\n"
     ]
    }
   ],
   "source": [
    "# Determine the seating pattern characterization\n",
    "if avg_seats_chain < avg_seats_non_chain:\n",
    "    characterization = \"Chains are characterized by many establishments with a small number of seats.\"\n",
    "else:\n",
    "    characterization = \"Chains are characterized by a few establishments with a lot of seats.\"\n",
    "\n",
    "# Print the seating pattern characterization\n",
    "print(\"Characterization of Chains: \", characterization)"
   ]
  },
  {
   "cell_type": "markdown",
   "metadata": {},
   "source": [
    "To visualize and compare the seating patterns of chain establishments and non-chain establishments, a suitable chart is a grouped bar chart. This will allow for a clear visual comparison of the average number of seats between the two categories."
   ]
  },
  {
   "cell_type": "code",
   "execution_count": 19,
   "metadata": {
    "scrolled": false
   },
   "outputs": [
    {
     "data": {
      "image/png": "[encoded data removed]",
      "text/plain": [
       "<Figure size 576x432 with 1 Axes>"
      ]
     },
     "metadata": {
      "needs_background": "light"
     },
     "output_type": "display_data"
    }
   ],
   "source": [
    "chain_establishments = data[data['chain'] == True]\n",
    "non_chain_establishments = data[data['chain'] == False]\n",
    "\n",
    "# Calculate the average number of seats for chain and non-chain establishments\n",
    "avg_seats_chain = chain_establishments['number'].mean()\n",
    "avg_seats_non_chain = non_chain_establishments['number'].mean()\n",
    "\n",
    "# Create the grouped bar chart\n",
    "categories = ['Chain', 'Non-Chain']\n",
    "average_seats = [avg_seats_chain, avg_seats_non_chain]\n",
    "\n",
    "plt.figure(figsize=(8, 6))\n",
    "plt.bar(categories, average_seats)\n",
    "plt.xlabel('Establishment Type')\n",
    "plt.ylabel('Average Number of Seats')\n",
    "plt.title('Seating Patterns: Chains vs Non-Chains')\n",
    "\n",
    "# Display the chart\n",
    "plt.show()"
   ]
  },
  {
   "cell_type": "markdown",
   "metadata": {},
   "source": [
    "### Determine the average number of seats for each type of restaurant. On average, which type of restaurant has the greatest number of seats?"
   ]
  },
  {
   "cell_type": "markdown",
   "metadata": {},
   "source": [
    "To determine the average number of seats for each type of restaurant and identify the type of restaurant with the greatest average number of seats, we can group the data by the 'object_type' column and calculate the mean of the 'number' column within each group. "
   ]
  },
  {
   "cell_type": "code",
   "execution_count": 20,
   "metadata": {},
   "outputs": [
    {
     "data": {
      "text/plain": [
       "object_type\n",
       "Bakery        21.773852\n",
       "Bar           44.767123\n",
       "Cafe          25.000000\n",
       "Fast Food     31.837711\n",
       "Pizza         28.545455\n",
       "Restaurant    48.048807\n",
       "Name: number, dtype: float64"
      ]
     },
     "execution_count": 20,
     "metadata": {},
     "output_type": "execute_result"
    }
   ],
   "source": [
    "average_seats_by_type = data.groupby('object_type')['number'].mean()\n",
    "average_seats_by_type"
   ]
  },
  {
   "cell_type": "code",
   "execution_count": 21,
   "metadata": {},
   "outputs": [
    {
     "name": "stdout",
     "output_type": "stream",
     "text": [
      "Type of restaurant with the greatest average number of seats is Restaurant\n"
     ]
    }
   ],
   "source": [
    "# Find the type of restaurant with the greatest average number of seats\n",
    "restaurant_with_most_seats = average_seats_by_type.idxmax()\n",
    "\n",
    "# Print the type of restaurant with the greatest average number of seats\n",
    "print(\"Type of restaurant with the greatest average number of seats is\", restaurant_with_most_seats)"
   ]
  },
  {
   "cell_type": "markdown",
   "metadata": {},
   "source": [
    "To plot a graph representing the average number of seats for each type of restaurant, we can use a bar chart. This will allow for a visual comparison of the average number of seats across different restaurant types."
   ]
  },
  {
   "cell_type": "code",
   "execution_count": 22,
   "metadata": {
    "scrolled": false
   },
   "outputs": [
    {
     "data": {
      "image/png": "[encoded data removed]",
      "text/plain": [
       "<Figure size 720x432 with 1 Axes>"
      ]
     },
     "metadata": {
      "needs_background": "light"
     },
     "output_type": "display_data"
    }
   ],
   "source": [
    "# Create the bar chart\n",
    "plt.figure(figsize=(10, 6))\n",
    "average_seats_by_type.plot(kind='bar')\n",
    "plt.xlabel('Restaurant Type')\n",
    "plt.ylabel('Average Number of Seats')\n",
    "plt.title('Average Number of Seats by Restaurant Type')\n",
    "\n",
    "# Rotate x-axis labels by 45 degrees\n",
    "plt.xticks(rotation=0)\n",
    "\n",
    "# Display the chart\n",
    "plt.show()"
   ]
  },
  {
   "cell_type": "markdown",
   "metadata": {},
   "source": [
    "Based on the analysis performed, we can draw the following conclusions:\n",
    "\n",
    "- The average number of seats varies across different types of restaurants.\n",
    "- The type of restaurant with the greatest average number of seats is \"Restaurant.\"\n",
    "- Restaurants, on average, have the highest seating capacity compared to other types of establishments in the dataset.\n",
    "- Bars and Fast Food establishments also have relatively high average seating capacities.\n",
    "- Cafes, Bakeries, and Pizzas places have lower average seating capacities compared to the other types of restaurants."
   ]
  },
  {
   "cell_type": "markdown",
   "metadata": {},
   "source": [
    "### Put the data on street names from the address column in a separate column."
   ]
  },
  {
   "cell_type": "markdown",
   "metadata": {},
   "source": [
    "To extract the street names from the 'address' column and put them into a separate column, we can use string manipulation techniques in pandas. We create a new column named 'street_name' to store the extracted street names."
   ]
  },
  {
   "cell_type": "code",
   "execution_count": 23,
   "metadata": {},
   "outputs": [
    {
     "data": {
      "text/html": [
       "<div>\n",
       "<style scoped>\n",
       "    .dataframe tbody tr th:only-of-type {\n",
       "        vertical-align: middle;\n",
       "    }\n",
       "\n",
       "    .dataframe tbody tr th {\n",
       "        vertical-align: top;\n",
       "    }\n",
       "\n",
       "    .dataframe thead th {\n",
       "        text-align: right;\n",
       "    }\n",
       "</style>\n",
       "<table border=\"1\" class=\"dataframe\">\n",
       "  <thead>\n",
       "    <tr style=\"text-align: right;\">\n",
       "      <th></th>\n",
       "      <th>id</th>\n",
       "      <th>object_name</th>\n",
       "      <th>address</th>\n",
       "      <th>chain</th>\n",
       "      <th>object_type</th>\n",
       "      <th>number</th>\n",
       "    </tr>\n",
       "  </thead>\n",
       "  <tbody>\n",
       "    <tr>\n",
       "      <th>0</th>\n",
       "      <td>11786</td>\n",
       "      <td>HABITAT COFFEE SHOP</td>\n",
       "      <td>3708 N EAGLE ROCK BLVD</td>\n",
       "      <td>False</td>\n",
       "      <td>Cafe</td>\n",
       "      <td>26</td>\n",
       "    </tr>\n",
       "    <tr>\n",
       "      <th>1</th>\n",
       "      <td>11787</td>\n",
       "      <td>REILLY'S</td>\n",
       "      <td>100 WORLD WAY # 120</td>\n",
       "      <td>False</td>\n",
       "      <td>Restaurant</td>\n",
       "      <td>9</td>\n",
       "    </tr>\n",
       "    <tr>\n",
       "      <th>2</th>\n",
       "      <td>11788</td>\n",
       "      <td>STREET CHURROS</td>\n",
       "      <td>6801 HOLLYWOOD BLVD # 253</td>\n",
       "      <td>False</td>\n",
       "      <td>Fast Food</td>\n",
       "      <td>20</td>\n",
       "    </tr>\n",
       "    <tr>\n",
       "      <th>3</th>\n",
       "      <td>11789</td>\n",
       "      <td>TRINITI ECHO PARK</td>\n",
       "      <td>1814 W SUNSET BLVD</td>\n",
       "      <td>False</td>\n",
       "      <td>Restaurant</td>\n",
       "      <td>22</td>\n",
       "    </tr>\n",
       "    <tr>\n",
       "      <th>4</th>\n",
       "      <td>11790</td>\n",
       "      <td>POLLEN</td>\n",
       "      <td>2100 ECHO PARK AVE</td>\n",
       "      <td>False</td>\n",
       "      <td>Restaurant</td>\n",
       "      <td>20</td>\n",
       "    </tr>\n",
       "    <tr>\n",
       "      <th>5</th>\n",
       "      <td>11791</td>\n",
       "      <td>THE SPOT GRILL</td>\n",
       "      <td>10004 NATIONAL BLVD</td>\n",
       "      <td>False</td>\n",
       "      <td>Restaurant</td>\n",
       "      <td>14</td>\n",
       "    </tr>\n",
       "    <tr>\n",
       "      <th>6</th>\n",
       "      <td>11792</td>\n",
       "      <td>CPK</td>\n",
       "      <td>100 WORLD WAY # 126</td>\n",
       "      <td>False</td>\n",
       "      <td>Restaurant</td>\n",
       "      <td>100</td>\n",
       "    </tr>\n",
       "    <tr>\n",
       "      <th>7</th>\n",
       "      <td>11793</td>\n",
       "      <td>PHO LALA</td>\n",
       "      <td>3500 W 6TH ST STE 226</td>\n",
       "      <td>False</td>\n",
       "      <td>Restaurant</td>\n",
       "      <td>7</td>\n",
       "    </tr>\n",
       "    <tr>\n",
       "      <th>8</th>\n",
       "      <td>11794</td>\n",
       "      <td>ABC DONUTS</td>\n",
       "      <td>3027 N SAN FERNANDO RD UNIT 103</td>\n",
       "      <td>True</td>\n",
       "      <td>Fast Food</td>\n",
       "      <td>1</td>\n",
       "    </tr>\n",
       "    <tr>\n",
       "      <th>9</th>\n",
       "      <td>11795</td>\n",
       "      <td>UPSTAIRS</td>\n",
       "      <td>3707 N CAHUENGA BLVD</td>\n",
       "      <td>False</td>\n",
       "      <td>Restaurant</td>\n",
       "      <td>35</td>\n",
       "    </tr>\n",
       "    <tr>\n",
       "      <th>10</th>\n",
       "      <td>11796</td>\n",
       "      <td>EL POLLO LOCO</td>\n",
       "      <td>5319 W SUNSET BLVD</td>\n",
       "      <td>True</td>\n",
       "      <td>Restaurant</td>\n",
       "      <td>38</td>\n",
       "    </tr>\n",
       "  </tbody>\n",
       "</table>\n",
       "</div>"
      ],
      "text/plain": [
       "       id          object_name                          address  chain  \\\n",
       "0   11786  HABITAT COFFEE SHOP           3708 N EAGLE ROCK BLVD  False   \n",
       "1   11787             REILLY'S              100 WORLD WAY # 120  False   \n",
       "2   11788       STREET CHURROS        6801 HOLLYWOOD BLVD # 253  False   \n",
       "3   11789    TRINITI ECHO PARK               1814 W SUNSET BLVD  False   \n",
       "4   11790               POLLEN               2100 ECHO PARK AVE  False   \n",
       "5   11791       THE SPOT GRILL              10004 NATIONAL BLVD  False   \n",
       "6   11792                  CPK              100 WORLD WAY # 126  False   \n",
       "7   11793             PHO LALA            3500 W 6TH ST STE 226  False   \n",
       "8   11794           ABC DONUTS  3027 N SAN FERNANDO RD UNIT 103   True   \n",
       "9   11795             UPSTAIRS             3707 N CAHUENGA BLVD  False   \n",
       "10  11796        EL POLLO LOCO               5319 W SUNSET BLVD   True   \n",
       "\n",
       "   object_type  number  \n",
       "0         Cafe      26  \n",
       "1   Restaurant       9  \n",
       "2    Fast Food      20  \n",
       "3   Restaurant      22  \n",
       "4   Restaurant      20  \n",
       "5   Restaurant      14  \n",
       "6   Restaurant     100  \n",
       "7   Restaurant       7  \n",
       "8    Fast Food       1  \n",
       "9   Restaurant      35  \n",
       "10  Restaurant      38  "
      ]
     },
     "execution_count": 23,
     "metadata": {},
     "output_type": "execute_result"
    }
   ],
   "source": [
    "data.head(11)"
   ]
  },
  {
   "cell_type": "code",
   "execution_count": 24,
   "metadata": {},
   "outputs": [
    {
     "data": {
      "text/html": [
       "<div>\n",
       "<style scoped>\n",
       "    .dataframe tbody tr th:only-of-type {\n",
       "        vertical-align: middle;\n",
       "    }\n",
       "\n",
       "    .dataframe tbody tr th {\n",
       "        vertical-align: top;\n",
       "    }\n",
       "\n",
       "    .dataframe thead th {\n",
       "        text-align: right;\n",
       "    }\n",
       "</style>\n",
       "<table border=\"1\" class=\"dataframe\">\n",
       "  <thead>\n",
       "    <tr style=\"text-align: right;\">\n",
       "      <th></th>\n",
       "      <th>id</th>\n",
       "      <th>object_name</th>\n",
       "      <th>address</th>\n",
       "      <th>chain</th>\n",
       "      <th>object_type</th>\n",
       "      <th>number</th>\n",
       "      <th>street_name</th>\n",
       "    </tr>\n",
       "  </thead>\n",
       "  <tbody>\n",
       "    <tr>\n",
       "      <th>0</th>\n",
       "      <td>11786</td>\n",
       "      <td>HABITAT COFFEE SHOP</td>\n",
       "      <td>3708 N EAGLE ROCK BLVD</td>\n",
       "      <td>False</td>\n",
       "      <td>Cafe</td>\n",
       "      <td>26</td>\n",
       "      <td>N EAGLE ROCK BLVD</td>\n",
       "    </tr>\n",
       "    <tr>\n",
       "      <th>1</th>\n",
       "      <td>11787</td>\n",
       "      <td>REILLY'S</td>\n",
       "      <td>100 WORLD WAY # 120</td>\n",
       "      <td>False</td>\n",
       "      <td>Restaurant</td>\n",
       "      <td>9</td>\n",
       "      <td>WORLD WAY # 120</td>\n",
       "    </tr>\n",
       "    <tr>\n",
       "      <th>2</th>\n",
       "      <td>11788</td>\n",
       "      <td>STREET CHURROS</td>\n",
       "      <td>6801 HOLLYWOOD BLVD # 253</td>\n",
       "      <td>False</td>\n",
       "      <td>Fast Food</td>\n",
       "      <td>20</td>\n",
       "      <td>HOLLYWOOD BLVD # 253</td>\n",
       "    </tr>\n",
       "    <tr>\n",
       "      <th>3</th>\n",
       "      <td>11789</td>\n",
       "      <td>TRINITI ECHO PARK</td>\n",
       "      <td>1814 W SUNSET BLVD</td>\n",
       "      <td>False</td>\n",
       "      <td>Restaurant</td>\n",
       "      <td>22</td>\n",
       "      <td>W SUNSET BLVD</td>\n",
       "    </tr>\n",
       "    <tr>\n",
       "      <th>4</th>\n",
       "      <td>11790</td>\n",
       "      <td>POLLEN</td>\n",
       "      <td>2100 ECHO PARK AVE</td>\n",
       "      <td>False</td>\n",
       "      <td>Restaurant</td>\n",
       "      <td>20</td>\n",
       "      <td>ECHO PARK AVE</td>\n",
       "    </tr>\n",
       "    <tr>\n",
       "      <th>...</th>\n",
       "      <td>...</td>\n",
       "      <td>...</td>\n",
       "      <td>...</td>\n",
       "      <td>...</td>\n",
       "      <td>...</td>\n",
       "      <td>...</td>\n",
       "      <td>...</td>\n",
       "    </tr>\n",
       "    <tr>\n",
       "      <th>9646</th>\n",
       "      <td>21432</td>\n",
       "      <td>HALL OF JUSTICE</td>\n",
       "      <td>217 W TEMPLE AVE</td>\n",
       "      <td>False</td>\n",
       "      <td>Restaurant</td>\n",
       "      <td>122</td>\n",
       "      <td>W TEMPLE AVE</td>\n",
       "    </tr>\n",
       "    <tr>\n",
       "      <th>9647</th>\n",
       "      <td>21433</td>\n",
       "      <td>FIN-MELROSE</td>\n",
       "      <td>5750 MELROSE AVE</td>\n",
       "      <td>False</td>\n",
       "      <td>Restaurant</td>\n",
       "      <td>93</td>\n",
       "      <td>MELROSE AVE</td>\n",
       "    </tr>\n",
       "    <tr>\n",
       "      <th>9648</th>\n",
       "      <td>21434</td>\n",
       "      <td>JUICY WINGZ</td>\n",
       "      <td>6741 HOLLYWOOD BLVD</td>\n",
       "      <td>True</td>\n",
       "      <td>Fast Food</td>\n",
       "      <td>15</td>\n",
       "      <td>HOLLYWOOD BLVD</td>\n",
       "    </tr>\n",
       "    <tr>\n",
       "      <th>9649</th>\n",
       "      <td>21435</td>\n",
       "      <td>MEDIDATE COFFEE</td>\n",
       "      <td>548 S SPRING ST STE 100</td>\n",
       "      <td>False</td>\n",
       "      <td>Cafe</td>\n",
       "      <td>6</td>\n",
       "      <td>S SPRING ST STE 100</td>\n",
       "    </tr>\n",
       "    <tr>\n",
       "      <th>9650</th>\n",
       "      <td>21436</td>\n",
       "      <td>CAFE SPROUTS</td>\n",
       "      <td>1300 S SAN PEDRO ST STE 111</td>\n",
       "      <td>True</td>\n",
       "      <td>Restaurant</td>\n",
       "      <td>19</td>\n",
       "      <td>S SAN PEDRO ST STE 111</td>\n",
       "    </tr>\n",
       "  </tbody>\n",
       "</table>\n",
       "<p>9648 rows × 7 columns</p>\n",
       "</div>"
      ],
      "text/plain": [
       "         id          object_name                      address  chain  \\\n",
       "0     11786  HABITAT COFFEE SHOP       3708 N EAGLE ROCK BLVD  False   \n",
       "1     11787             REILLY'S          100 WORLD WAY # 120  False   \n",
       "2     11788       STREET CHURROS    6801 HOLLYWOOD BLVD # 253  False   \n",
       "3     11789    TRINITI ECHO PARK           1814 W SUNSET BLVD  False   \n",
       "4     11790               POLLEN           2100 ECHO PARK AVE  False   \n",
       "...     ...                  ...                          ...    ...   \n",
       "9646  21432      HALL OF JUSTICE             217 W TEMPLE AVE  False   \n",
       "9647  21433          FIN-MELROSE             5750 MELROSE AVE  False   \n",
       "9648  21434          JUICY WINGZ          6741 HOLLYWOOD BLVD   True   \n",
       "9649  21435      MEDIDATE COFFEE      548 S SPRING ST STE 100  False   \n",
       "9650  21436         CAFE SPROUTS  1300 S SAN PEDRO ST STE 111   True   \n",
       "\n",
       "     object_type  number             street_name  \n",
       "0           Cafe      26       N EAGLE ROCK BLVD  \n",
       "1     Restaurant       9         WORLD WAY # 120  \n",
       "2      Fast Food      20    HOLLYWOOD BLVD # 253  \n",
       "3     Restaurant      22           W SUNSET BLVD  \n",
       "4     Restaurant      20           ECHO PARK AVE  \n",
       "...          ...     ...                     ...  \n",
       "9646  Restaurant     122            W TEMPLE AVE  \n",
       "9647  Restaurant      93             MELROSE AVE  \n",
       "9648   Fast Food      15          HOLLYWOOD BLVD  \n",
       "9649        Cafe       6     S SPRING ST STE 100  \n",
       "9650  Restaurant      19  S SAN PEDRO ST STE 111  \n",
       "\n",
       "[9648 rows x 7 columns]"
      ]
     },
     "metadata": {},
     "output_type": "display_data"
    }
   ],
   "source": [
    "import re\n",
    "data['street_name'] = data['address'].replace('\\d+\\s','',regex=True)\n",
    "\n",
    "# Print the updated DataFrame\n",
    "display(data)"
   ]
  },
  {
   "cell_type": "markdown",
   "metadata": {},
   "source": [
    "Check null values"
   ]
  },
  {
   "cell_type": "code",
   "execution_count": 25,
   "metadata": {},
   "outputs": [
    {
     "data": {
      "text/plain": [
       "0"
      ]
     },
     "execution_count": 25,
     "metadata": {},
     "output_type": "execute_result"
    }
   ],
   "source": [
    "data['street_name'].isna().sum()"
   ]
  },
  {
   "cell_type": "markdown",
   "metadata": {},
   "source": [
    "Check the values for all columns"
   ]
  },
  {
   "cell_type": "code",
   "execution_count": 26,
   "metadata": {},
   "outputs": [
    {
     "name": "stdout",
     "output_type": "stream",
     "text": [
      "<class 'pandas.core.frame.DataFrame'>\n",
      "Int64Index: 9648 entries, 0 to 9650\n",
      "Data columns (total 7 columns):\n",
      " #   Column       Non-Null Count  Dtype \n",
      "---  ------       --------------  ----- \n",
      " 0   id           9648 non-null   int64 \n",
      " 1   object_name  9648 non-null   object\n",
      " 2   address      9648 non-null   object\n",
      " 3   chain        9648 non-null   object\n",
      " 4   object_type  9648 non-null   object\n",
      " 5   number       9648 non-null   int64 \n",
      " 6   street_name  9648 non-null   object\n",
      "dtypes: int64(2), object(5)\n",
      "memory usage: 603.0+ KB\n"
     ]
    }
   ],
   "source": [
    "data.info()"
   ]
  },
  {
   "cell_type": "markdown",
   "metadata": {},
   "source": [
    "### Plot a graph of the top ten streets by number of restaurants."
   ]
  },
  {
   "cell_type": "markdown",
   "metadata": {},
   "source": [
    "To do this, we can filter `object_type` by Restaurant and sort it by `street_name`."
   ]
  },
  {
   "cell_type": "code",
   "execution_count": 27,
   "metadata": {
    "scrolled": true
   },
   "outputs": [
    {
     "data": {
      "text/plain": [
       "W PICO BLVD          218\n",
       "W SUNSET BLVD        217\n",
       "HOLLYWOOD BLVD       136\n",
       "WILSHIRE BLVD        131\n",
       "W 3RD ST             119\n",
       "S VERMONT AVE        107\n",
       "SANTA MONICA BLVD    107\n",
       "W OLYMPIC BLVD       107\n",
       "MELROSE AVE          106\n",
       "BEVERLY BLVD         103\n",
       "Name: street_name, dtype: int64"
      ]
     },
     "metadata": {},
     "output_type": "display_data"
    }
   ],
   "source": [
    "top_ten_streets = data[data['object_type'] == 'Restaurant']['street_name'].value_counts().head(10)\n",
    "\n",
    "# Print the top ten streets\n",
    "display(top_ten_streets)"
   ]
  },
  {
   "cell_type": "markdown",
   "metadata": {},
   "source": [
    "To plot a graph of the top ten streets by the number of restaurants, we can use the barh() function."
   ]
  },
  {
   "cell_type": "code",
   "execution_count": 28,
   "metadata": {},
   "outputs": [
    {
     "data": {
      "image/png": "[encoded data removed]",
      "text/plain": [
       "<Figure size 576x432 with 1 Axes>"
      ]
     },
     "metadata": {
      "needs_background": "light"
     },
     "output_type": "display_data"
    }
   ],
   "source": [
    "streets = top_ten_streets.index\n",
    "restaurant_count = top_ten_streets.values\n",
    "\n",
    "# Plotting the horizontal bar chart\n",
    "plt.figure(figsize=(8, 6))\n",
    "plt.barh(streets, restaurant_count)\n",
    "\n",
    "# Adding value annotations to the bars\n",
    "for i, count in enumerate(restaurant_count):\n",
    "    plt.text(count, i, str(count), ha='left', va='center')\n",
    "\n",
    "# Labeling the axes and setting the title\n",
    "plt.xlabel('Number of Restaurants')\n",
    "plt.ylabel('Street Name')\n",
    "plt.title('Top Ten Streets by Number of Restaurants')\n",
    "\n",
    "# Displaying the plot\n",
    "plt.show()"
   ]
  },
  {
   "cell_type": "markdown",
   "metadata": {},
   "source": [
    "Based on the analysis and graph of the top ten streets by the number of restaurants, the following conclusions can be drawn:\n",
    "\n",
    "- W PICO BLVD and W SUNSET BLVD are the top two streets with the highest number of restaurants, followed by HOLLYWOOD BLVD, WILSHIRE BLVD, and W 3RD ST.\n",
    "- The concentration of restaurants on these streets suggests that they are popular dining destinations in the area.\n",
    "- These streets likely attract a significant amount of foot traffic, making them desirable locations for restaurants.\n",
    "- The presence of a high number of restaurants on these streets indicates a thriving food scene and potentially a diverse range of dining options.\n",
    "- Businesses looking to open a restaurant or food-related establishment may consider these top streets as potential locations due to their existing dining infrastructure and customer traffic.\n",
    "\n",
    "These streets have the highest concentration of restaurants, indicating that they are popular dining destinations. The presence of a large number of restaurants on these streets suggests a thriving food scene and potentially higher foot traffic, making them attractive locations for both locals and tourists. This information could be useful for analyzing restaurant trends, identifying competitive areas, or selecting potential locations for new restaurants or food-related businesses."
   ]
  },
  {
   "cell_type": "markdown",
   "metadata": {},
   "source": [
    "### Find the number of streets that only have one restaurant."
   ]
  },
  {
   "cell_type": "code",
   "execution_count": 29,
   "metadata": {},
   "outputs": [
    {
     "data": {
      "text/plain": [
       "BUNDY DR                   1\n",
       "LINCOLN BLVD # 104         1\n",
       "SANTA MONICA BLVD STE 1    1\n",
       "W 3RD ST STE #742          1\n",
       "S WESTERN AVE # 39         1\n",
       "                          ..\n",
       "S MAIN ST STE 404          1\n",
       "S SPRING ST STE B          1\n",
       "E FLORENCE AVE # C         1\n",
       "OLVERA ST 5                1\n",
       "N GRIFFITH PARK            1\n",
       "Name: street_name, Length: 1995, dtype: int64"
      ]
     },
     "execution_count": 29,
     "metadata": {},
     "output_type": "execute_result"
    }
   ],
   "source": [
    "street_counts = data[data['object_type'] == 'Restaurant']['street_name'].value_counts()\n",
    "streets_with_one_restaurant = street_counts[street_counts == 1]\n",
    "streets_with_one_restaurant"
   ]
  },
  {
   "cell_type": "code",
   "execution_count": 30,
   "metadata": {
    "scrolled": true
   },
   "outputs": [
    {
     "name": "stdout",
     "output_type": "stream",
     "text": [
      "Number of streets with only one restaurant: 1995\n"
     ]
    }
   ],
   "source": [
    "# Count the number of streets with only one restaurant\n",
    "num_streets_with_one_restaurant = len(streets_with_one_restaurant)\n",
    "\n",
    "# Print the result\n",
    "print(\"Number of streets with only one restaurant:\", num_streets_with_one_restaurant)"
   ]
  },
  {
   "cell_type": "markdown",
   "metadata": {},
   "source": [
    "Given the large number of streets with only one restaurant (1995 streets), creating a bar plot with all the streets might not be the most effective way to visualize the data. Instead, we can create a histogram to display the distribution of the number of restaurants per street."
   ]
  },
  {
   "cell_type": "code",
   "execution_count": 31,
   "metadata": {
    "scrolled": false
   },
   "outputs": [
    {
     "data": {
      "image/png": "[encoded data removed]",
      "text/plain": [
       "<Figure size 720x432 with 1 Axes>"
      ]
     },
     "metadata": {
      "needs_background": "light"
     },
     "output_type": "display_data"
    }
   ],
   "source": [
    "# Get the count of restaurants per street\n",
    "restaurant_counts = data[data['object_type'] == 'Restaurant']['street_name'].value_counts()\n",
    "\n",
    "# Filter streets with only one restaurant\n",
    "streets_with_one_restaurant = restaurant_counts[restaurant_counts == 1]\n",
    "\n",
    "# Get the count of streets with only one restaurant\n",
    "num_streets_with_one_restaurant = len(streets_with_one_restaurant)\n",
    "\n",
    "# Create the histogram\n",
    "plt.figure(figsize=(10, 6))\n",
    "plt.hist(restaurant_counts, bins=20, edgecolor='black')\n",
    "\n",
    "plt.xlabel('Number of Restaurants')\n",
    "plt.ylabel('Number of Streets')\n",
    "plt.title('Distribution of Restaurants per Street')\n",
    "\n",
    "# Add a vertical line to indicate streets with only one restaurant\n",
    "plt.axvline(x=1, color='red', linestyle='dashed', linewidth=2, label='Streets with One Restaurant')\n",
    "\n",
    "# Set x-axis limit to 110\n",
    "plt.xlim(0, 110)\n",
    "\n",
    "plt.legend()\n",
    "plt.tight_layout()\n",
    "plt.show()"
   ]
  },
  {
   "cell_type": "markdown",
   "metadata": {},
   "source": [
    "Conclusion:\n",
    "- There are a total of 1,995 streets in the dataset that have only one restaurant.\n",
    "- The distribution of the number of restaurants per street shows that the majority of streets have a small number of restaurants.\n",
    "- The histogram indicates that the most common scenario is one restaurant per street, as the bin with one restaurant has the highest frequency.\n",
    "- The presence of a large number of streets with only one restaurant suggests a diverse distribution of restaurants across different streets rather than clustering in specific areas.\n",
    "- These streets with only one restaurant might represent unique dining destinations or less crowded areas for restaurant establishments.\n",
    "- The red dashed line in the histogram represents the threshold of streets with only one restaurant, highlighting their distinct count compared to streets with multiple restaurants."
   ]
  },
  {
   "cell_type": "markdown",
   "metadata": {},
   "source": [
    "### For streets with a lot of restaurants, look at the distribution of the number of seats. What trends can you see?"
   ]
  },
  {
   "cell_type": "markdown",
   "metadata": {},
   "source": [
    "To analyze the distribution of the number of seats for streets with a lot of restaurants, we can focus on the streets with a high frequency of restaurants and examine the trends in their seating capacity."
   ]
  },
  {
   "cell_type": "code",
   "execution_count": 32,
   "metadata": {},
   "outputs": [],
   "source": [
    "restaurant_streets = data[data['object_type'] == 'Restaurant']['street_name']\n",
    "\n",
    "# Select streets with a high frequency of restaurants\n",
    "high_freq_streets = restaurant_streets.value_counts().head(3).index\n",
    "\n",
    "# Filter the data for the selected streets\n",
    "selected_data = data[data['street_name'].isin(high_freq_streets)]\n"
   ]
  },
  {
   "cell_type": "code",
   "execution_count": 33,
   "metadata": {},
   "outputs": [],
   "source": [
    "selected_data_sorted = selected_data.sort_values(by='number', ascending=False)"
   ]
  },
  {
   "cell_type": "code",
   "execution_count": 34,
   "metadata": {},
   "outputs": [
    {
     "data": {
      "text/html": [
       "<div>\n",
       "<style scoped>\n",
       "    .dataframe tbody tr th:only-of-type {\n",
       "        vertical-align: middle;\n",
       "    }\n",
       "\n",
       "    .dataframe tbody tr th {\n",
       "        vertical-align: top;\n",
       "    }\n",
       "\n",
       "    .dataframe thead th {\n",
       "        text-align: right;\n",
       "    }\n",
       "</style>\n",
       "<table border=\"1\" class=\"dataframe\">\n",
       "  <thead>\n",
       "    <tr style=\"text-align: right;\">\n",
       "      <th></th>\n",
       "      <th>id</th>\n",
       "      <th>object_name</th>\n",
       "      <th>address</th>\n",
       "      <th>chain</th>\n",
       "      <th>object_type</th>\n",
       "      <th>number</th>\n",
       "      <th>street_name</th>\n",
       "    </tr>\n",
       "  </thead>\n",
       "  <tbody>\n",
       "    <tr>\n",
       "      <th>5091</th>\n",
       "      <td>16877</td>\n",
       "      <td>BOULEVARD 3</td>\n",
       "      <td>6523 W SUNSET BLVD</td>\n",
       "      <td>False</td>\n",
       "      <td>Restaurant</td>\n",
       "      <td>229</td>\n",
       "      <td>W SUNSET BLVD</td>\n",
       "    </tr>\n",
       "    <tr>\n",
       "      <th>4626</th>\n",
       "      <td>16412</td>\n",
       "      <td>PLAYHOUSE</td>\n",
       "      <td>6506 HOLLYWOOD BLVD</td>\n",
       "      <td>False</td>\n",
       "      <td>Restaurant</td>\n",
       "      <td>229</td>\n",
       "      <td>HOLLYWOOD BLVD</td>\n",
       "    </tr>\n",
       "    <tr>\n",
       "      <th>8892</th>\n",
       "      <td>20678</td>\n",
       "      <td>LOWBOY</td>\n",
       "      <td>1536 W SUNSET BLVD</td>\n",
       "      <td>False</td>\n",
       "      <td>Restaurant</td>\n",
       "      <td>228</td>\n",
       "      <td>W SUNSET BLVD</td>\n",
       "    </tr>\n",
       "    <tr>\n",
       "      <th>2810</th>\n",
       "      <td>14596</td>\n",
       "      <td>BANQUET KITCHEN (2ND FLOOR)</td>\n",
       "      <td>6250 HOLLYWOOD BLVD</td>\n",
       "      <td>False</td>\n",
       "      <td>Restaurant</td>\n",
       "      <td>222</td>\n",
       "      <td>HOLLYWOOD BLVD</td>\n",
       "    </tr>\n",
       "    <tr>\n",
       "      <th>4020</th>\n",
       "      <td>15806</td>\n",
       "      <td>AROMA BAKERY CAFE</td>\n",
       "      <td>7373 W SUNSET BLVD</td>\n",
       "      <td>True</td>\n",
       "      <td>Bakery</td>\n",
       "      <td>218</td>\n",
       "      <td>W SUNSET BLVD</td>\n",
       "    </tr>\n",
       "  </tbody>\n",
       "</table>\n",
       "</div>"
      ],
      "text/plain": [
       "         id                  object_name              address  chain  \\\n",
       "5091  16877                  BOULEVARD 3   6523 W SUNSET BLVD  False   \n",
       "4626  16412                    PLAYHOUSE  6506 HOLLYWOOD BLVD  False   \n",
       "8892  20678                       LOWBOY   1536 W SUNSET BLVD  False   \n",
       "2810  14596  BANQUET KITCHEN (2ND FLOOR)  6250 HOLLYWOOD BLVD  False   \n",
       "4020  15806            AROMA BAKERY CAFE   7373 W SUNSET BLVD   True   \n",
       "\n",
       "     object_type  number     street_name  \n",
       "5091  Restaurant     229   W SUNSET BLVD  \n",
       "4626  Restaurant     229  HOLLYWOOD BLVD  \n",
       "8892  Restaurant     228   W SUNSET BLVD  \n",
       "2810  Restaurant     222  HOLLYWOOD BLVD  \n",
       "4020      Bakery     218   W SUNSET BLVD  "
      ]
     },
     "execution_count": 34,
     "metadata": {},
     "output_type": "execute_result"
    }
   ],
   "source": [
    "selected_data_sorted.head()"
   ]
  },
  {
   "cell_type": "code",
   "execution_count": 35,
   "metadata": {
    "scrolled": false
   },
   "outputs": [
    {
     "data": {
      "image/png": "[encoded data removed]",
      "text/plain": [
       "<Figure size 720x432 with 1 Axes>"
      ]
     },
     "metadata": {
      "needs_background": "light"
     },
     "output_type": "display_data"
    }
   ],
   "source": [
    "# Plot the distribution of the number of seats for each street\n",
    "plt.figure(figsize=(10, 6))\n",
    "for street in high_freq_streets:\n",
    "    street_data = selected_data[selected_data['street_name'] == street]\n",
    "    plt.hist(street_data['number'], bins=10, alpha=0.3, label=street)\n",
    "\n",
    "plt.xlabel('Number of Seats')\n",
    "plt.ylabel('Frequency')\n",
    "plt.legend()\n",
    "plt.title('Distribution of Number of Seats for Streets with High Frequency of Restaurants')\n",
    "plt.show()"
   ]
  },
  {
   "cell_type": "markdown",
   "metadata": {},
   "source": [
    "Based on the provided data, we can observe the following trends:\n",
    "\n",
    "- Sunset Blvd (W Sunset Blvd) and Hollywood Blvd are prominent streets with a high number of restaurants. These streets have the highest counts of restaurants, with Boulevard 3 on W Sunset Blvd and Playhouse on Hollywood Blvd having the highest number of 229.\n",
    "\n",
    "- There is a mix of chain and non-chain establishments in the top restaurants on these streets. Both Boulevard 3 and Playhouse are non-chain restaurants, indicating that independent establishments can thrive in popular areas.\n",
    "\n",
    "- The object types vary among the top restaurants on these streets. They include restaurants, bakeries, and even a banquet kitchen on the 2nd floor, showcasing a diverse culinary scene in these areas.\n",
    "\n",
    "- The addresses of the restaurants suggest that they are located in popular and bustling areas, attracting a significant number of customers. This could indicate that these streets are desirable locations for food businesses.\n",
    "\n",
    "- Overall, the trends suggest that Sunset Blvd and Hollywood Blvd are vibrant dining destinations, offering a range of restaurant options and attracting both chain and independent establishments. These streets are likely popular among locals and visitors alike for their diverse culinary experiences."
   ]
  },
  {
   "cell_type": "markdown",
   "metadata": {},
   "source": [
    "## Step 3 - Presentation Slide"
   ]
  },
  {
   "cell_type": "markdown",
   "metadata": {},
   "source": [
    "Presentation: <https://1drv.ms/b/s!AnExurjMILz7omKlqqSB04lNZZD6?e=3T3TX7> "
   ]
  }
 ],
 "metadata": {
  "kernelspec": {
   "display_name": "Python 3 (ipykernel)",
   "language": "python",
   "name": "python3"
  },
  "language_info": {
   "codemirror_mode": {
    "name": "ipython",
    "version": 3
   },
   "file_extension": ".py",
   "mimetype": "text/x-python",
   "name": "python",
   "nbconvert_exporter": "python",
   "pygments_lexer": "ipython3",
   "version": "3.9.5"
  },
  "toc": {
   "base_numbering": 1,
   "nav_menu": {},
   "number_sections": true,
   "sideBar": true,
   "skip_h1_title": true,
   "title_cell": "Table of Contents",
   "title_sidebar": "Contents",
   "toc_cell": false,
   "toc_position": {
    "height": "calc(100% - 180px)",
    "left": "10px",
    "top": "150px",
    "width": "165px"
   },
   "toc_section_display": true,
   "toc_window_display": true
  }
 },
 "nbformat": 4,
 "nbformat_minor": 2
}
