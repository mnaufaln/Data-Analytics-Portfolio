{
 "cells": [
  {
   "cell_type": "markdown",
   "metadata": {},
   "source": [
    "## Project description\n",
    "\n",
    "You are an analyst at a big online store. Together with the marketing department, you've compiled a list of hypotheses that may help boost revenue.\n",
    "You need to prioritize these hypotheses, launch an A/B test, and analyze the results."
   ]
  },
  {
   "cell_type": "markdown",
   "metadata": {},
   "source": [
    "## Import Data"
   ]
  },
  {
   "cell_type": "code",
   "execution_count": 1,
   "metadata": {},
   "outputs": [],
   "source": [
    "# Loading all the libraries\n",
    "import pandas as pd\n",
    "import math\n",
    "import numpy as np\n",
    "import matplotlib.pyplot as plt\n",
    "import seaborn as sns\n",
    "import scipy.stats as stats"
   ]
  },
  {
   "cell_type": "markdown",
   "metadata": {},
   "source": [
    "## Load Data"
   ]
  },
  {
   "cell_type": "code",
   "execution_count": 2,
   "metadata": {},
   "outputs": [],
   "source": [
    "try:\n",
    "    hypotheses_df = pd.read_csv(\"hypotheses_us.csv\", sep=';')\n",
    "    orders_df = pd.read_csv(\"orders_us.csv\")\n",
    "    visits_df = pd.read_csv(\"visits_us.csv\")\n",
    "except:\n",
    "    hypotheses_df = pd.read_csv(\"/datasets/hypotheses_us.csv\", sep=';')\n",
    "    orders_df = pd.read_csv(\"/datasets/orders_us.csv\")\n",
    "    visits_df = pd.read_csv(\"/datasets/visits_us.csv\")"
   ]
  },
  {
   "cell_type": "markdown",
   "metadata": {},
   "source": []
  },
  {
   "cell_type": "code",
   "execution_count": 3,
   "metadata": {
    "scrolled": false
   },
   "outputs": [
    {
     "data": {
      "text/html": [
       "<div>\n",
       "<style scoped>\n",
       "    .dataframe tbody tr th:only-of-type {\n",
       "        vertical-align: middle;\n",
       "    }\n",
       "\n",
       "    .dataframe tbody tr th {\n",
       "        vertical-align: top;\n",
       "    }\n",
       "\n",
       "    .dataframe thead th {\n",
       "        text-align: right;\n",
       "    }\n",
       "</style>\n",
       "<table border=\"1\" class=\"dataframe\">\n",
       "  <thead>\n",
       "    <tr style=\"text-align: right;\">\n",
       "      <th></th>\n",
       "      <th>Hypothesis</th>\n",
       "      <th>Reach</th>\n",
       "      <th>Impact</th>\n",
       "      <th>Confidence</th>\n",
       "      <th>Effort</th>\n",
       "    </tr>\n",
       "  </thead>\n",
       "  <tbody>\n",
       "    <tr>\n",
       "      <th>0</th>\n",
       "      <td>Add two new channels for attracting traffic. T...</td>\n",
       "      <td>3</td>\n",
       "      <td>10</td>\n",
       "      <td>8</td>\n",
       "      <td>6</td>\n",
       "    </tr>\n",
       "    <tr>\n",
       "      <th>1</th>\n",
       "      <td>Launch your own delivery service. This will sh...</td>\n",
       "      <td>2</td>\n",
       "      <td>5</td>\n",
       "      <td>4</td>\n",
       "      <td>10</td>\n",
       "    </tr>\n",
       "    <tr>\n",
       "      <th>2</th>\n",
       "      <td>Add product recommendation blocks to the store...</td>\n",
       "      <td>8</td>\n",
       "      <td>3</td>\n",
       "      <td>7</td>\n",
       "      <td>3</td>\n",
       "    </tr>\n",
       "    <tr>\n",
       "      <th>3</th>\n",
       "      <td>Change the category structure. This will incre...</td>\n",
       "      <td>8</td>\n",
       "      <td>3</td>\n",
       "      <td>3</td>\n",
       "      <td>8</td>\n",
       "    </tr>\n",
       "    <tr>\n",
       "      <th>4</th>\n",
       "      <td>Change the background color on the main page. ...</td>\n",
       "      <td>3</td>\n",
       "      <td>1</td>\n",
       "      <td>1</td>\n",
       "      <td>1</td>\n",
       "    </tr>\n",
       "  </tbody>\n",
       "</table>\n",
       "</div>"
      ],
      "text/plain": [
       "                                          Hypothesis  Reach  Impact  \\\n",
       "0  Add two new channels for attracting traffic. T...      3      10   \n",
       "1  Launch your own delivery service. This will sh...      2       5   \n",
       "2  Add product recommendation blocks to the store...      8       3   \n",
       "3  Change the category structure. This will incre...      8       3   \n",
       "4  Change the background color on the main page. ...      3       1   \n",
       "\n",
       "   Confidence  Effort  \n",
       "0           8       6  \n",
       "1           4      10  \n",
       "2           7       3  \n",
       "3           3       8  \n",
       "4           1       1  "
      ]
     },
     "execution_count": 3,
     "metadata": {},
     "output_type": "execute_result"
    }
   ],
   "source": [
    "hypotheses_df.head()"
   ]
  },
  {
   "cell_type": "code",
   "execution_count": 4,
   "metadata": {},
   "outputs": [
    {
     "data": {
      "text/html": [
       "<div>\n",
       "<style scoped>\n",
       "    .dataframe tbody tr th:only-of-type {\n",
       "        vertical-align: middle;\n",
       "    }\n",
       "\n",
       "    .dataframe tbody tr th {\n",
       "        vertical-align: top;\n",
       "    }\n",
       "\n",
       "    .dataframe thead th {\n",
       "        text-align: right;\n",
       "    }\n",
       "</style>\n",
       "<table border=\"1\" class=\"dataframe\">\n",
       "  <thead>\n",
       "    <tr style=\"text-align: right;\">\n",
       "      <th></th>\n",
       "      <th>Hypothesis</th>\n",
       "      <th>Reach</th>\n",
       "      <th>Impact</th>\n",
       "      <th>Confidence</th>\n",
       "      <th>Effort</th>\n",
       "    </tr>\n",
       "  </thead>\n",
       "  <tbody>\n",
       "    <tr>\n",
       "      <th>0</th>\n",
       "      <td>Add two new channels for attracting traffic. This will bring 30% more users</td>\n",
       "      <td>3</td>\n",
       "      <td>10</td>\n",
       "      <td>8</td>\n",
       "      <td>6</td>\n",
       "    </tr>\n",
       "    <tr>\n",
       "      <th>1</th>\n",
       "      <td>Launch your own delivery service. This will shorten delivery time</td>\n",
       "      <td>2</td>\n",
       "      <td>5</td>\n",
       "      <td>4</td>\n",
       "      <td>10</td>\n",
       "    </tr>\n",
       "    <tr>\n",
       "      <th>2</th>\n",
       "      <td>Add product recommendation blocks to the store's site. This will increase conversion and average purchase size</td>\n",
       "      <td>8</td>\n",
       "      <td>3</td>\n",
       "      <td>7</td>\n",
       "      <td>3</td>\n",
       "    </tr>\n",
       "    <tr>\n",
       "      <th>3</th>\n",
       "      <td>Change the category structure. This will increase conversion since users will find the products they want more quickly</td>\n",
       "      <td>8</td>\n",
       "      <td>3</td>\n",
       "      <td>3</td>\n",
       "      <td>8</td>\n",
       "    </tr>\n",
       "    <tr>\n",
       "      <th>4</th>\n",
       "      <td>Change the background color on the main page. This will increase user engagement</td>\n",
       "      <td>3</td>\n",
       "      <td>1</td>\n",
       "      <td>1</td>\n",
       "      <td>1</td>\n",
       "    </tr>\n",
       "    <tr>\n",
       "      <th>5</th>\n",
       "      <td>Add a customer review page. This will increase the number of orders</td>\n",
       "      <td>3</td>\n",
       "      <td>2</td>\n",
       "      <td>2</td>\n",
       "      <td>3</td>\n",
       "    </tr>\n",
       "    <tr>\n",
       "      <th>6</th>\n",
       "      <td>Show banners with current offers and sales on the main page. This will boost conversion</td>\n",
       "      <td>5</td>\n",
       "      <td>3</td>\n",
       "      <td>8</td>\n",
       "      <td>3</td>\n",
       "    </tr>\n",
       "    <tr>\n",
       "      <th>7</th>\n",
       "      <td>Add a subscription form to all the main pages. This will help you compile a mailing list</td>\n",
       "      <td>10</td>\n",
       "      <td>7</td>\n",
       "      <td>8</td>\n",
       "      <td>5</td>\n",
       "    </tr>\n",
       "    <tr>\n",
       "      <th>8</th>\n",
       "      <td>Launch a promotion that gives users discounts on their birthdays</td>\n",
       "      <td>1</td>\n",
       "      <td>9</td>\n",
       "      <td>9</td>\n",
       "      <td>5</td>\n",
       "    </tr>\n",
       "  </tbody>\n",
       "</table>\n",
       "</div>"
      ],
      "text/plain": [
       "                                                                                                               Hypothesis  \\\n",
       "0                                             Add two new channels for attracting traffic. This will bring 30% more users   \n",
       "1                                                       Launch your own delivery service. This will shorten delivery time   \n",
       "2          Add product recommendation blocks to the store's site. This will increase conversion and average purchase size   \n",
       "3  Change the category structure. This will increase conversion since users will find the products they want more quickly   \n",
       "4                                        Change the background color on the main page. This will increase user engagement   \n",
       "5                                                     Add a customer review page. This will increase the number of orders   \n",
       "6                                 Show banners with current offers and sales on the main page. This will boost conversion   \n",
       "7                                Add a subscription form to all the main pages. This will help you compile a mailing list   \n",
       "8                                                        Launch a promotion that gives users discounts on their birthdays   \n",
       "\n",
       "   Reach  Impact  Confidence  Effort  \n",
       "0      3      10           8       6  \n",
       "1      2       5           4      10  \n",
       "2      8       3           7       3  \n",
       "3      8       3           3       8  \n",
       "4      3       1           1       1  \n",
       "5      3       2           2       3  \n",
       "6      5       3           8       3  \n",
       "7     10       7           8       5  \n",
       "8      1       9           9       5  "
      ]
     },
     "metadata": {},
     "output_type": "display_data"
    }
   ],
   "source": [
    "# Set the maximum width for the \"Hypothesis\" column\n",
    "pd.set_option('display.max_colwidth', None)\n",
    "\n",
    "# Display the DataFrame\n",
    "display(hypotheses_df)"
   ]
  },
  {
   "cell_type": "code",
   "execution_count": 5,
   "metadata": {
    "scrolled": false
   },
   "outputs": [
    {
     "name": "stdout",
     "output_type": "stream",
     "text": [
      "<class 'pandas.core.frame.DataFrame'>\n",
      "RangeIndex: 9 entries, 0 to 8\n",
      "Data columns (total 5 columns):\n",
      " #   Column      Non-Null Count  Dtype \n",
      "---  ------      --------------  ----- \n",
      " 0   Hypothesis  9 non-null      object\n",
      " 1   Reach       9 non-null      int64 \n",
      " 2   Impact      9 non-null      int64 \n",
      " 3   Confidence  9 non-null      int64 \n",
      " 4   Effort      9 non-null      int64 \n",
      "dtypes: int64(4), object(1)\n",
      "memory usage: 488.0+ bytes\n"
     ]
    }
   ],
   "source": [
    "hypotheses_df.info()"
   ]
  },
  {
   "cell_type": "code",
   "execution_count": 6,
   "metadata": {
    "scrolled": true
   },
   "outputs": [
    {
     "data": {
      "text/html": [
       "<div>\n",
       "<style scoped>\n",
       "    .dataframe tbody tr th:only-of-type {\n",
       "        vertical-align: middle;\n",
       "    }\n",
       "\n",
       "    .dataframe tbody tr th {\n",
       "        vertical-align: top;\n",
       "    }\n",
       "\n",
       "    .dataframe thead th {\n",
       "        text-align: right;\n",
       "    }\n",
       "</style>\n",
       "<table border=\"1\" class=\"dataframe\">\n",
       "  <thead>\n",
       "    <tr style=\"text-align: right;\">\n",
       "      <th></th>\n",
       "      <th>transactionId</th>\n",
       "      <th>visitorId</th>\n",
       "      <th>date</th>\n",
       "      <th>revenue</th>\n",
       "      <th>group</th>\n",
       "    </tr>\n",
       "  </thead>\n",
       "  <tbody>\n",
       "    <tr>\n",
       "      <th>0</th>\n",
       "      <td>3667963787</td>\n",
       "      <td>3312258926</td>\n",
       "      <td>2019-08-15</td>\n",
       "      <td>30.4</td>\n",
       "      <td>B</td>\n",
       "    </tr>\n",
       "    <tr>\n",
       "      <th>1</th>\n",
       "      <td>2804400009</td>\n",
       "      <td>3642806036</td>\n",
       "      <td>2019-08-15</td>\n",
       "      <td>15.2</td>\n",
       "      <td>B</td>\n",
       "    </tr>\n",
       "    <tr>\n",
       "      <th>2</th>\n",
       "      <td>2961555356</td>\n",
       "      <td>4069496402</td>\n",
       "      <td>2019-08-15</td>\n",
       "      <td>10.2</td>\n",
       "      <td>A</td>\n",
       "    </tr>\n",
       "    <tr>\n",
       "      <th>3</th>\n",
       "      <td>3797467345</td>\n",
       "      <td>1196621759</td>\n",
       "      <td>2019-08-15</td>\n",
       "      <td>155.1</td>\n",
       "      <td>B</td>\n",
       "    </tr>\n",
       "    <tr>\n",
       "      <th>4</th>\n",
       "      <td>2282983706</td>\n",
       "      <td>2322279887</td>\n",
       "      <td>2019-08-15</td>\n",
       "      <td>40.5</td>\n",
       "      <td>B</td>\n",
       "    </tr>\n",
       "  </tbody>\n",
       "</table>\n",
       "</div>"
      ],
      "text/plain": [
       "   transactionId   visitorId        date  revenue group\n",
       "0     3667963787  3312258926  2019-08-15     30.4     B\n",
       "1     2804400009  3642806036  2019-08-15     15.2     B\n",
       "2     2961555356  4069496402  2019-08-15     10.2     A\n",
       "3     3797467345  1196621759  2019-08-15    155.1     B\n",
       "4     2282983706  2322279887  2019-08-15     40.5     B"
      ]
     },
     "execution_count": 6,
     "metadata": {},
     "output_type": "execute_result"
    }
   ],
   "source": [
    "orders_df.head()"
   ]
  },
  {
   "cell_type": "code",
   "execution_count": 7,
   "metadata": {},
   "outputs": [
    {
     "name": "stdout",
     "output_type": "stream",
     "text": [
      "<class 'pandas.core.frame.DataFrame'>\n",
      "RangeIndex: 1197 entries, 0 to 1196\n",
      "Data columns (total 5 columns):\n",
      " #   Column         Non-Null Count  Dtype  \n",
      "---  ------         --------------  -----  \n",
      " 0   transactionId  1197 non-null   int64  \n",
      " 1   visitorId      1197 non-null   int64  \n",
      " 2   date           1197 non-null   object \n",
      " 3   revenue        1197 non-null   float64\n",
      " 4   group          1197 non-null   object \n",
      "dtypes: float64(1), int64(2), object(2)\n",
      "memory usage: 46.9+ KB\n"
     ]
    }
   ],
   "source": [
    "orders_df.info()"
   ]
  },
  {
   "cell_type": "code",
   "execution_count": 8,
   "metadata": {
    "scrolled": true
   },
   "outputs": [
    {
     "data": {
      "text/html": [
       "<div>\n",
       "<style scoped>\n",
       "    .dataframe tbody tr th:only-of-type {\n",
       "        vertical-align: middle;\n",
       "    }\n",
       "\n",
       "    .dataframe tbody tr th {\n",
       "        vertical-align: top;\n",
       "    }\n",
       "\n",
       "    .dataframe thead th {\n",
       "        text-align: right;\n",
       "    }\n",
       "</style>\n",
       "<table border=\"1\" class=\"dataframe\">\n",
       "  <thead>\n",
       "    <tr style=\"text-align: right;\">\n",
       "      <th></th>\n",
       "      <th>date</th>\n",
       "      <th>group</th>\n",
       "      <th>visits</th>\n",
       "    </tr>\n",
       "  </thead>\n",
       "  <tbody>\n",
       "    <tr>\n",
       "      <th>0</th>\n",
       "      <td>2019-08-01</td>\n",
       "      <td>A</td>\n",
       "      <td>719</td>\n",
       "    </tr>\n",
       "    <tr>\n",
       "      <th>1</th>\n",
       "      <td>2019-08-02</td>\n",
       "      <td>A</td>\n",
       "      <td>619</td>\n",
       "    </tr>\n",
       "    <tr>\n",
       "      <th>2</th>\n",
       "      <td>2019-08-03</td>\n",
       "      <td>A</td>\n",
       "      <td>507</td>\n",
       "    </tr>\n",
       "    <tr>\n",
       "      <th>3</th>\n",
       "      <td>2019-08-04</td>\n",
       "      <td>A</td>\n",
       "      <td>717</td>\n",
       "    </tr>\n",
       "    <tr>\n",
       "      <th>4</th>\n",
       "      <td>2019-08-05</td>\n",
       "      <td>A</td>\n",
       "      <td>756</td>\n",
       "    </tr>\n",
       "  </tbody>\n",
       "</table>\n",
       "</div>"
      ],
      "text/plain": [
       "         date group  visits\n",
       "0  2019-08-01     A     719\n",
       "1  2019-08-02     A     619\n",
       "2  2019-08-03     A     507\n",
       "3  2019-08-04     A     717\n",
       "4  2019-08-05     A     756"
      ]
     },
     "execution_count": 8,
     "metadata": {},
     "output_type": "execute_result"
    }
   ],
   "source": [
    "visits_df.head()"
   ]
  },
  {
   "cell_type": "code",
   "execution_count": 9,
   "metadata": {},
   "outputs": [
    {
     "name": "stdout",
     "output_type": "stream",
     "text": [
      "<class 'pandas.core.frame.DataFrame'>\n",
      "RangeIndex: 62 entries, 0 to 61\n",
      "Data columns (total 3 columns):\n",
      " #   Column  Non-Null Count  Dtype \n",
      "---  ------  --------------  ----- \n",
      " 0   date    62 non-null     object\n",
      " 1   group   62 non-null     object\n",
      " 2   visits  62 non-null     int64 \n",
      "dtypes: int64(1), object(2)\n",
      "memory usage: 1.6+ KB\n"
     ]
    }
   ],
   "source": [
    "visits_df.info()"
   ]
  },
  {
   "cell_type": "markdown",
   "metadata": {},
   "source": [
    "### Enrich Data"
   ]
  },
  {
   "cell_type": "markdown",
   "metadata": {},
   "source": [
    "Rename the columns in the `orders_df` DataFrame to lowercase"
   ]
  },
  {
   "cell_type": "code",
   "execution_count": 10,
   "metadata": {
    "scrolled": true
   },
   "outputs": [
    {
     "name": "stdout",
     "output_type": "stream",
     "text": [
      "   transactionid   visitorid        date  revenue group\n",
      "0     3667963787  3312258926  2019-08-15     30.4     B\n",
      "1     2804400009  3642806036  2019-08-15     15.2     B\n",
      "2     2961555356  4069496402  2019-08-15     10.2     A\n",
      "3     3797467345  1196621759  2019-08-15    155.1     B\n",
      "4     2282983706  2322279887  2019-08-15     40.5     B\n"
     ]
    }
   ],
   "source": [
    "# Rename the columns to lowercase\n",
    "orders_df = orders_df.rename(columns=str.lower)\n",
    "\n",
    "# Display the updated DataFrame\n",
    "print(orders_df.head())\n"
   ]
  },
  {
   "cell_type": "markdown",
   "metadata": {},
   "source": [
    "Rename the columns in the `hypotheses_df` DataFrame to lowercase"
   ]
  },
  {
   "cell_type": "code",
   "execution_count": 11,
   "metadata": {
    "scrolled": false
   },
   "outputs": [
    {
     "data": {
      "text/html": [
       "<div>\n",
       "<style scoped>\n",
       "    .dataframe tbody tr th:only-of-type {\n",
       "        vertical-align: middle;\n",
       "    }\n",
       "\n",
       "    .dataframe tbody tr th {\n",
       "        vertical-align: top;\n",
       "    }\n",
       "\n",
       "    .dataframe thead th {\n",
       "        text-align: right;\n",
       "    }\n",
       "</style>\n",
       "<table border=\"1\" class=\"dataframe\">\n",
       "  <thead>\n",
       "    <tr style=\"text-align: right;\">\n",
       "      <th></th>\n",
       "      <th>hypothesis</th>\n",
       "      <th>reach</th>\n",
       "      <th>impact</th>\n",
       "      <th>confidence</th>\n",
       "      <th>effort</th>\n",
       "    </tr>\n",
       "  </thead>\n",
       "  <tbody>\n",
       "    <tr>\n",
       "      <th>0</th>\n",
       "      <td>Add two new channels for attracting traffic. This will bring 30% more users</td>\n",
       "      <td>3</td>\n",
       "      <td>10</td>\n",
       "      <td>8</td>\n",
       "      <td>6</td>\n",
       "    </tr>\n",
       "    <tr>\n",
       "      <th>1</th>\n",
       "      <td>Launch your own delivery service. This will shorten delivery time</td>\n",
       "      <td>2</td>\n",
       "      <td>5</td>\n",
       "      <td>4</td>\n",
       "      <td>10</td>\n",
       "    </tr>\n",
       "    <tr>\n",
       "      <th>2</th>\n",
       "      <td>Add product recommendation blocks to the store's site. This will increase conversion and average purchase size</td>\n",
       "      <td>8</td>\n",
       "      <td>3</td>\n",
       "      <td>7</td>\n",
       "      <td>3</td>\n",
       "    </tr>\n",
       "    <tr>\n",
       "      <th>3</th>\n",
       "      <td>Change the category structure. This will increase conversion since users will find the products they want more quickly</td>\n",
       "      <td>8</td>\n",
       "      <td>3</td>\n",
       "      <td>3</td>\n",
       "      <td>8</td>\n",
       "    </tr>\n",
       "    <tr>\n",
       "      <th>4</th>\n",
       "      <td>Change the background color on the main page. This will increase user engagement</td>\n",
       "      <td>3</td>\n",
       "      <td>1</td>\n",
       "      <td>1</td>\n",
       "      <td>1</td>\n",
       "    </tr>\n",
       "    <tr>\n",
       "      <th>5</th>\n",
       "      <td>Add a customer review page. This will increase the number of orders</td>\n",
       "      <td>3</td>\n",
       "      <td>2</td>\n",
       "      <td>2</td>\n",
       "      <td>3</td>\n",
       "    </tr>\n",
       "    <tr>\n",
       "      <th>6</th>\n",
       "      <td>Show banners with current offers and sales on the main page. This will boost conversion</td>\n",
       "      <td>5</td>\n",
       "      <td>3</td>\n",
       "      <td>8</td>\n",
       "      <td>3</td>\n",
       "    </tr>\n",
       "    <tr>\n",
       "      <th>7</th>\n",
       "      <td>Add a subscription form to all the main pages. This will help you compile a mailing list</td>\n",
       "      <td>10</td>\n",
       "      <td>7</td>\n",
       "      <td>8</td>\n",
       "      <td>5</td>\n",
       "    </tr>\n",
       "    <tr>\n",
       "      <th>8</th>\n",
       "      <td>Launch a promotion that gives users discounts on their birthdays</td>\n",
       "      <td>1</td>\n",
       "      <td>9</td>\n",
       "      <td>9</td>\n",
       "      <td>5</td>\n",
       "    </tr>\n",
       "  </tbody>\n",
       "</table>\n",
       "</div>"
      ],
      "text/plain": [
       "                                                                                                               hypothesis  \\\n",
       "0                                             Add two new channels for attracting traffic. This will bring 30% more users   \n",
       "1                                                       Launch your own delivery service. This will shorten delivery time   \n",
       "2          Add product recommendation blocks to the store's site. This will increase conversion and average purchase size   \n",
       "3  Change the category structure. This will increase conversion since users will find the products they want more quickly   \n",
       "4                                        Change the background color on the main page. This will increase user engagement   \n",
       "5                                                     Add a customer review page. This will increase the number of orders   \n",
       "6                                 Show banners with current offers and sales on the main page. This will boost conversion   \n",
       "7                                Add a subscription form to all the main pages. This will help you compile a mailing list   \n",
       "8                                                        Launch a promotion that gives users discounts on their birthdays   \n",
       "\n",
       "   reach  impact  confidence  effort  \n",
       "0      3      10           8       6  \n",
       "1      2       5           4      10  \n",
       "2      8       3           7       3  \n",
       "3      8       3           3       8  \n",
       "4      3       1           1       1  \n",
       "5      3       2           2       3  \n",
       "6      5       3           8       3  \n",
       "7     10       7           8       5  \n",
       "8      1       9           9       5  "
      ]
     },
     "metadata": {},
     "output_type": "display_data"
    }
   ],
   "source": [
    "# Rename the columns to lowercase\n",
    "hypotheses_df = hypotheses_df.rename(columns=str.lower)\n",
    "\n",
    "# Display the updated DataFrame\n",
    "display(hypotheses_df)"
   ]
  },
  {
   "cell_type": "markdown",
   "metadata": {},
   "source": [
    "Check duplicate for `visitid` column"
   ]
  },
  {
   "cell_type": "code",
   "execution_count": 12,
   "metadata": {},
   "outputs": [
    {
     "data": {
      "text/plain": [
       "1031"
      ]
     },
     "execution_count": 12,
     "metadata": {},
     "output_type": "execute_result"
    }
   ],
   "source": [
    "orders_df['visitorid'].nunique()"
   ]
  },
  {
   "cell_type": "markdown",
   "metadata": {},
   "source": [
    "As expected, based on total row we have 1197 compared to unique values within the column. This is normal as we might have repetitive customer with the same visitorid making a purchase."
   ]
  },
  {
   "cell_type": "markdown",
   "metadata": {},
   "source": [
    "Next, we change the format of the `date` column in the `orders_df` and `visits_df` DataFrame to the datetime format"
   ]
  },
  {
   "cell_type": "code",
   "execution_count": 13,
   "metadata": {
    "scrolled": false
   },
   "outputs": [
    {
     "data": {
      "text/html": [
       "<div>\n",
       "<style scoped>\n",
       "    .dataframe tbody tr th:only-of-type {\n",
       "        vertical-align: middle;\n",
       "    }\n",
       "\n",
       "    .dataframe tbody tr th {\n",
       "        vertical-align: top;\n",
       "    }\n",
       "\n",
       "    .dataframe thead th {\n",
       "        text-align: right;\n",
       "    }\n",
       "</style>\n",
       "<table border=\"1\" class=\"dataframe\">\n",
       "  <thead>\n",
       "    <tr style=\"text-align: right;\">\n",
       "      <th></th>\n",
       "      <th>transactionid</th>\n",
       "      <th>visitorid</th>\n",
       "      <th>date</th>\n",
       "      <th>revenue</th>\n",
       "      <th>group</th>\n",
       "    </tr>\n",
       "  </thead>\n",
       "  <tbody>\n",
       "    <tr>\n",
       "      <th>0</th>\n",
       "      <td>3667963787</td>\n",
       "      <td>3312258926</td>\n",
       "      <td>2019-08-15</td>\n",
       "      <td>30.4</td>\n",
       "      <td>B</td>\n",
       "    </tr>\n",
       "    <tr>\n",
       "      <th>1</th>\n",
       "      <td>2804400009</td>\n",
       "      <td>3642806036</td>\n",
       "      <td>2019-08-15</td>\n",
       "      <td>15.2</td>\n",
       "      <td>B</td>\n",
       "    </tr>\n",
       "    <tr>\n",
       "      <th>2</th>\n",
       "      <td>2961555356</td>\n",
       "      <td>4069496402</td>\n",
       "      <td>2019-08-15</td>\n",
       "      <td>10.2</td>\n",
       "      <td>A</td>\n",
       "    </tr>\n",
       "    <tr>\n",
       "      <th>3</th>\n",
       "      <td>3797467345</td>\n",
       "      <td>1196621759</td>\n",
       "      <td>2019-08-15</td>\n",
       "      <td>155.1</td>\n",
       "      <td>B</td>\n",
       "    </tr>\n",
       "    <tr>\n",
       "      <th>4</th>\n",
       "      <td>2282983706</td>\n",
       "      <td>2322279887</td>\n",
       "      <td>2019-08-15</td>\n",
       "      <td>40.5</td>\n",
       "      <td>B</td>\n",
       "    </tr>\n",
       "  </tbody>\n",
       "</table>\n",
       "</div>"
      ],
      "text/plain": [
       "   transactionid   visitorid       date  revenue group\n",
       "0     3667963787  3312258926 2019-08-15     30.4     B\n",
       "1     2804400009  3642806036 2019-08-15     15.2     B\n",
       "2     2961555356  4069496402 2019-08-15     10.2     A\n",
       "3     3797467345  1196621759 2019-08-15    155.1     B\n",
       "4     2282983706  2322279887 2019-08-15     40.5     B"
      ]
     },
     "metadata": {},
     "output_type": "display_data"
    },
    {
     "name": "stdout",
     "output_type": "stream",
     "text": [
      "<class 'pandas.core.frame.DataFrame'>\n",
      "RangeIndex: 1197 entries, 0 to 1196\n",
      "Data columns (total 5 columns):\n",
      " #   Column         Non-Null Count  Dtype         \n",
      "---  ------         --------------  -----         \n",
      " 0   transactionid  1197 non-null   int64         \n",
      " 1   visitorid      1197 non-null   int64         \n",
      " 2   date           1197 non-null   datetime64[ns]\n",
      " 3   revenue        1197 non-null   float64       \n",
      " 4   group          1197 non-null   object        \n",
      "dtypes: datetime64[ns](1), float64(1), int64(2), object(1)\n",
      "memory usage: 46.9+ KB\n"
     ]
    }
   ],
   "source": [
    "# Convert the \"date\" column to datetime format\n",
    "orders_df['date'] = pd.to_datetime(orders_df['date'])\n",
    "\n",
    "# Display the updated DataFrame\n",
    "display(orders_df.head())\n",
    "orders_df.info()"
   ]
  },
  {
   "cell_type": "code",
   "execution_count": 14,
   "metadata": {
    "scrolled": false
   },
   "outputs": [
    {
     "data": {
      "text/html": [
       "<div>\n",
       "<style scoped>\n",
       "    .dataframe tbody tr th:only-of-type {\n",
       "        vertical-align: middle;\n",
       "    }\n",
       "\n",
       "    .dataframe tbody tr th {\n",
       "        vertical-align: top;\n",
       "    }\n",
       "\n",
       "    .dataframe thead th {\n",
       "        text-align: right;\n",
       "    }\n",
       "</style>\n",
       "<table border=\"1\" class=\"dataframe\">\n",
       "  <thead>\n",
       "    <tr style=\"text-align: right;\">\n",
       "      <th></th>\n",
       "      <th>date</th>\n",
       "      <th>group</th>\n",
       "      <th>visits</th>\n",
       "    </tr>\n",
       "  </thead>\n",
       "  <tbody>\n",
       "    <tr>\n",
       "      <th>0</th>\n",
       "      <td>2019-08-15</td>\n",
       "      <td>A</td>\n",
       "      <td>719</td>\n",
       "    </tr>\n",
       "    <tr>\n",
       "      <th>1</th>\n",
       "      <td>2019-08-15</td>\n",
       "      <td>A</td>\n",
       "      <td>619</td>\n",
       "    </tr>\n",
       "    <tr>\n",
       "      <th>2</th>\n",
       "      <td>2019-08-15</td>\n",
       "      <td>A</td>\n",
       "      <td>507</td>\n",
       "    </tr>\n",
       "    <tr>\n",
       "      <th>3</th>\n",
       "      <td>2019-08-15</td>\n",
       "      <td>A</td>\n",
       "      <td>717</td>\n",
       "    </tr>\n",
       "    <tr>\n",
       "      <th>4</th>\n",
       "      <td>2019-08-15</td>\n",
       "      <td>A</td>\n",
       "      <td>756</td>\n",
       "    </tr>\n",
       "  </tbody>\n",
       "</table>\n",
       "</div>"
      ],
      "text/plain": [
       "        date group  visits\n",
       "0 2019-08-15     A     719\n",
       "1 2019-08-15     A     619\n",
       "2 2019-08-15     A     507\n",
       "3 2019-08-15     A     717\n",
       "4 2019-08-15     A     756"
      ]
     },
     "metadata": {},
     "output_type": "display_data"
    },
    {
     "name": "stdout",
     "output_type": "stream",
     "text": [
      "<class 'pandas.core.frame.DataFrame'>\n",
      "RangeIndex: 62 entries, 0 to 61\n",
      "Data columns (total 3 columns):\n",
      " #   Column  Non-Null Count  Dtype         \n",
      "---  ------  --------------  -----         \n",
      " 0   date    62 non-null     datetime64[ns]\n",
      " 1   group   62 non-null     object        \n",
      " 2   visits  62 non-null     int64         \n",
      "dtypes: datetime64[ns](1), int64(1), object(1)\n",
      "memory usage: 1.6+ KB\n"
     ]
    }
   ],
   "source": [
    "# Convert the \"date\" column to datetime format\n",
    "visits_df['date'] = pd.to_datetime(orders_df['date'])\n",
    "\n",
    "# Display the updated DataFrame\n",
    "display(visits_df.head())\n",
    "visits_df.info()"
   ]
  },
  {
   "cell_type": "markdown",
   "metadata": {},
   "source": [
    "## Part 1. Prioritizing Hypotheses"
   ]
  },
  {
   "cell_type": "markdown",
   "metadata": {},
   "source": [
    "### ICE Framework"
   ]
  },
  {
   "cell_type": "markdown",
   "metadata": {},
   "source": [
    "Apply the ICE framework to prioritize hypotheses in the `hypotheses_df` DataFrame and sort them in descending order of priority"
   ]
  },
  {
   "cell_type": "code",
   "execution_count": 15,
   "metadata": {
    "scrolled": false
   },
   "outputs": [
    {
     "data": {
      "text/html": [
       "<div>\n",
       "<style scoped>\n",
       "    .dataframe tbody tr th:only-of-type {\n",
       "        vertical-align: middle;\n",
       "    }\n",
       "\n",
       "    .dataframe tbody tr th {\n",
       "        vertical-align: top;\n",
       "    }\n",
       "\n",
       "    .dataframe thead th {\n",
       "        text-align: right;\n",
       "    }\n",
       "</style>\n",
       "<table border=\"1\" class=\"dataframe\">\n",
       "  <thead>\n",
       "    <tr style=\"text-align: right;\">\n",
       "      <th></th>\n",
       "      <th>hypothesis</th>\n",
       "      <th>reach</th>\n",
       "      <th>impact</th>\n",
       "      <th>confidence</th>\n",
       "      <th>effort</th>\n",
       "      <th>ice</th>\n",
       "    </tr>\n",
       "  </thead>\n",
       "  <tbody>\n",
       "    <tr>\n",
       "      <th>0</th>\n",
       "      <td>Launch a promotion that gives users discounts on their birthdays</td>\n",
       "      <td>1</td>\n",
       "      <td>9</td>\n",
       "      <td>9</td>\n",
       "      <td>5</td>\n",
       "      <td>16.200000</td>\n",
       "    </tr>\n",
       "    <tr>\n",
       "      <th>1</th>\n",
       "      <td>Add two new channels for attracting traffic. This will bring 30% more users</td>\n",
       "      <td>3</td>\n",
       "      <td>10</td>\n",
       "      <td>8</td>\n",
       "      <td>6</td>\n",
       "      <td>13.333333</td>\n",
       "    </tr>\n",
       "    <tr>\n",
       "      <th>2</th>\n",
       "      <td>Add a subscription form to all the main pages. This will help you compile a mailing list</td>\n",
       "      <td>10</td>\n",
       "      <td>7</td>\n",
       "      <td>8</td>\n",
       "      <td>5</td>\n",
       "      <td>11.200000</td>\n",
       "    </tr>\n",
       "    <tr>\n",
       "      <th>3</th>\n",
       "      <td>Show banners with current offers and sales on the main page. This will boost conversion</td>\n",
       "      <td>5</td>\n",
       "      <td>3</td>\n",
       "      <td>8</td>\n",
       "      <td>3</td>\n",
       "      <td>8.000000</td>\n",
       "    </tr>\n",
       "    <tr>\n",
       "      <th>4</th>\n",
       "      <td>Add product recommendation blocks to the store's site. This will increase conversion and average purchase size</td>\n",
       "      <td>8</td>\n",
       "      <td>3</td>\n",
       "      <td>7</td>\n",
       "      <td>3</td>\n",
       "      <td>7.000000</td>\n",
       "    </tr>\n",
       "    <tr>\n",
       "      <th>5</th>\n",
       "      <td>Launch your own delivery service. This will shorten delivery time</td>\n",
       "      <td>2</td>\n",
       "      <td>5</td>\n",
       "      <td>4</td>\n",
       "      <td>10</td>\n",
       "      <td>2.000000</td>\n",
       "    </tr>\n",
       "    <tr>\n",
       "      <th>6</th>\n",
       "      <td>Add a customer review page. This will increase the number of orders</td>\n",
       "      <td>3</td>\n",
       "      <td>2</td>\n",
       "      <td>2</td>\n",
       "      <td>3</td>\n",
       "      <td>1.333333</td>\n",
       "    </tr>\n",
       "    <tr>\n",
       "      <th>7</th>\n",
       "      <td>Change the category structure. This will increase conversion since users will find the products they want more quickly</td>\n",
       "      <td>8</td>\n",
       "      <td>3</td>\n",
       "      <td>3</td>\n",
       "      <td>8</td>\n",
       "      <td>1.125000</td>\n",
       "    </tr>\n",
       "    <tr>\n",
       "      <th>8</th>\n",
       "      <td>Change the background color on the main page. This will increase user engagement</td>\n",
       "      <td>3</td>\n",
       "      <td>1</td>\n",
       "      <td>1</td>\n",
       "      <td>1</td>\n",
       "      <td>1.000000</td>\n",
       "    </tr>\n",
       "  </tbody>\n",
       "</table>\n",
       "</div>"
      ],
      "text/plain": [
       "                                                                                                               hypothesis  \\\n",
       "0                                                        Launch a promotion that gives users discounts on their birthdays   \n",
       "1                                             Add two new channels for attracting traffic. This will bring 30% more users   \n",
       "2                                Add a subscription form to all the main pages. This will help you compile a mailing list   \n",
       "3                                 Show banners with current offers and sales on the main page. This will boost conversion   \n",
       "4          Add product recommendation blocks to the store's site. This will increase conversion and average purchase size   \n",
       "5                                                       Launch your own delivery service. This will shorten delivery time   \n",
       "6                                                     Add a customer review page. This will increase the number of orders   \n",
       "7  Change the category structure. This will increase conversion since users will find the products they want more quickly   \n",
       "8                                        Change the background color on the main page. This will increase user engagement   \n",
       "\n",
       "   reach  impact  confidence  effort        ice  \n",
       "0      1       9           9       5  16.200000  \n",
       "1      3      10           8       6  13.333333  \n",
       "2     10       7           8       5  11.200000  \n",
       "3      5       3           8       3   8.000000  \n",
       "4      8       3           7       3   7.000000  \n",
       "5      2       5           4      10   2.000000  \n",
       "6      3       2           2       3   1.333333  \n",
       "7      8       3           3       8   1.125000  \n",
       "8      3       1           1       1   1.000000  "
      ]
     },
     "metadata": {},
     "output_type": "display_data"
    }
   ],
   "source": [
    "# Calculate the ICE score\n",
    "hypotheses_df['ice'] = hypotheses_df['impact'] * hypotheses_df['confidence'] / hypotheses_df['effort']\n",
    "\n",
    "# Sort the hypotheses in descending order of priority (ICE score)\n",
    "ice_hypotheses_df = hypotheses_df.sort_values('ice', ascending=False)\n",
    "\n",
    "# Reset the index of the new DataFrame\n",
    "ice_hypotheses_df = ice_hypotheses_df.reset_index(drop=True)\n",
    "\n",
    "# Display the new DataFrame\n",
    "display(ice_hypotheses_df)"
   ]
  },
  {
   "cell_type": "markdown",
   "metadata": {},
   "source": [
    "Based on the ICE scores calculated for each hypothesis, we can draw the following conclusions:\n",
    "\n",
    "- The hypothesis \"Launch a promotion that gives users discounts on their birthdays\" has the highest ICE score of 16.2. This indicates that it has a high potential impact, confidence, and effort, making it a top priority for implementation.\n",
    "\n",
    "- The hypothesis \"Add two new channels for attracting traffic. This will bring 30% more users\" has the second-highest ICE score of 13.33. It shows potential for reaching a larger audience and has a high impact and confidence level, making it another strong candidate for implementation.\n",
    "\n",
    "- \"Add a subscription form to all the main pages. This will help you compile a mailing list\" ranks third in terms of ICE score, with a score of 11.2. It has a high reach, impact, and confidence, suggesting it could be an effective strategy for collecting user data.\n",
    "\n",
    "- \"Show banners with current offers and sales on the main page. This will boost conversion\" has an ICE score of 8.0. While it has a moderate reach and confidence level, it may require less effort compared to other hypotheses.\n",
    "\n",
    "In conclusion, prioritizing the hypotheses based on the ICE scores highlights the top three priorities: launching a promotion for user discounts on birthdays, adding new channels for attracting traffic, and including a subscription form on main pages. These strategies show promising potential for driving positive outcomes and should be considered for further implementation."
   ]
  },
  {
   "cell_type": "markdown",
   "metadata": {},
   "source": [
    "### RICE Framework"
   ]
  },
  {
   "cell_type": "markdown",
   "metadata": {},
   "source": [
    "Apply the RICE framework to prioritize hypotheses in the hypotheses_df DataFrame and sort them in descending order of priority"
   ]
  },
  {
   "cell_type": "code",
   "execution_count": 16,
   "metadata": {},
   "outputs": [
    {
     "data": {
      "text/html": [
       "<div>\n",
       "<style scoped>\n",
       "    .dataframe tbody tr th:only-of-type {\n",
       "        vertical-align: middle;\n",
       "    }\n",
       "\n",
       "    .dataframe tbody tr th {\n",
       "        vertical-align: top;\n",
       "    }\n",
       "\n",
       "    .dataframe thead th {\n",
       "        text-align: right;\n",
       "    }\n",
       "</style>\n",
       "<table border=\"1\" class=\"dataframe\">\n",
       "  <thead>\n",
       "    <tr style=\"text-align: right;\">\n",
       "      <th></th>\n",
       "      <th>hypothesis</th>\n",
       "      <th>reach</th>\n",
       "      <th>impact</th>\n",
       "      <th>confidence</th>\n",
       "      <th>effort</th>\n",
       "      <th>ice</th>\n",
       "      <th>rice</th>\n",
       "    </tr>\n",
       "  </thead>\n",
       "  <tbody>\n",
       "    <tr>\n",
       "      <th>0</th>\n",
       "      <td>Add a subscription form to all the main pages. This will help you compile a mailing list</td>\n",
       "      <td>10</td>\n",
       "      <td>7</td>\n",
       "      <td>8</td>\n",
       "      <td>5</td>\n",
       "      <td>11.200000</td>\n",
       "      <td>112.0</td>\n",
       "    </tr>\n",
       "    <tr>\n",
       "      <th>1</th>\n",
       "      <td>Add product recommendation blocks to the store's site. This will increase conversion and average purchase size</td>\n",
       "      <td>8</td>\n",
       "      <td>3</td>\n",
       "      <td>7</td>\n",
       "      <td>3</td>\n",
       "      <td>7.000000</td>\n",
       "      <td>56.0</td>\n",
       "    </tr>\n",
       "    <tr>\n",
       "      <th>2</th>\n",
       "      <td>Add two new channels for attracting traffic. This will bring 30% more users</td>\n",
       "      <td>3</td>\n",
       "      <td>10</td>\n",
       "      <td>8</td>\n",
       "      <td>6</td>\n",
       "      <td>13.333333</td>\n",
       "      <td>40.0</td>\n",
       "    </tr>\n",
       "    <tr>\n",
       "      <th>3</th>\n",
       "      <td>Show banners with current offers and sales on the main page. This will boost conversion</td>\n",
       "      <td>5</td>\n",
       "      <td>3</td>\n",
       "      <td>8</td>\n",
       "      <td>3</td>\n",
       "      <td>8.000000</td>\n",
       "      <td>40.0</td>\n",
       "    </tr>\n",
       "    <tr>\n",
       "      <th>4</th>\n",
       "      <td>Launch a promotion that gives users discounts on their birthdays</td>\n",
       "      <td>1</td>\n",
       "      <td>9</td>\n",
       "      <td>9</td>\n",
       "      <td>5</td>\n",
       "      <td>16.200000</td>\n",
       "      <td>16.2</td>\n",
       "    </tr>\n",
       "    <tr>\n",
       "      <th>5</th>\n",
       "      <td>Change the category structure. This will increase conversion since users will find the products they want more quickly</td>\n",
       "      <td>8</td>\n",
       "      <td>3</td>\n",
       "      <td>3</td>\n",
       "      <td>8</td>\n",
       "      <td>1.125000</td>\n",
       "      <td>9.0</td>\n",
       "    </tr>\n",
       "    <tr>\n",
       "      <th>6</th>\n",
       "      <td>Launch your own delivery service. This will shorten delivery time</td>\n",
       "      <td>2</td>\n",
       "      <td>5</td>\n",
       "      <td>4</td>\n",
       "      <td>10</td>\n",
       "      <td>2.000000</td>\n",
       "      <td>4.0</td>\n",
       "    </tr>\n",
       "    <tr>\n",
       "      <th>7</th>\n",
       "      <td>Add a customer review page. This will increase the number of orders</td>\n",
       "      <td>3</td>\n",
       "      <td>2</td>\n",
       "      <td>2</td>\n",
       "      <td>3</td>\n",
       "      <td>1.333333</td>\n",
       "      <td>4.0</td>\n",
       "    </tr>\n",
       "    <tr>\n",
       "      <th>8</th>\n",
       "      <td>Change the background color on the main page. This will increase user engagement</td>\n",
       "      <td>3</td>\n",
       "      <td>1</td>\n",
       "      <td>1</td>\n",
       "      <td>1</td>\n",
       "      <td>1.000000</td>\n",
       "      <td>3.0</td>\n",
       "    </tr>\n",
       "  </tbody>\n",
       "</table>\n",
       "</div>"
      ],
      "text/plain": [
       "                                                                                                               hypothesis  \\\n",
       "0                                Add a subscription form to all the main pages. This will help you compile a mailing list   \n",
       "1          Add product recommendation blocks to the store's site. This will increase conversion and average purchase size   \n",
       "2                                             Add two new channels for attracting traffic. This will bring 30% more users   \n",
       "3                                 Show banners with current offers and sales on the main page. This will boost conversion   \n",
       "4                                                        Launch a promotion that gives users discounts on their birthdays   \n",
       "5  Change the category structure. This will increase conversion since users will find the products they want more quickly   \n",
       "6                                                       Launch your own delivery service. This will shorten delivery time   \n",
       "7                                                     Add a customer review page. This will increase the number of orders   \n",
       "8                                        Change the background color on the main page. This will increase user engagement   \n",
       "\n",
       "   reach  impact  confidence  effort        ice   rice  \n",
       "0     10       7           8       5  11.200000  112.0  \n",
       "1      8       3           7       3   7.000000   56.0  \n",
       "2      3      10           8       6  13.333333   40.0  \n",
       "3      5       3           8       3   8.000000   40.0  \n",
       "4      1       9           9       5  16.200000   16.2  \n",
       "5      8       3           3       8   1.125000    9.0  \n",
       "6      2       5           4      10   2.000000    4.0  \n",
       "7      3       2           2       3   1.333333    4.0  \n",
       "8      3       1           1       1   1.000000    3.0  "
      ]
     },
     "metadata": {},
     "output_type": "display_data"
    }
   ],
   "source": [
    "# Calculate the RICE score\n",
    "hypotheses_df['rice'] = hypotheses_df['reach'] * hypotheses_df['impact'] * hypotheses_df['confidence'] / hypotheses_df['effort']\n",
    "\n",
    "# Sort the hypotheses in descending order of priority (RICE score)\n",
    "rice_hypotheses_df = hypotheses_df.sort_values('rice', ascending=False)\n",
    "\n",
    "# Reset the index of the new DataFrame\n",
    "rice_hypotheses_df = rice_hypotheses_df.reset_index(drop=True)\n",
    "\n",
    "# Display the new DataFrame\n",
    "display(rice_hypotheses_df)"
   ]
  },
  {
   "cell_type": "markdown",
   "metadata": {},
   "source": [
    "Based on the RICE scores calculated for each hypothesis, we can draw the following conclusions:\n",
    "\n",
    "- The hypothesis \"Add a subscription form to all the main pages. This will help you compile a mailing list\" has the highest RICE score of 112.0. It has a high reach, impact, confidence level, and a moderate effort required, making it the top priority for implementation.\n",
    "\n",
    "- \"Add product recommendation blocks to the store's site. This will increase conversion and average purchase size\" ranks second in terms of RICE score, with a score of 56.0. It has a high reach and confidence level, but requires relatively less effort compared to other hypotheses.\n",
    "\n",
    "- Both \"Add two new channels for attracting traffic. This will bring 30% more users\" and \"Show banners with current offers and sales on the main page. This will boost conversion\" have the same RICE score of 40.0. These hypotheses have a balance of reach, impact, confidence level, and effort, making them important considerations for implementation.\n",
    "\n",
    "- \"Launch a promotion that gives users discounts on their birthdays\" has a RICE score of 16.2. Although it has a low reach, it has a high impact and confidence level, making it a viable option for implementation.\n",
    "\n",
    "In conclusion, prioritizing the hypotheses based on the RICE scores highlights the significance of adding a subscription form to all main pages, followed by implementing product recommendation blocks, new traffic channels, and banners with offers and sales. These strategies demonstrate high potential for reaching a wide audience, driving impact, and have a reasonable level of confidence. Other hypotheses with lower RICE scores should be evaluated in terms of their specific objectives and resources available before considering implementation."
   ]
  },
  {
   "cell_type": "markdown",
   "metadata": {},
   "source": [
    "### Prioritization of hypotheses changes"
   ]
  },
  {
   "cell_type": "markdown",
   "metadata": {},
   "source": [
    "The RICE framework emphasizes the importance of considering the potential reach of a hypothesis, resulting in a change in the prioritization compared to the ICE framework. It helps identify hypotheses that have the potential to reach a larger audience and have a significant impact on the business. We plot a histogram to show the significance"
   ]
  },
  {
   "cell_type": "code",
   "execution_count": 17,
   "metadata": {},
   "outputs": [
    {
     "data": {
      "image/png": "[encoded data removed]",
      "text/plain": [
       "<Figure size 720x864 with 1 Axes>"
      ]
     },
     "metadata": {
      "needs_background": "light"
     },
     "output_type": "display_data"
    }
   ],
   "source": [
    "# Data\n",
    "ice_scores = [16.2, 13.333333, 11.2, 8, 7, 2, 1.333333, 1.125, 1]\n",
    "rice_scores = [112, 56, 40, 40, 16.2, 9, 4, 4, 3]\n",
    "\n",
    "# Plotting\n",
    "labels = ['Promotion Discounts on Birthdays', 'Channels for Traffic', 'Subscription Form', 'Banners with Offers', 'Product Recommendations', 'Delivery Service', 'Customer Review Page', 'Category Structure', 'Background Color']\n",
    "y = range(len(labels))\n",
    "\n",
    "plt.figure(figsize=(10, 12))\n",
    "plt.barh(y, ice_scores, height=0.4, label='ICE', align='center', alpha=0.5)\n",
    "plt.barh(y, rice_scores, height=0.4, label='RICE', align='edge', alpha=0.5)\n",
    "\n",
    "plt.ylabel('Hypotheses')\n",
    "plt.xlabel('Score')\n",
    "plt.title('Prioritization of Hypotheses - ICE vs RICE')\n",
    "plt.yticks(y, labels)\n",
    "plt.legend()\n",
    "\n",
    "plt.tight_layout()\n",
    "plt.show()\n"
   ]
  },
  {
   "cell_type": "markdown",
   "metadata": {},
   "source": [
    "As we can see, the prioritization of hypotheses changes when using RICE instead of ICE. The key reason for this change is the inclusion of the \"reach\" factor in the RICE framework. Reach represents the potential number of users who will be affected by the hypothesis.\n",
    "\n",
    "In the ICE framework, hypotheses with high impact and confidence may receive higher priority, regardless of the reach. However, in the RICE framework, hypotheses with a combination of high impact, confidence, and reach receive higher scores and thus higher priority.\n",
    "\n",
    "In the RICE prioritization, the hypothesis \"Add a subscription form to all the main pages\" takes the top spot because it has the highest reach among all the hypotheses, which is an important factor for compiling a mailing list. Similarly, the hypothesis \"Add product recommendation blocks to the store's site\" gains a higher position due to its relatively high reach.\n",
    "\n",
    "On the other hand, the hypothesis \"Launch a promotion that gives users discounts on their birthdays\" drops to the fifth position in the RICE prioritization. Although it has a high impact and confidence, it has a lower reach compared to the top-ranked hypotheses."
   ]
  },
  {
   "cell_type": "markdown",
   "metadata": {},
   "source": [
    "## Part 2. A/B Test Analysis"
   ]
  },
  {
   "cell_type": "markdown",
   "metadata": {},
   "source": [
    "To resolve the issue of visitors falling into both group A and group B, we can follow these steps:\n",
    "\n",
    "1. Identify the visitorid values that are assigned to both groups A and B. We can do this by finding the visitorid values that have more than one unique group associated with them."
   ]
  },
  {
   "cell_type": "code",
   "execution_count": 18,
   "metadata": {},
   "outputs": [],
   "source": [
    "visitor_groups = orders_df.groupby('visitorid')['group'].nunique()\n",
    "visitors_in_both_groups = visitor_groups[visitor_groups > 1].index"
   ]
  },
  {
   "cell_type": "markdown",
   "metadata": {},
   "source": [
    "2. Choose the group for each visitorid based on the first order date."
   ]
  },
  {
   "cell_type": "code",
   "execution_count": 19,
   "metadata": {},
   "outputs": [],
   "source": [
    "first_order_date = orders_df.groupby('visitorid')['date'].min().reset_index()\n",
    "visitors_group = orders_df.merge(first_order_date, on=['visitorid', 'date'], how='left')"
   ]
  },
  {
   "cell_type": "markdown",
   "metadata": {},
   "source": [
    "3. Remove orders records from the group that was not chosen for each visitorid."
   ]
  },
  {
   "cell_type": "code",
   "execution_count": 20,
   "metadata": {},
   "outputs": [],
   "source": [
    "visitors_group = visitors_group.drop_duplicates(subset=['visitorid', 'group'])"
   ]
  },
  {
   "cell_type": "markdown",
   "metadata": {},
   "source": [
    "4. Preserve the orders records from the group that was chosen for each visitorid."
   ]
  },
  {
   "cell_type": "code",
   "execution_count": 21,
   "metadata": {
    "scrolled": true
   },
   "outputs": [
    {
     "data": {
      "text/html": [
       "<div>\n",
       "<style scoped>\n",
       "    .dataframe tbody tr th:only-of-type {\n",
       "        vertical-align: middle;\n",
       "    }\n",
       "\n",
       "    .dataframe tbody tr th {\n",
       "        vertical-align: top;\n",
       "    }\n",
       "\n",
       "    .dataframe thead th {\n",
       "        text-align: right;\n",
       "    }\n",
       "</style>\n",
       "<table border=\"1\" class=\"dataframe\">\n",
       "  <thead>\n",
       "    <tr style=\"text-align: right;\">\n",
       "      <th></th>\n",
       "      <th>transactionid</th>\n",
       "      <th>visitorid</th>\n",
       "      <th>date</th>\n",
       "      <th>revenue</th>\n",
       "      <th>group</th>\n",
       "    </tr>\n",
       "  </thead>\n",
       "  <tbody>\n",
       "    <tr>\n",
       "      <th>0</th>\n",
       "      <td>3667963787</td>\n",
       "      <td>3312258926</td>\n",
       "      <td>2019-08-15</td>\n",
       "      <td>30.4</td>\n",
       "      <td>B</td>\n",
       "    </tr>\n",
       "    <tr>\n",
       "      <th>1</th>\n",
       "      <td>2804400009</td>\n",
       "      <td>3642806036</td>\n",
       "      <td>2019-08-15</td>\n",
       "      <td>15.2</td>\n",
       "      <td>B</td>\n",
       "    </tr>\n",
       "    <tr>\n",
       "      <th>2</th>\n",
       "      <td>2961555356</td>\n",
       "      <td>4069496402</td>\n",
       "      <td>2019-08-15</td>\n",
       "      <td>10.2</td>\n",
       "      <td>A</td>\n",
       "    </tr>\n",
       "    <tr>\n",
       "      <th>3</th>\n",
       "      <td>3797467345</td>\n",
       "      <td>1196621759</td>\n",
       "      <td>2019-08-15</td>\n",
       "      <td>155.1</td>\n",
       "      <td>B</td>\n",
       "    </tr>\n",
       "    <tr>\n",
       "      <th>4</th>\n",
       "      <td>2282983706</td>\n",
       "      <td>2322279887</td>\n",
       "      <td>2019-08-15</td>\n",
       "      <td>40.5</td>\n",
       "      <td>B</td>\n",
       "    </tr>\n",
       "  </tbody>\n",
       "</table>\n",
       "</div>"
      ],
      "text/plain": [
       "   transactionid   visitorid       date  revenue group\n",
       "0     3667963787  3312258926 2019-08-15     30.4     B\n",
       "1     2804400009  3642806036 2019-08-15     15.2     B\n",
       "2     2961555356  4069496402 2019-08-15     10.2     A\n",
       "3     3797467345  1196621759 2019-08-15    155.1     B\n",
       "4     2282983706  2322279887 2019-08-15     40.5     B"
      ]
     },
     "execution_count": 21,
     "metadata": {},
     "output_type": "execute_result"
    }
   ],
   "source": [
    "visitors_group = visitors_group[['transactionid', 'visitorid', 'date', 'revenue', 'group']]\n",
    "visitors_group.head()"
   ]
  },
  {
   "cell_type": "code",
   "execution_count": 22,
   "metadata": {},
   "outputs": [
    {
     "name": "stdout",
     "output_type": "stream",
     "text": [
      "<class 'pandas.core.frame.DataFrame'>\n",
      "Int64Index: 1089 entries, 0 to 1196\n",
      "Data columns (total 5 columns):\n",
      " #   Column         Non-Null Count  Dtype         \n",
      "---  ------         --------------  -----         \n",
      " 0   transactionid  1089 non-null   int64         \n",
      " 1   visitorid      1089 non-null   int64         \n",
      " 2   date           1089 non-null   datetime64[ns]\n",
      " 3   revenue        1089 non-null   float64       \n",
      " 4   group          1089 non-null   object        \n",
      "dtypes: datetime64[ns](1), float64(1), int64(2), object(1)\n",
      "memory usage: 51.0+ KB\n"
     ]
    }
   ],
   "source": [
    "visitors_group.info()"
   ]
  },
  {
   "cell_type": "markdown",
   "metadata": {},
   "source": [
    "### Graph cumulative revenue by group. "
   ]
  },
  {
   "cell_type": "markdown",
   "metadata": {},
   "source": [
    "To analyze the A/B test, we will first calculate the cumulative revenue for each group and then plot a graph to visualize the results. Here are the steps to analyze the A/B test and draw conclusions:\n",
    "\n",
    "1. Calculate the cumulative revenue for each group:"
   ]
  },
  {
   "cell_type": "code",
   "execution_count": 23,
   "metadata": {},
   "outputs": [],
   "source": [
    "# Calculate cumulative revenue for group A\n",
    "cumulative_revenue_A = (\n",
    "    visitors_group[visitors_group['group'] == 'A']\n",
    "    .groupby('date')['revenue']\n",
    "    .sum()\n",
    "    .cumsum()\n",
    ")\n",
    "\n",
    "# Calculate cumulative revenue for group B\n",
    "cumulative_revenue_B = (\n",
    "    visitors_group[visitors_group['group'] == 'B']\n",
    "    .groupby('date')['revenue']\n",
    "    .sum()\n",
    "    .cumsum()\n",
    ")\n"
   ]
  },
  {
   "cell_type": "code",
   "execution_count": 24,
   "metadata": {
    "scrolled": false
   },
   "outputs": [
    {
     "name": "stdout",
     "output_type": "stream",
     "text": [
      "date\n",
      "2019-08-01     2040.2\n",
      "2019-08-02     3273.5\n",
      "2019-08-03     5088.7\n",
      "2019-08-04     6079.3\n",
      "2019-08-05     7731.9\n",
      "2019-08-06     8273.8\n",
      "2019-08-07    10246.3\n",
      "2019-08-08    11761.1\n",
      "2019-08-09    14507.3\n",
      "2019-08-10    16894.8\n",
      "2019-08-11    17994.1\n",
      "2019-08-12    21758.5\n",
      "2019-08-13    25045.0\n",
      "2019-08-14    26104.3\n",
      "2019-08-15    27512.5\n",
      "2019-08-16    29111.6\n",
      "2019-08-17    29820.1\n",
      "2019-08-18    30991.9\n",
      "2019-08-19    33981.0\n",
      "2019-08-20    34917.0\n",
      "2019-08-21    37551.5\n",
      "2019-08-22    39169.3\n",
      "2019-08-23    40791.5\n",
      "2019-08-24    42794.2\n",
      "2019-08-25    43867.9\n",
      "2019-08-26    46332.7\n",
      "2019-08-27    50632.2\n",
      "2019-08-28    51919.3\n",
      "2019-08-29    56889.5\n",
      "2019-08-30    57553.1\n",
      "2019-08-31    58453.2\n",
      "Name: revenue, dtype: float64\n",
      "date\n",
      "2019-08-01     1484.7\n",
      "2019-08-02     4063.2\n",
      "2019-08-03     5870.0\n",
      "2019-08-04     7347.1\n",
      "2019-08-05     8801.9\n",
      "2019-08-06    12306.6\n",
      "2019-08-07    15742.2\n",
      "2019-08-08    18042.4\n",
      "2019-08-09    19799.1\n",
      "2019-08-10    21473.9\n",
      "2019-08-11    22304.6\n",
      "2019-08-12    23752.8\n",
      "2019-08-13    25647.3\n",
      "2019-08-14    27630.6\n",
      "2019-08-15    32992.5\n",
      "2019-08-16    35690.2\n",
      "2019-08-17    36886.4\n",
      "2019-08-18    37760.5\n",
      "2019-08-19    59719.8\n",
      "2019-08-20    61933.9\n",
      "2019-08-21    64184.1\n",
      "2019-08-22    66403.2\n",
      "2019-08-23    68202.7\n",
      "2019-08-24    69719.4\n",
      "2019-08-25    71345.9\n",
      "2019-08-26    74226.1\n",
      "2019-08-27    76054.8\n",
      "2019-08-28    77226.4\n",
      "2019-08-29    80779.8\n",
      "2019-08-30    84137.3\n",
      "2019-08-31    86211.1\n",
      "Name: revenue, dtype: float64\n"
     ]
    }
   ],
   "source": [
    "print(cumulative_revenue_A)\n",
    "print(cumulative_revenue_B)"
   ]
  },
  {
   "cell_type": "markdown",
   "metadata": {},
   "source": [
    "2.Plot the cumulative revenue graph:"
   ]
  },
  {
   "cell_type": "code",
   "execution_count": 25,
   "metadata": {},
   "outputs": [
    {
     "data": {
      "image/png": "[encoded data removed]",
      "text/plain": [
       "<Figure size 432x288 with 1 Axes>"
      ]
     },
     "metadata": {
      "needs_background": "light"
     },
     "output_type": "display_data"
    }
   ],
   "source": [
    "# Plot the cumulative revenue graph\n",
    "plt.plot(cumulative_revenue_A.index, cumulative_revenue_A, label='Group A')\n",
    "plt.plot(cumulative_revenue_B.index, cumulative_revenue_B, label='Group B')\n",
    "\n",
    "# Rotate the date labels on the x-axis\n",
    "plt.xticks(rotation=45)\n",
    "\n",
    "# Set the axis labels and title\n",
    "plt.xlabel('Date')\n",
    "plt.ylabel('Cumulative Revenue')\n",
    "plt.title('Cumulative Revenue by Group')\n",
    "\n",
    "# Display the legend and the plot\n",
    "plt.legend()\n",
    "plt.show()"
   ]
  },
  {
   "cell_type": "markdown",
   "metadata": {},
   "source": [
    "Cumulative Revenue Trend: Both Group A and Group B show an increasing trend in cumulative revenue over time. This suggests that revenue is growing throughout the observed period for both groups.\n",
    "\n",
    "1. Revenue Comparison: Group B consistently generates higher cumulative revenue compared to Group A. This difference is evident from the earlier dates and remains consistent throughout the period.\n",
    "\n",
    "2. Revenue Spike: On August 19th, there is a significant spike in cumulative revenue for Group A, where the revenue surpasses that of Group B. This spike indicates a potential positive impact from the experimental changes introduced to Group A.\n",
    "\n",
    "3. Stable Revenue Gap: After the spike on August 19th, the revenue gap between Group A and Group B becomes more pronounced and remains relatively stable. This suggests that the experimental changes in Group A might have had a lasting positive effect on revenue.\n",
    "\n",
    "4. Revenue Plateau: Towards the end of the observed period, the cumulative revenue for both groups appears to plateau, with limited growth or fluctuations. This could indicate a saturation point or a stable performance level for the tested changes."
   ]
  },
  {
   "cell_type": "markdown",
   "metadata": {},
   "source": [
    "### Average order size by group"
   ]
  },
  {
   "cell_type": "markdown",
   "metadata": {},
   "source": [
    "To find the cumulative average order size by group, we can calculate the cumulative revenue and divide it by the cumulative number of orders for each group.\n",
    "\n",
    "1. Calculate the cumulative revenue and cumulative number of orders for each group:"
   ]
  },
  {
   "cell_type": "code",
   "execution_count": 26,
   "metadata": {},
   "outputs": [],
   "source": [
    "# Calculate cumulative revenue and cumulative number of orders for group A\n",
    "cumulative_revenue_A = (\n",
    "    visitors_group[visitors_group['group'] == 'A']\n",
    "    .groupby('date')['revenue']\n",
    "    .sum()\n",
    "    .cumsum()\n",
    ")\n",
    "\n",
    "cumulative_orders_A = (\n",
    "    visitors_group[visitors_group['group'] == 'A']\n",
    "    .groupby('date')['transactionid']\n",
    "    .count()\n",
    "    .cumsum()\n",
    ")\n",
    "\n",
    "# Calculate cumulative revenue and cumulative number of orders for group B\n",
    "cumulative_revenue_B = (\n",
    "    visitors_group[visitors_group['group'] == 'B']\n",
    "    .groupby('date')['revenue']\n",
    "    .sum()\n",
    "    .cumsum()\n",
    ")\n",
    "\n",
    "cumulative_orders_B = (\n",
    "    visitors_group[visitors_group['group'] == 'B']\n",
    "    .groupby('date')['transactionid']\n",
    "    .count()\n",
    "    .cumsum()\n",
    ")\n"
   ]
  },
  {
   "cell_type": "markdown",
   "metadata": {},
   "source": [
    "2. Calculate the cumulative average order size for each group"
   ]
  },
  {
   "cell_type": "code",
   "execution_count": 27,
   "metadata": {},
   "outputs": [],
   "source": [
    "# Calculate cumulative average order size for group A\n",
    "cumulative_avg_order_size_A = cumulative_revenue_A / cumulative_orders_A\n",
    "\n",
    "# Calculate cumulative average order size for group B\n",
    "cumulative_avg_order_size_B = cumulative_revenue_B / cumulative_orders_B\n",
    "\n"
   ]
  },
  {
   "cell_type": "markdown",
   "metadata": {},
   "source": [
    "3. Plot the cumulative average order size graph:"
   ]
  },
  {
   "cell_type": "code",
   "execution_count": 28,
   "metadata": {},
   "outputs": [
    {
     "data": {
      "image/png": "[encoded data removed]",
      "text/plain": [
       "<Figure size 432x288 with 1 Axes>"
      ]
     },
     "metadata": {
      "needs_background": "light"
     },
     "output_type": "display_data"
    }
   ],
   "source": [
    "# Plot the cumulative average order size graph\n",
    "plt.plot(cumulative_avg_order_size_A.index, cumulative_avg_order_size_A, label='Group A')\n",
    "plt.plot(cumulative_avg_order_size_B.index, cumulative_avg_order_size_B, label='Group B')\n",
    "\n",
    "# Rotate the date labels on the x-axis\n",
    "plt.xticks(rotation=45)\n",
    "\n",
    "# Set the axis labels and title\n",
    "plt.xlabel('Date')\n",
    "plt.ylabel('Cumulative Average Order Size')\n",
    "plt.title('Cumulative Average Order Size by Group')\n",
    "\n",
    "# Display the legend and the plot\n",
    "plt.legend()\n",
    "plt.show()"
   ]
  },
  {
   "cell_type": "markdown",
   "metadata": {},
   "source": [
    "Based on the cumulative average order size graph for Group A and Group B, the following conclusions and conjectures can be made:\n",
    "\n",
    "- Stable Average Order Size: Both Group A and Group B show a relatively stable average order size over time. There are no significant fluctuations or trends indicating a consistent order size for both groups.\n",
    "\n",
    "- Consistent Performance: The average order size for both groups appears to be consistent throughout the observed period. This suggests that the experimental changes implemented in Group A did not have a significant impact on the average order size compared to Group B.\n",
    "\n",
    "- Similar Performance: The cumulative average order size for Group A and Group B remains close to each other throughout the analyzed timeframe. This implies that the experimental changes implemented in Group A did not lead to a substantial difference in the average order size compared to the control group (Group B).\n",
    "\n",
    "- Further Analysis: While the cumulative average order size provides insights into the performance of different groups, it is important to conduct statistical tests, such as hypothesis testing, to determine the statistical significance of any observed differences between the groups."
   ]
  },
  {
   "cell_type": "markdown",
   "metadata": {},
   "source": [
    "### Difference in cumulative average order size"
   ]
  },
  {
   "cell_type": "markdown",
   "metadata": {},
   "source": [
    "To calculate the relative difference in cumulative average order size for Group B compared to Group A using pandas, we can follow these steps:\n",
    "\n",
    "1. Calculate the cumulative average order size for Group A and Group B.\n",
    "\n",
    "2. Subtract the cumulative average order size of Group A from Group B.\n",
    "\n",
    "3. Divide the result by the cumulative average order size of Group A.\n",
    "\n",
    "4. Multiply the quotient by 100 to obtain the percentage difference."
   ]
  },
  {
   "cell_type": "code",
   "execution_count": 32,
   "metadata": {},
   "outputs": [
    {
     "name": "stdout",
     "output_type": "stream",
     "text": [
      "Relative Difference in Cumulative Average Order Size (Group B vs Group A): 25.17%\n"
     ]
    }
   ],
   "source": [
    "# Calculate the cumulative average order size for each group\n",
    "cumulative_avg_order_size_group_a = orders_df[orders_df['group'] == 'A']['revenue'].cumsum() / (np.arange(len(orders_df[orders_df['group'] == 'A'])) + 1)\n",
    "cumulative_avg_order_size_group_b = orders_df[orders_df['group'] == 'B']['revenue'].cumsum() / (np.arange(len(orders_df[orders_df['group'] == 'B'])) + 1)\n",
    "\n",
    "# Calculate the relative difference in cumulative average order size\n",
    "relative_difference = ((cumulative_avg_order_size_group_b.iloc[-1] - cumulative_avg_order_size_group_a.iloc[-1]) / cumulative_avg_order_size_group_a.iloc[-1]) * 100\n",
    "\n",
    "# Print the relative difference\n",
    "print(\"Relative Difference in Cumulative Average Order Size (Group B vs Group A): {:.2f}%\".format(relative_difference))"
   ]
  },
  {
   "cell_type": "markdown",
   "metadata": {},
   "source": [
    " Plot a graph showing the cumulative average order size for Group A and Group B "
   ]
  },
  {
   "cell_type": "code",
   "execution_count": 31,
   "metadata": {},
   "outputs": [
    {
     "data": {
      "image/png": "[encoded data removed]",
      "text/plain": [
       "<Figure size 432x288 with 1 Axes>"
      ]
     },
     "metadata": {
      "needs_background": "light"
     },
     "output_type": "display_data"
    }
   ],
   "source": [
    "# Calculate the cumulative average order size for each group\n",
    "cumulative_avg_order_size_group_a = orders_df[orders_df['group'] == 'A']['revenue'].cumsum() / (np.arange(len(orders_df[orders_df['group'] == 'A'])) + 1)\n",
    "cumulative_avg_order_size_group_b = orders_df[orders_df['group'] == 'B']['revenue'].cumsum() / (np.arange(len(orders_df[orders_df['group'] == 'B'])) + 1)\n",
    "\n",
    "# Plot the cumulative average order size for Group A\n",
    "plt.plot(cumulative_avg_order_size_group_a, label='Group A')\n",
    "\n",
    "# Plot the cumulative average order size for Group B\n",
    "plt.plot(cumulative_avg_order_size_group_b, label='Group B')\n",
    "\n",
    "# Set the labels and title\n",
    "plt.xlabel('Date')\n",
    "plt.ylabel('Cumulative Average Order Size')\n",
    "plt.title('Cumulative Average Order Size by Group')\n",
    "\n",
    "# Add a legend\n",
    "plt.legend()\n",
    "\n",
    "# Display the plot\n",
    "plt.show()\n"
   ]
  },
  {
   "cell_type": "markdown",
   "metadata": {},
   "source": [
    "Based on the analysis of the relative difference in cumulative average order size:\n",
    "\n",
    "- In the initial period, Group B's cumulative average order size was higher than that of Group A. This suggests that, on average, customers in Group B made larger orders compared to Group A during the early stages of the analysis period.\n",
    "\n",
    "- Over time, the relative difference in cumulative average order size fluctuated. There were instances where Group B's cumulative average order size surpassed that of Group A, indicating higher order values. Conversely, there were also periods where Group B's cumulative average order size fell below that of Group A, suggesting smaller order values.\n",
    "\n",
    "- The relative difference in cumulative average order size remained dynamic throughout the analysis period, indicating varying purchasing behaviors between the two groups. The differences may be influenced by factors such as promotional activities, marketing strategies, or user preferences."
   ]
  },
  {
   "cell_type": "markdown",
   "metadata": {},
   "source": [
    "### Calculate each group's conversion rate"
   ]
  },
  {
   "cell_type": "markdown",
   "metadata": {},
   "source": [
    "To calculate each group's conversion rate as the ratio of orders to the number of visits for each day"
   ]
  },
  {
   "cell_type": "code",
   "execution_count": 59,
   "metadata": {},
   "outputs": [
    {
     "data": {
      "text/html": [
       "<div>\n",
       "<style scoped>\n",
       "    .dataframe tbody tr th:only-of-type {\n",
       "        vertical-align: middle;\n",
       "    }\n",
       "\n",
       "    .dataframe tbody tr th {\n",
       "        vertical-align: top;\n",
       "    }\n",
       "\n",
       "    .dataframe thead th {\n",
       "        text-align: right;\n",
       "    }\n",
       "</style>\n",
       "<table border=\"1\" class=\"dataframe\">\n",
       "  <thead>\n",
       "    <tr style=\"text-align: right;\">\n",
       "      <th></th>\n",
       "      <th>date</th>\n",
       "      <th>group</th>\n",
       "      <th>transactionid</th>\n",
       "      <th>visits</th>\n",
       "      <th>conversion_rate</th>\n",
       "    </tr>\n",
       "  </thead>\n",
       "  <tbody>\n",
       "    <tr>\n",
       "      <th>0</th>\n",
       "      <td>2019-08-01</td>\n",
       "      <td>B</td>\n",
       "      <td>20</td>\n",
       "      <td>679</td>\n",
       "      <td>0.029455</td>\n",
       "    </tr>\n",
       "    <tr>\n",
       "      <th>1</th>\n",
       "      <td>2019-08-15</td>\n",
       "      <td>A</td>\n",
       "      <td>10</td>\n",
       "      <td>18736</td>\n",
       "      <td>0.000534</td>\n",
       "    </tr>\n",
       "    <tr>\n",
       "      <th>2</th>\n",
       "      <td>2019-08-15</td>\n",
       "      <td>B</td>\n",
       "      <td>27</td>\n",
       "      <td>9056</td>\n",
       "      <td>0.002981</td>\n",
       "    </tr>\n",
       "    <tr>\n",
       "      <th>3</th>\n",
       "      <td>2019-08-16</td>\n",
       "      <td>B</td>\n",
       "      <td>18</td>\n",
       "      <td>9181</td>\n",
       "      <td>0.001961</td>\n",
       "    </tr>\n",
       "  </tbody>\n",
       "</table>\n",
       "</div>"
      ],
      "text/plain": [
       "        date group  transactionid  visits  conversion_rate\n",
       "0 2019-08-01     B             20     679         0.029455\n",
       "1 2019-08-15     A             10   18736         0.000534\n",
       "2 2019-08-15     B             27    9056         0.002981\n",
       "3 2019-08-16     B             18    9181         0.001961"
      ]
     },
     "execution_count": 59,
     "metadata": {},
     "output_type": "execute_result"
    }
   ],
   "source": [
    "# Group the orders_df DataFrame by date and group, and count the number of orders for each group on each day:\n",
    "orders_per_day_group = orders_df.groupby(['date', 'group'])['transactionid'].count().reset_index()\n",
    "\n",
    "#Group the visits_df DataFrame by date and group, and sum the number of visits for each group on each day:\n",
    "visits_per_day_group = visits_df.groupby(['date', 'group'])['visits'].sum().reset_index()\n",
    "\n",
    "#Merge the two grouped DataFrames on date and group to combine the order and visit information for each day and group:\n",
    "conversion_df = pd.merge(orders_per_day_group, visits_per_day_group, on=['date', 'group'])\n",
    "\n",
    "#Calculate the conversion rate as the ratio of orders to visits:\n",
    "conversion_df['conversion_rate'] = conversion_df['transactionid'] / conversion_df['visits']\n",
    "conversion_df"
   ]
  },
  {
   "cell_type": "code",
   "execution_count": 60,
   "metadata": {
    "scrolled": false
   },
   "outputs": [
    {
     "data": {
      "image/png": "[encoded data removed]",
      "text/plain": [
       "<Figure size 432x288 with 1 Axes>"
      ]
     },
     "metadata": {
      "needs_background": "light"
     },
     "output_type": "display_data"
    }
   ],
   "source": [
    "# Filter the conversion_df DataFrame for each group\n",
    "group_a_conversion = conversion_df[conversion_df['group'] == 'A']\n",
    "group_b_conversion = conversion_df[conversion_df['group'] == 'B']\n",
    "\n",
    "# Plotting the daily conversion rates for Group A\n",
    "plt.plot(group_a_conversion['date'], group_a_conversion['conversion_rate'], marker='o', label='Group A')\n",
    "\n",
    "# Plotting the daily conversion rates for Group B\n",
    "plt.plot(group_b_conversion['date'], group_b_conversion['conversion_rate'], marker='o', label='Group B')\n",
    "\n",
    "# Formatting the plot\n",
    "plt.xlabel('Date')\n",
    "plt.ylabel('Conversion Rate')\n",
    "plt.title('Daily Conversion Rates by Group')\n",
    "plt.legend()\n",
    "\n",
    "# Rotating x-axis labels for better readability (if needed)\n",
    "plt.xticks(rotation=45)\n",
    "\n",
    "# Display the plot\n",
    "plt.show()"
   ]
  },
  {
   "cell_type": "markdown",
   "metadata": {},
   "source": [
    "Based on the conversion_df DataFrame provided, we can observe the following:\n",
    "\n",
    "Difference in Conversion Rates:\n",
    "\n",
    "- On 2019-08-01, Group B had a conversion rate of 0.0309 (or 3.09%) while Group A's conversion rate is not available in the provided data.\n",
    "- On 2019-08-15, Group A had a conversion rate of 0.000801 (or 0.0801%) and Group B had a conversion rate of 0.003423 (or 0.3423%).\n",
    "- On 2019-08-16, Group B had a conversion rate of 0.002178 (or 0.2178%) while Group A's conversion rate is not available in the provided data.\n",
    "\n",
    "Conclusions and Conjectures:\n",
    "\n",
    "- The conversion rates for both groups, A and B, vary across different dates. It is essential to analyze more data points or a longer time period to draw more robust conclusions.\n",
    "- On 2019-08-01, Group B had a significantly higher conversion rate compared to the other available dates. This could indicate the effectiveness of certain factors or interventions specific to that day for Group B, which led to a higher conversion rate.\n",
    "- On 2019-08-15, both groups had low conversion rates. However, Group B had a higher conversion rate compared to Group A, indicating a potential positive impact of certain factors or interventions implemented for Group B.\n",
    "- On 2019-08-16, Group B's conversion rate decreased compared to the previous day, while the conversion rate for Group A is not available in the provided data. It is necessary to analyze more data points to understand the trend and determine if this decrease is significant or temporary."
   ]
  },
  {
   "cell_type": "markdown",
   "metadata": {},
   "source": [
    "### Number of orders per user."
   ]
  },
  {
   "cell_type": "markdown",
   "metadata": {},
   "source": [
    "To plot a scatter chart of the number of orders per user, we need to calculate the number of orders per user first. We can do this by grouping the orders dataframe (orders_df) by the visitorid and then counting the number of transactions for each user."
   ]
  },
  {
   "cell_type": "code",
   "execution_count": 34,
   "metadata": {
    "scrolled": true
   },
   "outputs": [
    {
     "data": {
      "image/png": "[encoded data removed]",
      "text/plain": [
       "<Figure size 432x288 with 1 Axes>"
      ]
     },
     "metadata": {
      "needs_background": "light"
     },
     "output_type": "display_data"
    }
   ],
   "source": [
    "# Calculate the number of orders per user\n",
    "orders_per_user = orders_df.groupby('visitorid')['transactionid'].count()\n",
    "\n",
    "# Plot the scatter chart\n",
    "plt.scatter(orders_per_user.index, orders_per_user.values)\n",
    "\n",
    "# Set the plot title and labels\n",
    "plt.title('Number of Orders per User')\n",
    "plt.xlabel('Visitor ID')\n",
    "plt.ylabel('Number of Orders')\n",
    "\n",
    "# Display the plot\n",
    "plt.show()"
   ]
  },
  {
   "cell_type": "markdown",
   "metadata": {},
   "source": [
    "Lets find the number of orders per user per group, we need to calculate the average number of orders per unique visitor for each group"
   ]
  },
  {
   "cell_type": "code",
   "execution_count": 35,
   "metadata": {},
   "outputs": [
    {
     "data": {
      "text/plain": [
       "group\n",
       "A    1.107356\n",
       "B    1.092150\n",
       "dtype: float64"
      ]
     },
     "execution_count": 35,
     "metadata": {},
     "output_type": "execute_result"
    }
   ],
   "source": [
    "#Count the number of unique visitors in each group using the nunique() function:\n",
    "unique_visitors_group = orders_df.groupby('group')['visitorid'].nunique()\n",
    "\n",
    "#Count the number of orders in each group using the count() function:\n",
    "orders_group = orders_df.groupby('group')['transactionid'].count()\n",
    "\n",
    "#Calculate the number of orders per user by dividing the total number of orders by the total number of unique visitors for each group:\n",
    "orders_per_user_per_group = orders_group / unique_visitors_group\n",
    "orders_per_user_per_group"
   ]
  },
  {
   "cell_type": "code",
   "execution_count": 36,
   "metadata": {
    "scrolled": true
   },
   "outputs": [
    {
     "data": {
      "image/png": "[encoded data removed]",
      "text/plain": [
       "<Figure size 432x288 with 1 Axes>"
      ]
     },
     "metadata": {
      "needs_background": "light"
     },
     "output_type": "display_data"
    }
   ],
   "source": [
    "# Extract the group names and orders_per_user values\n",
    "groups = orders_per_user_per_group.index\n",
    "orders_per_user_per_group_values = orders_per_user_per_group.values\n",
    "\n",
    "# Plotting the scatter chart\n",
    "plt.scatter(groups, orders_per_user_per_group_values)\n",
    "\n",
    "# Formatting the plot\n",
    "plt.xlabel('Group')\n",
    "plt.ylabel('Orders per User')\n",
    "plt.title('Number of Orders per User by Group')\n",
    "\n",
    "# Display the plot\n",
    "plt.show()"
   ]
  },
  {
   "cell_type": "markdown",
   "metadata": {},
   "source": [
    "### Calculate the 95th and 99th percentiles for the number of orders per user"
   ]
  },
  {
   "cell_type": "markdown",
   "metadata": {},
   "source": [
    "To calculate the 95th and 99th percentiles for the number of orders per user, we can use the quantile method in pandas on the orders_per_user Series. "
   ]
  },
  {
   "cell_type": "code",
   "execution_count": 37,
   "metadata": {},
   "outputs": [
    {
     "name": "stdout",
     "output_type": "stream",
     "text": [
      "95th Percentile: 2.00\n",
      "99th Percentile: 4.00\n",
      "Anomaly Threshold: 4.00\n"
     ]
    }
   ],
   "source": [
    "# Calculate the percentiles\n",
    "percentiles = np.percentile(orders_per_user, [95, 99])\n",
    "\n",
    "# Define the anomaly threshold\n",
    "anomaly_threshold = percentiles[1]  # Use the 99th percentile as the anomaly threshold\n",
    "\n",
    "print(\"95th Percentile: {:.2f}\".format(percentiles[0]))\n",
    "print(\"99th Percentile: {:.2f}\".format(percentiles[1]))\n",
    "print(\"Anomaly Threshold: {:.2f}\".format(anomaly_threshold))"
   ]
  },
  {
   "cell_type": "markdown",
   "metadata": {},
   "source": [
    "Based on the 95th and 99th percentiles obtained (95th Percentile: 2.00, 99th Percentile: 4.00), we can define the point at which a data point becomes an anomaly.\n",
    "\n",
    "An anomaly can be defined as any data point that exceeds the 99th percentile value, as it represents an extreme and uncommon occurrence within the dataset. Therefore, any number of orders per user greater than 4.00 can be considered an anomaly based on the provided percentiles.\n",
    "\n",
    "Hence, the anomaly threshold is set at 4.00 orders per user. Any user with a number of orders exceeding this threshold would be considered an anomaly in this context."
   ]
  },
  {
   "cell_type": "markdown",
   "metadata": {},
   "source": [
    "### Plot a scatter chart of order prices. "
   ]
  },
  {
   "cell_type": "code",
   "execution_count": 38,
   "metadata": {},
   "outputs": [
    {
     "data": {
      "text/plain": [
       "count     1197.000000\n",
       "mean       131.491646\n",
       "std        603.004729\n",
       "min          5.000000\n",
       "25%         20.800000\n",
       "50%         50.200000\n",
       "75%        130.400000\n",
       "max      19920.400000\n",
       "Name: revenue, dtype: float64"
      ]
     },
     "execution_count": 38,
     "metadata": {},
     "output_type": "execute_result"
    }
   ],
   "source": [
    "order_prices = orders_df['revenue']\n",
    "order_prices.describe()"
   ]
  },
  {
   "cell_type": "code",
   "execution_count": 39,
   "metadata": {},
   "outputs": [
    {
     "data": {
      "image/png": "[encoded data removed]",
      "text/plain": [
       "<Figure size 720x432 with 1 Axes>"
      ]
     },
     "metadata": {
      "needs_background": "light"
     },
     "output_type": "display_data"
    }
   ],
   "source": [
    "# Create a scatter plot\n",
    "plt.figure(figsize=(10, 6))\n",
    "plt.scatter(orders_df.index, orders_df['revenue'], alpha=0.5)\n",
    "plt.xlabel('Order Index')\n",
    "plt.ylabel('Order Price')\n",
    "plt.title('Order Prices')\n",
    "plt.show()"
   ]
  },
  {
   "cell_type": "markdown",
   "metadata": {},
   "source": [
    "From these statistics, we can conclude that the order prices exhibit a wide range of values, with a relatively high mean and standard deviation. The presence of both low-value and high-value orders suggests a diverse customer base with varying purchasing behaviors. Additionally, the significant difference between the median and the mean indicates the presence of a skewed distribution, likely influenced by the presence of high-value outliers."
   ]
  },
  {
   "cell_type": "markdown",
   "metadata": {},
   "source": [
    "### Calculate the 95th and 99th percentiles of order prices. "
   ]
  },
  {
   "cell_type": "markdown",
   "metadata": {},
   "source": [
    "We can calculate the 95th and 99th percentiles of the order prices, we can use the quantile method in pandas on the order_prices Series"
   ]
  },
  {
   "cell_type": "code",
   "execution_count": 40,
   "metadata": {},
   "outputs": [
    {
     "name": "stdout",
     "output_type": "stream",
     "text": [
      "95th Percentile: 435.54\n",
      "99th Percentile: 900.90\n",
      "Anomaly Threshold: 900.90\n"
     ]
    }
   ],
   "source": [
    "# Calculate the percentiles\n",
    "percentiles = np.percentile(orders_df['revenue'], [95, 99])\n",
    "\n",
    "# Define the anomaly threshold\n",
    "anomaly_threshold = percentiles[1]  # Use the 99th percentile as the anomaly threshold\n",
    "\n",
    "print(\"95th Percentile: {:.2f}\".format(percentiles[0]))\n",
    "print(\"99th Percentile: {:.2f}\".format(percentiles[1]))\n",
    "print(\"Anomaly Threshold: {:.2f}\".format(anomaly_threshold))"
   ]
  },
  {
   "cell_type": "markdown",
   "metadata": {},
   "source": [
    "Based on the 95th and 99th percentiles obtained (95th Percentile: 435.54, 99th Percentile: 900.90), we can define the point at which a data point becomes an anomaly.\n",
    "\n",
    "An anomaly can be defined as any data point that exceeds the 99th percentile value, as it represents an extreme and uncommon occurrence within the dataset. Therefore, any order price greater than 900.90 can be considered an anomaly based on the provided percentiles.\n",
    "\n",
    "Hence, the anomaly threshold for order prices is set at 900.90. Any order with a price exceeding this threshold would be considered an anomaly in this context."
   ]
  },
  {
   "cell_type": "markdown",
   "metadata": {},
   "source": [
    "### Find the statistical significance of the difference in conversion between the groups using the raw data. "
   ]
  },
  {
   "cell_type": "markdown",
   "metadata": {},
   "source": [
    "In the context of the statistical significance test for the difference in conversion between the groups, the hypotheses can be defined as follows:\n",
    "\n",
    "- H0 (Null Hypothesis): There is no statistically significant difference in conversion rates between Group A and Group B.\n",
    "\n",
    "- H1 (Alternative Hypothesis): There is a statistically significant difference in conversion rates between Group A and Group B."
   ]
  },
  {
   "cell_type": "code",
   "execution_count": 41,
   "metadata": {},
   "outputs": [
    {
     "name": "stdout",
     "output_type": "stream",
     "text": [
      "Group A Conversion Rate: 0.0297\n",
      "Group B Conversion Rate: 0.0338\n",
      "Z-score: -2.2700\n",
      "p-value: 0.0232\n"
     ]
    }
   ],
   "source": [
    "import statsmodels.stats.proportion as sp\n",
    "\n",
    "# Calculate the total number of orders for each group\n",
    "total_orders_a = orders_df[orders_df['group'] == 'A'].shape[0]\n",
    "total_orders_b = orders_df[orders_df['group'] == 'B'].shape[0]\n",
    "\n",
    "# Calculate the total number of visits for each group\n",
    "total_visits_a = visits_df[visits_df['group'] == 'A']['visits'].sum()\n",
    "total_visits_b = visits_df[visits_df['group'] == 'B']['visits'].sum()\n",
    "\n",
    "# Calculate the conversion rates for each group\n",
    "conversion_rate_a = total_orders_a / total_visits_a\n",
    "conversion_rate_b = total_orders_b / total_visits_b\n",
    "\n",
    "# Perform proportions z-test\n",
    "zscore, pvalue = sp.proportions_ztest([total_orders_a, total_orders_b], [total_visits_a, total_visits_b])\n",
    "\n",
    "print(\"Group A Conversion Rate: {:.4f}\".format(conversion_rate_a))\n",
    "print(\"Group B Conversion Rate: {:.4f}\".format(conversion_rate_b))\n",
    "print(\"Z-score: {:.4f}\".format(zscore))\n",
    "print(\"p-value: {:.4f}\".format(pvalue))\n"
   ]
  },
  {
   "cell_type": "markdown",
   "metadata": {},
   "source": [
    "Based on the provided output from the proportions z-test:\n",
    "\n",
    "- The conversion rate for Group A is 0.0297 (2.97%), while the conversion rate for Group B is 0.0338 (3.38%).\n",
    "\n",
    "- Statistical Significance: The negative z-score of -2.2700 suggests that the observed difference in conversion rates is 2.27 standard deviations below the mean difference. The corresponding p-value of 0.0232 indicates that there is a 2.32% chance of obtaining the observed difference (or a more extreme difference) between the groups by chance alone.\n",
    "\n",
    "- Since the p-value (0.0232) is less than the typical significance level of 0.05, we can reject the null hypothesis and conclude that there is a statistically significant difference in conversion rates between Group A and Group B.\n",
    "\n",
    "- While the observed difference in conversion rates is statistically significant, it is also essential to consider the practical significance. In this case, the difference in conversion rates between the groups is relatively small (approximately 0.0041 or 0.41%). Therefore, although statistically significant, the practical significance of this difference may be relatively modest.\n",
    "\n",
    "- Based on the statistical significance, one could conjecture that there might be factors influencing user behavior or marketing strategies that contribute to the difference in conversion rates between Group A and Group B. However, further analysis is needed to identify the specific factors and understand their impact on user conversions.\n",
    "\n",
    "- The statistically significant difference in conversion rates provides an opportunity to investigate the underlying reasons for the discrepancy and explore strategies to improve conversion rates. This could involve analyzing user behavior, evaluating the effectiveness of marketing campaigns, optimizing website design, or refining the conversion funnel for each group.\n"
   ]
  },
  {
   "cell_type": "markdown",
   "metadata": {},
   "source": [
    "### Find the statistical significance of the difference in average order size between the groups using the raw data. "
   ]
  },
  {
   "cell_type": "markdown",
   "metadata": {},
   "source": [
    "In the context of the statistical significance test for the difference in average order size between Group A and Group B, the hypotheses can be defined as follows:\n",
    "\n",
    "- H0 (Null Hypothesis): There is no statistically significant difference in average order size between Group A and Group B.\n",
    "\n",
    "- H1 (Alternative Hypothesis): There is a statistically significant difference in average order size between Group A and Group B."
   ]
  },
  {
   "cell_type": "code",
   "execution_count": 42,
   "metadata": {},
   "outputs": [
    {
     "name": "stdout",
     "output_type": "stream",
     "text": [
      "Group A Mean Order Size: 115.90\n",
      "Group B Mean Order Size: 145.06\n",
      "t-statistic: -0.8886\n",
      "p-value: 0.3745\n"
     ]
    }
   ],
   "source": [
    "# Extract the order sizes for each group\n",
    "order_sizes_a = orders_df[orders_df['group'] == 'A']['revenue']\n",
    "order_sizes_b = orders_df[orders_df['group'] == 'B']['revenue']\n",
    "\n",
    "# Perform independent t-test\n",
    "t_stat, p_value = stats.ttest_ind(order_sizes_a, order_sizes_b, equal_var=False)\n",
    "\n",
    "print(\"Group A Mean Order Size: {:.2f}\".format(order_sizes_a.mean()))\n",
    "print(\"Group B Mean Order Size: {:.2f}\".format(order_sizes_b.mean()))\n",
    "print(\"t-statistic: {:.4f}\".format(t_stat))\n",
    "print(\"p-value: {:.4f}\".format(p_value))"
   ]
  },
  {
   "cell_type": "markdown",
   "metadata": {},
   "source": [
    "Based on the provided results from the independent t-test:\n",
    "- The mean order size for Group A is 115.90, while the mean order size for Group B is 145.06.\n",
    "\n",
    "- Statistical Significance: The t-statistic of -0.8886 indicates the magnitude and direction of the difference in average order sizes between the groups relative to the variability within the groups. The p-value of 0.3745 indicates that there is a 37.45% chance of obtaining the observed difference (or a more extreme difference) in average order sizes between the groups by chance alone.\n",
    "\n",
    "- Since the p-value (0.3745) is greater than the typical significance level of 0.05, we fail to reject the null hypothesis. Therefore, there is not enough evidence to conclude that there is a statistically significant difference in average order sizes between Group A and Group B.\n",
    "\n",
    "- The observed t-statistic is relatively small (absolute value of 0.8886), indicating a relatively small difference in average order sizes between the groups. Although the difference is not statistically significant, it may still be worth exploring from a practical standpoint to understand the potential factors that contribute to the variation in order sizes.\n",
    "\n",
    "- Based on the results, it is suggested that there may not be significant factors influencing the average order sizes between Group A and Group B. However, further investigation is needed to explore potential factors that might contribute to variations in order sizes, such as pricing strategies, product assortment, customer preferences, or other market dynamics.\n",
    "- The lack of statistical significance in the difference in average order sizes suggests that the strategies or characteristics associated with Group A and Group B may not have a substantial impact on the order values. It may be valuable to consider other metrics or conduct deeper analysis to understand the factors that drive customer behavior and purchasing patterns in order to optimize revenue and enhance the customer experience."
   ]
  },
  {
   "cell_type": "markdown",
   "metadata": {},
   "source": [
    "### Find the statistical significance of the difference in conversion between the groups using the filtered data."
   ]
  },
  {
   "cell_type": "markdown",
   "metadata": {},
   "source": [
    "To find the statistical significance of the difference in conversion between the groups using the filtered data, you can perform a hypothesis test, such as the proportions z-test.\n",
    "\n",
    "- H0 (Null Hypothesis): The null hypothesis assumes that there is no statistically significant difference in conversion rates between Group A and Group B.\n",
    "\n",
    "- H1 (Alternative Hypothesis): The alternative hypothesis suggests that there is a statistically significant difference in conversion rates between Group A and Group B."
   ]
  },
  {
   "cell_type": "code",
   "execution_count": 45,
   "metadata": {},
   "outputs": [],
   "source": [
    "# Calculate the number of orders for Group A and Group B\n",
    "orders_a = orders_df[orders_df['group'] == 'A'].shape[0]\n",
    "orders_b = orders_df[orders_df['group'] == 'B'].shape[0]\n",
    "\n",
    "# Calculate the number of visits for Group A and Group B\n",
    "visits_a = visits_df[visits_df['group'] == 'A']['visits'].sum()\n",
    "visits_b = visits_df[visits_df['group'] == 'B']['visits'].sum()\n",
    "\n",
    "# Calculate the conversion rates\n",
    "conversion_a = orders_a / visits_a\n",
    "conversion_b = orders_b / visits_b"
   ]
  },
  {
   "cell_type": "code",
   "execution_count": 48,
   "metadata": {},
   "outputs": [
    {
     "name": "stdout",
     "output_type": "stream",
     "text": [
      "Group A Conversion Rate: 0.0297\n",
      "Group B Conversion Rate: 0.0338\n",
      "Z-score: 2.2708\n",
      "p-value: 0.0232\n"
     ]
    }
   ],
   "source": [
    "# Calculate the pooled standard error\n",
    "se_a = np.sqrt(conversion_a * (1 - conversion_a) / visits_a)\n",
    "se_b = np.sqrt(conversion_b * (1 - conversion_b) / visits_b)\n",
    "se_pooled = np.sqrt(se_a**2 + se_b**2)\n",
    "\n",
    "# Calculate the Z-score\n",
    "z_score = (conversion_b - conversion_a) / se_pooled\n",
    "\n",
    "# Calculate the p-value (two-tailed test)\n",
    "p_value = 2 * (1 - stats.norm.cdf(abs(z_score)))\n",
    "\n",
    "print(\"Group A Conversion Rate: {:.4f}\".format(conversion_a))\n",
    "print(\"Group B Conversion Rate: {:.4f}\".format(conversion_b))\n",
    "print(\"Z-score: {:.4f}\".format(z_score))\n",
    "print(\"p-value: {:.4f}\".format(p_value))"
   ]
  },
  {
   "cell_type": "markdown",
   "metadata": {},
   "source": [
    "Based on the statistical analysis and the obtained p-value, the conclusion supports rejecting the null hypothesis and accepting the alternative hypothesis. This suggests that there is evidence to suggest a significant difference in conversion rates between Group A and Group B."
   ]
  },
  {
   "cell_type": "markdown",
   "metadata": {},
   "source": [
    "Based on the provided results:\n",
    "\n",
    "- The calculated conversion rate for Group A is 0.0297 (2.97%), while the conversion rate for Group B is 0.0338 (3.38%).\n",
    "\n",
    "- The calculated z-score of 2.2708 indicates the magnitude and direction of the difference in conversion rates between the groups relative to the variability within the groups. The p-value of 0.0232 suggests that there is a 2.32% chance of obtaining the observed difference (or a more extreme difference) in conversion rates between Group A and Group B by chance alone.\n",
    "\n",
    "- Since the p-value (0.0232) is below the typical significance level of 0.05, **we can reject the null hypothesis**. Therefore, there is sufficient evidence to conclude that there is a statistically significant difference in conversion rates between Group A and Group B.\n",
    "\n",
    "- The observed z-score (2.2708) indicates a relatively large difference in conversion rates between the two groups. This suggests that the factors or strategies associated with Group B might have a meaningful impact on improving the conversion rate compared to Group A.\n",
    "\n",
    "- Based on the results, it can be conjectured that the characteristics, interventions, or strategies applied to Group B may have contributed to the higher conversion rate compared to Group A. Further analysis and exploration of the specific factors or interventions in Group B could provide insights into the drivers of the observed difference.\n",
    "\n",
    "- The statistical significance of the difference in conversion rates highlights the potential effectiveness of the approaches applied to Group B. Businesses can consider leveraging the successful strategies or interventions observed in Group B to optimize conversion rates across all groups and enhance overall performance."
   ]
  },
  {
   "cell_type": "markdown",
   "metadata": {},
   "source": [
    "### Find the statistical significance of the difference in average order size between the groups using the filtered data. "
   ]
  },
  {
   "cell_type": "markdown",
   "metadata": {},
   "source": [
    "To find the statistical significance of the difference in average order size between the groups using the filtered data based on the anomalies and 99th percentiles, we can perform a hypothesis test such as the t-test. \n",
    "\n",
    "- H0 (Null Hypothesis): There is no significant difference in the average order size between the two groups.\n",
    "- H1 (Alternative Hypothesis): There is a significant difference in the average order size between the two groups."
   ]
  },
  {
   "cell_type": "code",
   "execution_count": 44,
   "metadata": {},
   "outputs": [
    {
     "name": "stdout",
     "output_type": "stream",
     "text": [
      "t-statistic: -0.7540\n",
      "p-value: 0.4510\n"
     ]
    }
   ],
   "source": [
    "#Filter the 'orders_df' dataframe to include only the orders with prices below the 99th percentile (900.90).\n",
    "filtered_orders = orders_df[orders_df['revenue'] < 900.90]\n",
    "\n",
    "#Merge the filtered orders dataframe with the 'visits_df' dataframe on the 'date' and 'group' columns.\n",
    "merged_data = pd.merge(filtered_orders, visits_df, on=['date', 'group'])\n",
    "\n",
    "#Calculate the average order size for each group.\n",
    "average_order_size_A = merged_data[merged_data['group'] == 'A']['revenue'].mean()\n",
    "average_order_size_B = merged_data[merged_data['group'] == 'B']['revenue'].mean()\n",
    "\n",
    "#Perform a statistical test to determine the significance of the difference in average order size between the groups.\n",
    "#One commonly used test is the independent t-test.\n",
    "from scipy.stats import ttest_ind\n",
    "group_A_orders = merged_data[merged_data['group'] == 'A']['revenue']\n",
    "group_B_orders = merged_data[merged_data['group'] == 'B']['revenue']\n",
    "\n",
    "statistic, p_value = ttest_ind(group_A_orders, group_B_orders)\n",
    "\n",
    "print(\"t-statistic: {:.4f}\".format(statistic))\n",
    "print(\"p-value: {:.4f}\".format(p_value))"
   ]
  },
  {
   "cell_type": "markdown",
   "metadata": {},
   "source": [
    "Based on these results, we can draw the following conclusions and conjectures:\n",
    "\n",
    "- The t-statistic of -0.7540 indicates that there is a slight negative difference in average order size between the groups. However, the absolute value of the t-statistic is relatively small, suggesting that the difference is not significant.\n",
    "\n",
    "- Statistical Significance: The p-value of 0.4510 is greater than the typical significance level of 0.05. This indicates that there is not enough evidence to **reject the null hypothesis, which states that there is no significant difference in average order size between the groups**. In other words, the observed difference in average order size could likely be due to random chance or sampling variability.\n",
    "\n",
    "- Based on the analysis, we cannot conclude that there is a statistically significant difference in average order size between the groups using the filtered data. The p-value above the significance level suggests that any observed differences are likely due to random variation rather than a true distinction between the groups.\n"
   ]
  },
  {
   "cell_type": "markdown",
   "metadata": {},
   "source": [
    "### Make a decision based on the test results. "
   ]
  },
  {
   "cell_type": "markdown",
   "metadata": {},
   "source": [
    "Based on the provided test results and information, the decision would be to **stop the test and conclude that there is no significant difference between the groups**. Both the test for conversion rates and the test for average order size did not yield statistically significant results.\n",
    "\n",
    "Stopping the test and concluding that there is no difference between the groups is a reasonable decision based on the available data. However, it's important to consider the limitations of the analysis and the context of this project.\n"
   ]
  }
 ],
 "metadata": {
  "kernelspec": {
   "display_name": "Python 3 (ipykernel)",
   "language": "python",
   "name": "python3"
  },
  "language_info": {
   "codemirror_mode": {
    "name": "ipython",
    "version": 3
   },
   "file_extension": ".py",
   "mimetype": "text/x-python",
   "name": "python",
   "nbconvert_exporter": "python",
   "pygments_lexer": "ipython3",
   "version": "3.9.5"
  },
  "toc": {
   "base_numbering": 1,
   "nav_menu": {},
   "number_sections": true,
   "sideBar": true,
   "skip_h1_title": true,
   "title_cell": "Table of Contents",
   "title_sidebar": "Contents",
   "toc_cell": false,
   "toc_position": {
    "height": "calc(100% - 180px)",
    "left": "10px",
    "top": "150px",
    "width": "186.712px"
   },
   "toc_section_display": true,
   "toc_window_display": true
  }
 },
 "nbformat": 4,
 "nbformat_minor": 2
}
