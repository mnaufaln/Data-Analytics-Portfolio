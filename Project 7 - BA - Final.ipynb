{
 "cells": [
  {
   "cell_type": "markdown",
   "metadata": {},
   "source": [
    "## Introduction"
   ]
  },
  {
   "cell_type": "markdown",
   "metadata": {},
   "source": [
    "You've done beautifully in the Practicum course, and you've been offered an internship in the analytical department at Y.Afisha. Your first task is to help **optimize marketing expenses**.\n",
    "\n",
    "You have:\n",
    "- Server logs with data on Y.Afisha visits from June 2017 through May 2018\n",
    "- Dump file with all orders for the period\n",
    "- Marketing expenses statistics\n",
    "\n",
    "You are going to study:\n",
    "- How people use the product\n",
    "- When they start to buy\n",
    "- How much money each customer brings\n",
    "- When they pay off"
   ]
  },
  {
   "cell_type": "markdown",
   "metadata": {},
   "source": [
    "## Load Library"
   ]
  },
  {
   "cell_type": "code",
   "execution_count": 1,
   "metadata": {},
   "outputs": [],
   "source": [
    "import requests\n",
    "import pandas as pd\n",
    "import matplotlib.pyplot as plt\n",
    "import seaborn as sns\n",
    "import scipy.stats as stats"
   ]
  },
  {
   "cell_type": "markdown",
   "metadata": {},
   "source": [
    "### Load Data"
   ]
  },
  {
   "cell_type": "code",
   "execution_count": 2,
   "metadata": {},
   "outputs": [],
   "source": [
    "visits_df = pd.read_csv('/datasets/visits_log_us.csv')\n",
    "orders_df = pd.read_csv('/datasets/orders_log_us.csv')\n",
    "costs_df = pd.read_csv('/datasets/costs_us.csv')"
   ]
  },
  {
   "cell_type": "markdown",
   "metadata": {},
   "source": [
    "### Browse Data"
   ]
  },
  {
   "cell_type": "markdown",
   "metadata": {},
   "source": [
    "Check all three dataframe general and statistical info."
   ]
  },
  {
   "cell_type": "code",
   "execution_count": 3,
   "metadata": {},
   "outputs": [
    {
     "name": "stdout",
     "output_type": "stream",
     "text": [
      "<class 'pandas.core.frame.DataFrame'>\n",
      "RangeIndex: 359400 entries, 0 to 359399\n",
      "Data columns (total 5 columns):\n",
      " #   Column     Non-Null Count   Dtype \n",
      "---  ------     --------------   ----- \n",
      " 0   Device     359400 non-null  object\n",
      " 1   End Ts     359400 non-null  object\n",
      " 2   Source Id  359400 non-null  int64 \n",
      " 3   Start Ts   359400 non-null  object\n",
      " 4   Uid        359400 non-null  uint64\n",
      "dtypes: int64(1), object(3), uint64(1)\n",
      "memory usage: 13.7+ MB\n",
      "<class 'pandas.core.frame.DataFrame'>\n",
      "RangeIndex: 50415 entries, 0 to 50414\n",
      "Data columns (total 3 columns):\n",
      " #   Column   Non-Null Count  Dtype  \n",
      "---  ------   --------------  -----  \n",
      " 0   Buy Ts   50415 non-null  object \n",
      " 1   Revenue  50415 non-null  float64\n",
      " 2   Uid      50415 non-null  uint64 \n",
      "dtypes: float64(1), object(1), uint64(1)\n",
      "memory usage: 1.2+ MB\n",
      "<class 'pandas.core.frame.DataFrame'>\n",
      "RangeIndex: 2542 entries, 0 to 2541\n",
      "Data columns (total 3 columns):\n",
      " #   Column     Non-Null Count  Dtype  \n",
      "---  ------     --------------  -----  \n",
      " 0   source_id  2542 non-null   int64  \n",
      " 1   dt         2542 non-null   object \n",
      " 2   costs      2542 non-null   float64\n",
      "dtypes: float64(1), int64(1), object(1)\n",
      "memory usage: 59.7+ KB\n"
     ]
    }
   ],
   "source": [
    "visits_df.info()\n",
    "orders_df.info()\n",
    "costs_df.info()"
   ]
  },
  {
   "cell_type": "markdown",
   "metadata": {},
   "source": [
    "### Check Data Statistically"
   ]
  },
  {
   "cell_type": "code",
   "execution_count": 4,
   "metadata": {},
   "outputs": [
    {
     "data": {
      "text/html": [
       "<div>\n",
       "<style scoped>\n",
       "    .dataframe tbody tr th:only-of-type {\n",
       "        vertical-align: middle;\n",
       "    }\n",
       "\n",
       "    .dataframe tbody tr th {\n",
       "        vertical-align: top;\n",
       "    }\n",
       "\n",
       "    .dataframe thead th {\n",
       "        text-align: right;\n",
       "    }\n",
       "</style>\n",
       "<table border=\"1\" class=\"dataframe\">\n",
       "  <thead>\n",
       "    <tr style=\"text-align: right;\">\n",
       "      <th></th>\n",
       "      <th>Source Id</th>\n",
       "      <th>Uid</th>\n",
       "    </tr>\n",
       "  </thead>\n",
       "  <tbody>\n",
       "    <tr>\n",
       "      <th>count</th>\n",
       "      <td>359400.000000</td>\n",
       "      <td>3.594000e+05</td>\n",
       "    </tr>\n",
       "    <tr>\n",
       "      <th>mean</th>\n",
       "      <td>3.750515</td>\n",
       "      <td>9.202557e+18</td>\n",
       "    </tr>\n",
       "    <tr>\n",
       "      <th>std</th>\n",
       "      <td>1.917116</td>\n",
       "      <td>5.298433e+18</td>\n",
       "    </tr>\n",
       "    <tr>\n",
       "      <th>min</th>\n",
       "      <td>1.000000</td>\n",
       "      <td>1.186350e+13</td>\n",
       "    </tr>\n",
       "    <tr>\n",
       "      <th>25%</th>\n",
       "      <td>3.000000</td>\n",
       "      <td>4.613407e+18</td>\n",
       "    </tr>\n",
       "    <tr>\n",
       "      <th>50%</th>\n",
       "      <td>4.000000</td>\n",
       "      <td>9.227413e+18</td>\n",
       "    </tr>\n",
       "    <tr>\n",
       "      <th>75%</th>\n",
       "      <td>5.000000</td>\n",
       "      <td>1.372824e+19</td>\n",
       "    </tr>\n",
       "    <tr>\n",
       "      <th>max</th>\n",
       "      <td>10.000000</td>\n",
       "      <td>1.844668e+19</td>\n",
       "    </tr>\n",
       "  </tbody>\n",
       "</table>\n",
       "</div>"
      ],
      "text/plain": [
       "           Source Id           Uid\n",
       "count  359400.000000  3.594000e+05\n",
       "mean        3.750515  9.202557e+18\n",
       "std         1.917116  5.298433e+18\n",
       "min         1.000000  1.186350e+13\n",
       "25%         3.000000  4.613407e+18\n",
       "50%         4.000000  9.227413e+18\n",
       "75%         5.000000  1.372824e+19\n",
       "max        10.000000  1.844668e+19"
      ]
     },
     "execution_count": 4,
     "metadata": {},
     "output_type": "execute_result"
    }
   ],
   "source": [
    "visits_df.describe()"
   ]
  },
  {
   "cell_type": "code",
   "execution_count": 5,
   "metadata": {},
   "outputs": [
    {
     "data": {
      "text/html": [
       "<div>\n",
       "<style scoped>\n",
       "    .dataframe tbody tr th:only-of-type {\n",
       "        vertical-align: middle;\n",
       "    }\n",
       "\n",
       "    .dataframe tbody tr th {\n",
       "        vertical-align: top;\n",
       "    }\n",
       "\n",
       "    .dataframe thead th {\n",
       "        text-align: right;\n",
       "    }\n",
       "</style>\n",
       "<table border=\"1\" class=\"dataframe\">\n",
       "  <thead>\n",
       "    <tr style=\"text-align: right;\">\n",
       "      <th></th>\n",
       "      <th>Revenue</th>\n",
       "      <th>Uid</th>\n",
       "    </tr>\n",
       "  </thead>\n",
       "  <tbody>\n",
       "    <tr>\n",
       "      <th>count</th>\n",
       "      <td>50415.000000</td>\n",
       "      <td>5.041500e+04</td>\n",
       "    </tr>\n",
       "    <tr>\n",
       "      <th>mean</th>\n",
       "      <td>4.999647</td>\n",
       "      <td>9.098161e+18</td>\n",
       "    </tr>\n",
       "    <tr>\n",
       "      <th>std</th>\n",
       "      <td>21.818359</td>\n",
       "      <td>5.285742e+18</td>\n",
       "    </tr>\n",
       "    <tr>\n",
       "      <th>min</th>\n",
       "      <td>0.000000</td>\n",
       "      <td>3.135781e+14</td>\n",
       "    </tr>\n",
       "    <tr>\n",
       "      <th>25%</th>\n",
       "      <td>1.220000</td>\n",
       "      <td>4.533567e+18</td>\n",
       "    </tr>\n",
       "    <tr>\n",
       "      <th>50%</th>\n",
       "      <td>2.500000</td>\n",
       "      <td>9.102274e+18</td>\n",
       "    </tr>\n",
       "    <tr>\n",
       "      <th>75%</th>\n",
       "      <td>4.890000</td>\n",
       "      <td>1.368290e+19</td>\n",
       "    </tr>\n",
       "    <tr>\n",
       "      <th>max</th>\n",
       "      <td>2633.280000</td>\n",
       "      <td>1.844617e+19</td>\n",
       "    </tr>\n",
       "  </tbody>\n",
       "</table>\n",
       "</div>"
      ],
      "text/plain": [
       "            Revenue           Uid\n",
       "count  50415.000000  5.041500e+04\n",
       "mean       4.999647  9.098161e+18\n",
       "std       21.818359  5.285742e+18\n",
       "min        0.000000  3.135781e+14\n",
       "25%        1.220000  4.533567e+18\n",
       "50%        2.500000  9.102274e+18\n",
       "75%        4.890000  1.368290e+19\n",
       "max     2633.280000  1.844617e+19"
      ]
     },
     "execution_count": 5,
     "metadata": {},
     "output_type": "execute_result"
    }
   ],
   "source": [
    "orders_df.describe()"
   ]
  },
  {
   "cell_type": "code",
   "execution_count": 6,
   "metadata": {
    "scrolled": true
   },
   "outputs": [
    {
     "data": {
      "text/html": [
       "<div>\n",
       "<style scoped>\n",
       "    .dataframe tbody tr th:only-of-type {\n",
       "        vertical-align: middle;\n",
       "    }\n",
       "\n",
       "    .dataframe tbody tr th {\n",
       "        vertical-align: top;\n",
       "    }\n",
       "\n",
       "    .dataframe thead th {\n",
       "        text-align: right;\n",
       "    }\n",
       "</style>\n",
       "<table border=\"1\" class=\"dataframe\">\n",
       "  <thead>\n",
       "    <tr style=\"text-align: right;\">\n",
       "      <th></th>\n",
       "      <th>source_id</th>\n",
       "      <th>costs</th>\n",
       "    </tr>\n",
       "  </thead>\n",
       "  <tbody>\n",
       "    <tr>\n",
       "      <th>count</th>\n",
       "      <td>2542.000000</td>\n",
       "      <td>2542.000000</td>\n",
       "    </tr>\n",
       "    <tr>\n",
       "      <th>mean</th>\n",
       "      <td>4.857199</td>\n",
       "      <td>129.477427</td>\n",
       "    </tr>\n",
       "    <tr>\n",
       "      <th>std</th>\n",
       "      <td>3.181581</td>\n",
       "      <td>156.296628</td>\n",
       "    </tr>\n",
       "    <tr>\n",
       "      <th>min</th>\n",
       "      <td>1.000000</td>\n",
       "      <td>0.540000</td>\n",
       "    </tr>\n",
       "    <tr>\n",
       "      <th>25%</th>\n",
       "      <td>2.000000</td>\n",
       "      <td>21.945000</td>\n",
       "    </tr>\n",
       "    <tr>\n",
       "      <th>50%</th>\n",
       "      <td>4.000000</td>\n",
       "      <td>77.295000</td>\n",
       "    </tr>\n",
       "    <tr>\n",
       "      <th>75%</th>\n",
       "      <td>9.000000</td>\n",
       "      <td>170.065000</td>\n",
       "    </tr>\n",
       "    <tr>\n",
       "      <th>max</th>\n",
       "      <td>10.000000</td>\n",
       "      <td>1788.280000</td>\n",
       "    </tr>\n",
       "  </tbody>\n",
       "</table>\n",
       "</div>"
      ],
      "text/plain": [
       "         source_id        costs\n",
       "count  2542.000000  2542.000000\n",
       "mean      4.857199   129.477427\n",
       "std       3.181581   156.296628\n",
       "min       1.000000     0.540000\n",
       "25%       2.000000    21.945000\n",
       "50%       4.000000    77.295000\n",
       "75%       9.000000   170.065000\n",
       "max      10.000000  1788.280000"
      ]
     },
     "execution_count": 6,
     "metadata": {},
     "output_type": "execute_result"
    }
   ],
   "source": [
    "costs_df.describe()"
   ]
  },
  {
   "cell_type": "markdown",
   "metadata": {},
   "source": [
    "Check the overview of all three dataframe\n"
   ]
  },
  {
   "cell_type": "code",
   "execution_count": 7,
   "metadata": {},
   "outputs": [
    {
     "data": {
      "text/html": [
       "<div>\n",
       "<style scoped>\n",
       "    .dataframe tbody tr th:only-of-type {\n",
       "        vertical-align: middle;\n",
       "    }\n",
       "\n",
       "    .dataframe tbody tr th {\n",
       "        vertical-align: top;\n",
       "    }\n",
       "\n",
       "    .dataframe thead th {\n",
       "        text-align: right;\n",
       "    }\n",
       "</style>\n",
       "<table border=\"1\" class=\"dataframe\">\n",
       "  <thead>\n",
       "    <tr style=\"text-align: right;\">\n",
       "      <th></th>\n",
       "      <th>Device</th>\n",
       "      <th>End Ts</th>\n",
       "      <th>Source Id</th>\n",
       "      <th>Start Ts</th>\n",
       "      <th>Uid</th>\n",
       "    </tr>\n",
       "  </thead>\n",
       "  <tbody>\n",
       "    <tr>\n",
       "      <th>0</th>\n",
       "      <td>touch</td>\n",
       "      <td>2017-12-20 17:38:00</td>\n",
       "      <td>4</td>\n",
       "      <td>2017-12-20 17:20:00</td>\n",
       "      <td>16879256277535980062</td>\n",
       "    </tr>\n",
       "    <tr>\n",
       "      <th>1</th>\n",
       "      <td>desktop</td>\n",
       "      <td>2018-02-19 17:21:00</td>\n",
       "      <td>2</td>\n",
       "      <td>2018-02-19 16:53:00</td>\n",
       "      <td>104060357244891740</td>\n",
       "    </tr>\n",
       "    <tr>\n",
       "      <th>2</th>\n",
       "      <td>touch</td>\n",
       "      <td>2017-07-01 01:54:00</td>\n",
       "      <td>5</td>\n",
       "      <td>2017-07-01 01:54:00</td>\n",
       "      <td>7459035603376831527</td>\n",
       "    </tr>\n",
       "    <tr>\n",
       "      <th>3</th>\n",
       "      <td>desktop</td>\n",
       "      <td>2018-05-20 11:23:00</td>\n",
       "      <td>9</td>\n",
       "      <td>2018-05-20 10:59:00</td>\n",
       "      <td>16174680259334210214</td>\n",
       "    </tr>\n",
       "    <tr>\n",
       "      <th>4</th>\n",
       "      <td>desktop</td>\n",
       "      <td>2017-12-27 14:06:00</td>\n",
       "      <td>3</td>\n",
       "      <td>2017-12-27 14:06:00</td>\n",
       "      <td>9969694820036681168</td>\n",
       "    </tr>\n",
       "  </tbody>\n",
       "</table>\n",
       "</div>"
      ],
      "text/plain": [
       "    Device               End Ts  Source Id             Start Ts  \\\n",
       "0    touch  2017-12-20 17:38:00          4  2017-12-20 17:20:00   \n",
       "1  desktop  2018-02-19 17:21:00          2  2018-02-19 16:53:00   \n",
       "2    touch  2017-07-01 01:54:00          5  2017-07-01 01:54:00   \n",
       "3  desktop  2018-05-20 11:23:00          9  2018-05-20 10:59:00   \n",
       "4  desktop  2017-12-27 14:06:00          3  2017-12-27 14:06:00   \n",
       "\n",
       "                    Uid  \n",
       "0  16879256277535980062  \n",
       "1    104060357244891740  \n",
       "2   7459035603376831527  \n",
       "3  16174680259334210214  \n",
       "4   9969694820036681168  "
      ]
     },
     "execution_count": 7,
     "metadata": {},
     "output_type": "execute_result"
    }
   ],
   "source": [
    "visits_df.head()"
   ]
  },
  {
   "cell_type": "code",
   "execution_count": 8,
   "metadata": {},
   "outputs": [
    {
     "data": {
      "text/html": [
       "<div>\n",
       "<style scoped>\n",
       "    .dataframe tbody tr th:only-of-type {\n",
       "        vertical-align: middle;\n",
       "    }\n",
       "\n",
       "    .dataframe tbody tr th {\n",
       "        vertical-align: top;\n",
       "    }\n",
       "\n",
       "    .dataframe thead th {\n",
       "        text-align: right;\n",
       "    }\n",
       "</style>\n",
       "<table border=\"1\" class=\"dataframe\">\n",
       "  <thead>\n",
       "    <tr style=\"text-align: right;\">\n",
       "      <th></th>\n",
       "      <th>Buy Ts</th>\n",
       "      <th>Revenue</th>\n",
       "      <th>Uid</th>\n",
       "    </tr>\n",
       "  </thead>\n",
       "  <tbody>\n",
       "    <tr>\n",
       "      <th>0</th>\n",
       "      <td>2017-06-01 00:10:00</td>\n",
       "      <td>17.00</td>\n",
       "      <td>10329302124590727494</td>\n",
       "    </tr>\n",
       "    <tr>\n",
       "      <th>1</th>\n",
       "      <td>2017-06-01 00:25:00</td>\n",
       "      <td>0.55</td>\n",
       "      <td>11627257723692907447</td>\n",
       "    </tr>\n",
       "    <tr>\n",
       "      <th>2</th>\n",
       "      <td>2017-06-01 00:27:00</td>\n",
       "      <td>0.37</td>\n",
       "      <td>17903680561304213844</td>\n",
       "    </tr>\n",
       "    <tr>\n",
       "      <th>3</th>\n",
       "      <td>2017-06-01 00:29:00</td>\n",
       "      <td>0.55</td>\n",
       "      <td>16109239769442553005</td>\n",
       "    </tr>\n",
       "    <tr>\n",
       "      <th>4</th>\n",
       "      <td>2017-06-01 07:58:00</td>\n",
       "      <td>0.37</td>\n",
       "      <td>14200605875248379450</td>\n",
       "    </tr>\n",
       "  </tbody>\n",
       "</table>\n",
       "</div>"
      ],
      "text/plain": [
       "                Buy Ts  Revenue                   Uid\n",
       "0  2017-06-01 00:10:00    17.00  10329302124590727494\n",
       "1  2017-06-01 00:25:00     0.55  11627257723692907447\n",
       "2  2017-06-01 00:27:00     0.37  17903680561304213844\n",
       "3  2017-06-01 00:29:00     0.55  16109239769442553005\n",
       "4  2017-06-01 07:58:00     0.37  14200605875248379450"
      ]
     },
     "execution_count": 8,
     "metadata": {},
     "output_type": "execute_result"
    }
   ],
   "source": [
    "orders_df.head()"
   ]
  },
  {
   "cell_type": "code",
   "execution_count": 9,
   "metadata": {
    "scrolled": false
   },
   "outputs": [
    {
     "data": {
      "text/html": [
       "<div>\n",
       "<style scoped>\n",
       "    .dataframe tbody tr th:only-of-type {\n",
       "        vertical-align: middle;\n",
       "    }\n",
       "\n",
       "    .dataframe tbody tr th {\n",
       "        vertical-align: top;\n",
       "    }\n",
       "\n",
       "    .dataframe thead th {\n",
       "        text-align: right;\n",
       "    }\n",
       "</style>\n",
       "<table border=\"1\" class=\"dataframe\">\n",
       "  <thead>\n",
       "    <tr style=\"text-align: right;\">\n",
       "      <th></th>\n",
       "      <th>source_id</th>\n",
       "      <th>dt</th>\n",
       "      <th>costs</th>\n",
       "    </tr>\n",
       "  </thead>\n",
       "  <tbody>\n",
       "    <tr>\n",
       "      <th>0</th>\n",
       "      <td>1</td>\n",
       "      <td>2017-06-01</td>\n",
       "      <td>75.20</td>\n",
       "    </tr>\n",
       "    <tr>\n",
       "      <th>1</th>\n",
       "      <td>1</td>\n",
       "      <td>2017-06-02</td>\n",
       "      <td>62.25</td>\n",
       "    </tr>\n",
       "    <tr>\n",
       "      <th>2</th>\n",
       "      <td>1</td>\n",
       "      <td>2017-06-03</td>\n",
       "      <td>36.53</td>\n",
       "    </tr>\n",
       "    <tr>\n",
       "      <th>3</th>\n",
       "      <td>1</td>\n",
       "      <td>2017-06-04</td>\n",
       "      <td>55.00</td>\n",
       "    </tr>\n",
       "    <tr>\n",
       "      <th>4</th>\n",
       "      <td>1</td>\n",
       "      <td>2017-06-05</td>\n",
       "      <td>57.08</td>\n",
       "    </tr>\n",
       "  </tbody>\n",
       "</table>\n",
       "</div>"
      ],
      "text/plain": [
       "   source_id          dt  costs\n",
       "0          1  2017-06-01  75.20\n",
       "1          1  2017-06-02  62.25\n",
       "2          1  2017-06-03  36.53\n",
       "3          1  2017-06-04  55.00\n",
       "4          1  2017-06-05  57.08"
      ]
     },
     "execution_count": 9,
     "metadata": {},
     "output_type": "execute_result"
    }
   ],
   "source": [
    "costs_df.head()"
   ]
  },
  {
   "cell_type": "markdown",
   "metadata": {},
   "source": [
    "### Enrich Data"
   ]
  },
  {
   "cell_type": "markdown",
   "metadata": {},
   "source": [
    "Change the `visits_df` and `orders_df` column to lowercase"
   ]
  },
  {
   "cell_type": "code",
   "execution_count": 10,
   "metadata": {},
   "outputs": [],
   "source": [
    "# Change column names to lowercase in 'visits_df'\n",
    "visits_df.columns = visits_df.columns.str.lower()\n",
    "\n",
    "# Change column names to lowercase in 'orders_df'\n",
    "orders_df.columns = orders_df.columns.str.lower()"
   ]
  },
  {
   "cell_type": "code",
   "execution_count": 11,
   "metadata": {},
   "outputs": [
    {
     "data": {
      "text/html": [
       "<div>\n",
       "<style scoped>\n",
       "    .dataframe tbody tr th:only-of-type {\n",
       "        vertical-align: middle;\n",
       "    }\n",
       "\n",
       "    .dataframe tbody tr th {\n",
       "        vertical-align: top;\n",
       "    }\n",
       "\n",
       "    .dataframe thead th {\n",
       "        text-align: right;\n",
       "    }\n",
       "</style>\n",
       "<table border=\"1\" class=\"dataframe\">\n",
       "  <thead>\n",
       "    <tr style=\"text-align: right;\">\n",
       "      <th></th>\n",
       "      <th>device</th>\n",
       "      <th>end ts</th>\n",
       "      <th>source id</th>\n",
       "      <th>start ts</th>\n",
       "      <th>uid</th>\n",
       "    </tr>\n",
       "  </thead>\n",
       "  <tbody>\n",
       "    <tr>\n",
       "      <th>0</th>\n",
       "      <td>touch</td>\n",
       "      <td>2017-12-20 17:38:00</td>\n",
       "      <td>4</td>\n",
       "      <td>2017-12-20 17:20:00</td>\n",
       "      <td>16879256277535980062</td>\n",
       "    </tr>\n",
       "    <tr>\n",
       "      <th>1</th>\n",
       "      <td>desktop</td>\n",
       "      <td>2018-02-19 17:21:00</td>\n",
       "      <td>2</td>\n",
       "      <td>2018-02-19 16:53:00</td>\n",
       "      <td>104060357244891740</td>\n",
       "    </tr>\n",
       "    <tr>\n",
       "      <th>2</th>\n",
       "      <td>touch</td>\n",
       "      <td>2017-07-01 01:54:00</td>\n",
       "      <td>5</td>\n",
       "      <td>2017-07-01 01:54:00</td>\n",
       "      <td>7459035603376831527</td>\n",
       "    </tr>\n",
       "    <tr>\n",
       "      <th>3</th>\n",
       "      <td>desktop</td>\n",
       "      <td>2018-05-20 11:23:00</td>\n",
       "      <td>9</td>\n",
       "      <td>2018-05-20 10:59:00</td>\n",
       "      <td>16174680259334210214</td>\n",
       "    </tr>\n",
       "    <tr>\n",
       "      <th>4</th>\n",
       "      <td>desktop</td>\n",
       "      <td>2017-12-27 14:06:00</td>\n",
       "      <td>3</td>\n",
       "      <td>2017-12-27 14:06:00</td>\n",
       "      <td>9969694820036681168</td>\n",
       "    </tr>\n",
       "  </tbody>\n",
       "</table>\n",
       "</div>"
      ],
      "text/plain": [
       "    device               end ts  source id             start ts  \\\n",
       "0    touch  2017-12-20 17:38:00          4  2017-12-20 17:20:00   \n",
       "1  desktop  2018-02-19 17:21:00          2  2018-02-19 16:53:00   \n",
       "2    touch  2017-07-01 01:54:00          5  2017-07-01 01:54:00   \n",
       "3  desktop  2018-05-20 11:23:00          9  2018-05-20 10:59:00   \n",
       "4  desktop  2017-12-27 14:06:00          3  2017-12-27 14:06:00   \n",
       "\n",
       "                    uid  \n",
       "0  16879256277535980062  \n",
       "1    104060357244891740  \n",
       "2   7459035603376831527  \n",
       "3  16174680259334210214  \n",
       "4   9969694820036681168  "
      ]
     },
     "execution_count": 11,
     "metadata": {},
     "output_type": "execute_result"
    }
   ],
   "source": [
    "visits_df.head()"
   ]
  },
  {
   "cell_type": "code",
   "execution_count": 12,
   "metadata": {},
   "outputs": [
    {
     "data": {
      "text/html": [
       "<div>\n",
       "<style scoped>\n",
       "    .dataframe tbody tr th:only-of-type {\n",
       "        vertical-align: middle;\n",
       "    }\n",
       "\n",
       "    .dataframe tbody tr th {\n",
       "        vertical-align: top;\n",
       "    }\n",
       "\n",
       "    .dataframe thead th {\n",
       "        text-align: right;\n",
       "    }\n",
       "</style>\n",
       "<table border=\"1\" class=\"dataframe\">\n",
       "  <thead>\n",
       "    <tr style=\"text-align: right;\">\n",
       "      <th></th>\n",
       "      <th>buy ts</th>\n",
       "      <th>revenue</th>\n",
       "      <th>uid</th>\n",
       "    </tr>\n",
       "  </thead>\n",
       "  <tbody>\n",
       "    <tr>\n",
       "      <th>0</th>\n",
       "      <td>2017-06-01 00:10:00</td>\n",
       "      <td>17.00</td>\n",
       "      <td>10329302124590727494</td>\n",
       "    </tr>\n",
       "    <tr>\n",
       "      <th>1</th>\n",
       "      <td>2017-06-01 00:25:00</td>\n",
       "      <td>0.55</td>\n",
       "      <td>11627257723692907447</td>\n",
       "    </tr>\n",
       "    <tr>\n",
       "      <th>2</th>\n",
       "      <td>2017-06-01 00:27:00</td>\n",
       "      <td>0.37</td>\n",
       "      <td>17903680561304213844</td>\n",
       "    </tr>\n",
       "    <tr>\n",
       "      <th>3</th>\n",
       "      <td>2017-06-01 00:29:00</td>\n",
       "      <td>0.55</td>\n",
       "      <td>16109239769442553005</td>\n",
       "    </tr>\n",
       "    <tr>\n",
       "      <th>4</th>\n",
       "      <td>2017-06-01 07:58:00</td>\n",
       "      <td>0.37</td>\n",
       "      <td>14200605875248379450</td>\n",
       "    </tr>\n",
       "  </tbody>\n",
       "</table>\n",
       "</div>"
      ],
      "text/plain": [
       "                buy ts  revenue                   uid\n",
       "0  2017-06-01 00:10:00    17.00  10329302124590727494\n",
       "1  2017-06-01 00:25:00     0.55  11627257723692907447\n",
       "2  2017-06-01 00:27:00     0.37  17903680561304213844\n",
       "3  2017-06-01 00:29:00     0.55  16109239769442553005\n",
       "4  2017-06-01 07:58:00     0.37  14200605875248379450"
      ]
     },
     "execution_count": 12,
     "metadata": {},
     "output_type": "execute_result"
    }
   ],
   "source": [
    "orders_df.head()"
   ]
  },
  {
   "cell_type": "markdown",
   "metadata": {},
   "source": [
    "Neatly done. Next, we check unique values in `Device` column in `visits_df`"
   ]
  },
  {
   "cell_type": "code",
   "execution_count": 13,
   "metadata": {},
   "outputs": [
    {
     "data": {
      "text/plain": [
       "array(['touch', 'desktop'], dtype=object)"
      ]
     },
     "execution_count": 13,
     "metadata": {},
     "output_type": "execute_result"
    }
   ],
   "source": [
    "visits_df['device'].unique()"
   ]
  },
  {
   "cell_type": "markdown",
   "metadata": {},
   "source": [
    "No duplicated values. Next, check missing values for all dataframe."
   ]
  },
  {
   "cell_type": "code",
   "execution_count": 14,
   "metadata": {},
   "outputs": [
    {
     "name": "stdout",
     "output_type": "stream",
     "text": [
      "Missing values in 'visits_df':\n",
      "device       0\n",
      "end ts       0\n",
      "source id    0\n",
      "start ts     0\n",
      "uid          0\n",
      "dtype: int64\n",
      "Missing values in 'orders_df':\n",
      "buy ts     0\n",
      "revenue    0\n",
      "uid        0\n",
      "dtype: int64\n",
      "Missing values in 'costs_df':\n",
      "source_id    0\n",
      "dt           0\n",
      "costs        0\n",
      "dtype: int64\n"
     ]
    }
   ],
   "source": [
    "# Check missing values in 'visits_df'\n",
    "visits_missing_values = visits_df.isna().sum()\n",
    "print(\"Missing values in 'visits_df':\")\n",
    "print(visits_missing_values)\n",
    "\n",
    "# Check missing values in 'orders_df'\n",
    "orders_missing_values = orders_df.isna().sum()\n",
    "print(\"Missing values in 'orders_df':\")\n",
    "print(orders_missing_values)\n",
    "\n",
    "# Check missing values in 'costs_df'\n",
    "costs_missing_values = costs_df.isna().sum()\n",
    "print(\"Missing values in 'costs_df':\")\n",
    "print(costs_missing_values)\n"
   ]
  },
  {
   "cell_type": "markdown",
   "metadata": {},
   "source": [
    "Then, we check duplicated values for all dataframe."
   ]
  },
  {
   "cell_type": "code",
   "execution_count": 15,
   "metadata": {},
   "outputs": [
    {
     "name": "stdout",
     "output_type": "stream",
     "text": [
      "Number of duplicated values in visits_df: 131231\n",
      "Number of duplicated values in orders_df: 13892\n",
      "Number of duplicated values in costs_df: 0\n"
     ]
    }
   ],
   "source": [
    "# Check duplicated values in 'visits_df'\n",
    "visits_duplicates = visits_df['uid'].duplicated().sum()\n",
    "print(\"Number of duplicated values in visits_df:\", visits_duplicates)\n",
    "\n",
    "# Check duplicated values in 'orders_df'\n",
    "orders_duplicates = orders_df['uid'].duplicated().sum()\n",
    "print(\"Number of duplicated values in orders_df:\", orders_duplicates)\n",
    "\n",
    "# Check duplicated values in 'costs_df'\n",
    "costs_duplicates = costs_df.duplicated().sum()\n",
    "print(\"Number of duplicated values in costs_df:\", costs_duplicates)\n"
   ]
  },
  {
   "cell_type": "markdown",
   "metadata": {},
   "source": [
    "We have duplicate values for uid, this is normal due to a customer going in and out of the website or make a repetitive purchase."
   ]
  },
  {
   "cell_type": "markdown",
   "metadata": {},
   "source": [
    "Rename the column, we make it standardize."
   ]
  },
  {
   "cell_type": "code",
   "execution_count": 16,
   "metadata": {},
   "outputs": [
    {
     "name": "stdout",
     "output_type": "stream",
     "text": [
      "visits_df:\n"
     ]
    },
    {
     "data": {
      "text/html": [
       "<div>\n",
       "<style scoped>\n",
       "    .dataframe tbody tr th:only-of-type {\n",
       "        vertical-align: middle;\n",
       "    }\n",
       "\n",
       "    .dataframe tbody tr th {\n",
       "        vertical-align: top;\n",
       "    }\n",
       "\n",
       "    .dataframe thead th {\n",
       "        text-align: right;\n",
       "    }\n",
       "</style>\n",
       "<table border=\"1\" class=\"dataframe\">\n",
       "  <thead>\n",
       "    <tr style=\"text-align: right;\">\n",
       "      <th></th>\n",
       "      <th>device</th>\n",
       "      <th>end_ts</th>\n",
       "      <th>source id</th>\n",
       "      <th>start_ts</th>\n",
       "      <th>uid</th>\n",
       "    </tr>\n",
       "  </thead>\n",
       "  <tbody>\n",
       "    <tr>\n",
       "      <th>0</th>\n",
       "      <td>touch</td>\n",
       "      <td>2017-12-20 17:38:00</td>\n",
       "      <td>4</td>\n",
       "      <td>2017-12-20 17:20:00</td>\n",
       "      <td>16879256277535980062</td>\n",
       "    </tr>\n",
       "    <tr>\n",
       "      <th>1</th>\n",
       "      <td>desktop</td>\n",
       "      <td>2018-02-19 17:21:00</td>\n",
       "      <td>2</td>\n",
       "      <td>2018-02-19 16:53:00</td>\n",
       "      <td>104060357244891740</td>\n",
       "    </tr>\n",
       "    <tr>\n",
       "      <th>2</th>\n",
       "      <td>touch</td>\n",
       "      <td>2017-07-01 01:54:00</td>\n",
       "      <td>5</td>\n",
       "      <td>2017-07-01 01:54:00</td>\n",
       "      <td>7459035603376831527</td>\n",
       "    </tr>\n",
       "    <tr>\n",
       "      <th>3</th>\n",
       "      <td>desktop</td>\n",
       "      <td>2018-05-20 11:23:00</td>\n",
       "      <td>9</td>\n",
       "      <td>2018-05-20 10:59:00</td>\n",
       "      <td>16174680259334210214</td>\n",
       "    </tr>\n",
       "    <tr>\n",
       "      <th>4</th>\n",
       "      <td>desktop</td>\n",
       "      <td>2017-12-27 14:06:00</td>\n",
       "      <td>3</td>\n",
       "      <td>2017-12-27 14:06:00</td>\n",
       "      <td>9969694820036681168</td>\n",
       "    </tr>\n",
       "  </tbody>\n",
       "</table>\n",
       "</div>"
      ],
      "text/plain": [
       "    device               end_ts  source id             start_ts  \\\n",
       "0    touch  2017-12-20 17:38:00          4  2017-12-20 17:20:00   \n",
       "1  desktop  2018-02-19 17:21:00          2  2018-02-19 16:53:00   \n",
       "2    touch  2017-07-01 01:54:00          5  2017-07-01 01:54:00   \n",
       "3  desktop  2018-05-20 11:23:00          9  2018-05-20 10:59:00   \n",
       "4  desktop  2017-12-27 14:06:00          3  2017-12-27 14:06:00   \n",
       "\n",
       "                    uid  \n",
       "0  16879256277535980062  \n",
       "1    104060357244891740  \n",
       "2   7459035603376831527  \n",
       "3  16174680259334210214  \n",
       "4   9969694820036681168  "
      ]
     },
     "metadata": {},
     "output_type": "display_data"
    },
    {
     "name": "stdout",
     "output_type": "stream",
     "text": [
      "\n",
      "orders_df:\n"
     ]
    },
    {
     "data": {
      "text/html": [
       "<div>\n",
       "<style scoped>\n",
       "    .dataframe tbody tr th:only-of-type {\n",
       "        vertical-align: middle;\n",
       "    }\n",
       "\n",
       "    .dataframe tbody tr th {\n",
       "        vertical-align: top;\n",
       "    }\n",
       "\n",
       "    .dataframe thead th {\n",
       "        text-align: right;\n",
       "    }\n",
       "</style>\n",
       "<table border=\"1\" class=\"dataframe\">\n",
       "  <thead>\n",
       "    <tr style=\"text-align: right;\">\n",
       "      <th></th>\n",
       "      <th>buy_ts</th>\n",
       "      <th>revenue</th>\n",
       "      <th>uid</th>\n",
       "    </tr>\n",
       "  </thead>\n",
       "  <tbody>\n",
       "    <tr>\n",
       "      <th>0</th>\n",
       "      <td>2017-06-01 00:10:00</td>\n",
       "      <td>17.00</td>\n",
       "      <td>10329302124590727494</td>\n",
       "    </tr>\n",
       "    <tr>\n",
       "      <th>1</th>\n",
       "      <td>2017-06-01 00:25:00</td>\n",
       "      <td>0.55</td>\n",
       "      <td>11627257723692907447</td>\n",
       "    </tr>\n",
       "    <tr>\n",
       "      <th>2</th>\n",
       "      <td>2017-06-01 00:27:00</td>\n",
       "      <td>0.37</td>\n",
       "      <td>17903680561304213844</td>\n",
       "    </tr>\n",
       "    <tr>\n",
       "      <th>3</th>\n",
       "      <td>2017-06-01 00:29:00</td>\n",
       "      <td>0.55</td>\n",
       "      <td>16109239769442553005</td>\n",
       "    </tr>\n",
       "    <tr>\n",
       "      <th>4</th>\n",
       "      <td>2017-06-01 07:58:00</td>\n",
       "      <td>0.37</td>\n",
       "      <td>14200605875248379450</td>\n",
       "    </tr>\n",
       "  </tbody>\n",
       "</table>\n",
       "</div>"
      ],
      "text/plain": [
       "                buy_ts  revenue                   uid\n",
       "0  2017-06-01 00:10:00    17.00  10329302124590727494\n",
       "1  2017-06-01 00:25:00     0.55  11627257723692907447\n",
       "2  2017-06-01 00:27:00     0.37  17903680561304213844\n",
       "3  2017-06-01 00:29:00     0.55  16109239769442553005\n",
       "4  2017-06-01 07:58:00     0.37  14200605875248379450"
      ]
     },
     "metadata": {},
     "output_type": "display_data"
    },
    {
     "name": "stdout",
     "output_type": "stream",
     "text": [
      "\n",
      "costs_df:\n"
     ]
    },
    {
     "data": {
      "text/html": [
       "<div>\n",
       "<style scoped>\n",
       "    .dataframe tbody tr th:only-of-type {\n",
       "        vertical-align: middle;\n",
       "    }\n",
       "\n",
       "    .dataframe tbody tr th {\n",
       "        vertical-align: top;\n",
       "    }\n",
       "\n",
       "    .dataframe thead th {\n",
       "        text-align: right;\n",
       "    }\n",
       "</style>\n",
       "<table border=\"1\" class=\"dataframe\">\n",
       "  <thead>\n",
       "    <tr style=\"text-align: right;\">\n",
       "      <th></th>\n",
       "      <th>source_id</th>\n",
       "      <th>dt</th>\n",
       "      <th>costs</th>\n",
       "    </tr>\n",
       "  </thead>\n",
       "  <tbody>\n",
       "    <tr>\n",
       "      <th>0</th>\n",
       "      <td>1</td>\n",
       "      <td>2017-06-01</td>\n",
       "      <td>75.20</td>\n",
       "    </tr>\n",
       "    <tr>\n",
       "      <th>1</th>\n",
       "      <td>1</td>\n",
       "      <td>2017-06-02</td>\n",
       "      <td>62.25</td>\n",
       "    </tr>\n",
       "    <tr>\n",
       "      <th>2</th>\n",
       "      <td>1</td>\n",
       "      <td>2017-06-03</td>\n",
       "      <td>36.53</td>\n",
       "    </tr>\n",
       "    <tr>\n",
       "      <th>3</th>\n",
       "      <td>1</td>\n",
       "      <td>2017-06-04</td>\n",
       "      <td>55.00</td>\n",
       "    </tr>\n",
       "    <tr>\n",
       "      <th>4</th>\n",
       "      <td>1</td>\n",
       "      <td>2017-06-05</td>\n",
       "      <td>57.08</td>\n",
       "    </tr>\n",
       "  </tbody>\n",
       "</table>\n",
       "</div>"
      ],
      "text/plain": [
       "   source_id          dt  costs\n",
       "0          1  2017-06-01  75.20\n",
       "1          1  2017-06-02  62.25\n",
       "2          1  2017-06-03  36.53\n",
       "3          1  2017-06-04  55.00\n",
       "4          1  2017-06-05  57.08"
      ]
     },
     "metadata": {},
     "output_type": "display_data"
    }
   ],
   "source": [
    "# Rename columns in 'visits_df'\n",
    "visits_df = visits_df.rename(columns={'buy ts': 'buy_ts', 'end ts': 'end_ts', 'start ts': 'start_ts'})\n",
    "\n",
    "# Rename columns in 'orders_df'\n",
    "orders_df = orders_df.rename(columns={'buy ts': 'buy_ts'})\n",
    "\n",
    "# Verify the changes\n",
    "print(\"visits_df:\")\n",
    "display(visits_df.head())\n",
    "print(\"\\norders_df:\")\n",
    "display(orders_df.head())\n",
    "print(\"\\ncosts_df:\")\n",
    "display(costs_df.head())"
   ]
  },
  {
   "cell_type": "markdown",
   "metadata": {},
   "source": [
    "Last we change the format for all date column to datetime format"
   ]
  },
  {
   "cell_type": "code",
   "execution_count": 17,
   "metadata": {},
   "outputs": [
    {
     "name": "stdout",
     "output_type": "stream",
     "text": [
      "visits_df:\n"
     ]
    },
    {
     "data": {
      "text/html": [
       "<div>\n",
       "<style scoped>\n",
       "    .dataframe tbody tr th:only-of-type {\n",
       "        vertical-align: middle;\n",
       "    }\n",
       "\n",
       "    .dataframe tbody tr th {\n",
       "        vertical-align: top;\n",
       "    }\n",
       "\n",
       "    .dataframe thead th {\n",
       "        text-align: right;\n",
       "    }\n",
       "</style>\n",
       "<table border=\"1\" class=\"dataframe\">\n",
       "  <thead>\n",
       "    <tr style=\"text-align: right;\">\n",
       "      <th></th>\n",
       "      <th>device</th>\n",
       "      <th>end_ts</th>\n",
       "      <th>source id</th>\n",
       "      <th>start_ts</th>\n",
       "      <th>uid</th>\n",
       "    </tr>\n",
       "  </thead>\n",
       "  <tbody>\n",
       "    <tr>\n",
       "      <th>0</th>\n",
       "      <td>touch</td>\n",
       "      <td>2017-12-20 17:38:00</td>\n",
       "      <td>4</td>\n",
       "      <td>2017-12-20 17:20:00</td>\n",
       "      <td>16879256277535980062</td>\n",
       "    </tr>\n",
       "    <tr>\n",
       "      <th>1</th>\n",
       "      <td>desktop</td>\n",
       "      <td>2018-02-19 17:21:00</td>\n",
       "      <td>2</td>\n",
       "      <td>2018-02-19 16:53:00</td>\n",
       "      <td>104060357244891740</td>\n",
       "    </tr>\n",
       "    <tr>\n",
       "      <th>2</th>\n",
       "      <td>touch</td>\n",
       "      <td>2017-07-01 01:54:00</td>\n",
       "      <td>5</td>\n",
       "      <td>2017-07-01 01:54:00</td>\n",
       "      <td>7459035603376831527</td>\n",
       "    </tr>\n",
       "    <tr>\n",
       "      <th>3</th>\n",
       "      <td>desktop</td>\n",
       "      <td>2018-05-20 11:23:00</td>\n",
       "      <td>9</td>\n",
       "      <td>2018-05-20 10:59:00</td>\n",
       "      <td>16174680259334210214</td>\n",
       "    </tr>\n",
       "    <tr>\n",
       "      <th>4</th>\n",
       "      <td>desktop</td>\n",
       "      <td>2017-12-27 14:06:00</td>\n",
       "      <td>3</td>\n",
       "      <td>2017-12-27 14:06:00</td>\n",
       "      <td>9969694820036681168</td>\n",
       "    </tr>\n",
       "  </tbody>\n",
       "</table>\n",
       "</div>"
      ],
      "text/plain": [
       "    device              end_ts  source id            start_ts  \\\n",
       "0    touch 2017-12-20 17:38:00          4 2017-12-20 17:20:00   \n",
       "1  desktop 2018-02-19 17:21:00          2 2018-02-19 16:53:00   \n",
       "2    touch 2017-07-01 01:54:00          5 2017-07-01 01:54:00   \n",
       "3  desktop 2018-05-20 11:23:00          9 2018-05-20 10:59:00   \n",
       "4  desktop 2017-12-27 14:06:00          3 2017-12-27 14:06:00   \n",
       "\n",
       "                    uid  \n",
       "0  16879256277535980062  \n",
       "1    104060357244891740  \n",
       "2   7459035603376831527  \n",
       "3  16174680259334210214  \n",
       "4   9969694820036681168  "
      ]
     },
     "metadata": {},
     "output_type": "display_data"
    },
    {
     "name": "stdout",
     "output_type": "stream",
     "text": [
      "\n",
      "orders_df:\n"
     ]
    },
    {
     "data": {
      "text/html": [
       "<div>\n",
       "<style scoped>\n",
       "    .dataframe tbody tr th:only-of-type {\n",
       "        vertical-align: middle;\n",
       "    }\n",
       "\n",
       "    .dataframe tbody tr th {\n",
       "        vertical-align: top;\n",
       "    }\n",
       "\n",
       "    .dataframe thead th {\n",
       "        text-align: right;\n",
       "    }\n",
       "</style>\n",
       "<table border=\"1\" class=\"dataframe\">\n",
       "  <thead>\n",
       "    <tr style=\"text-align: right;\">\n",
       "      <th></th>\n",
       "      <th>buy_ts</th>\n",
       "      <th>revenue</th>\n",
       "      <th>uid</th>\n",
       "    </tr>\n",
       "  </thead>\n",
       "  <tbody>\n",
       "    <tr>\n",
       "      <th>0</th>\n",
       "      <td>2017-06-01 00:10:00</td>\n",
       "      <td>17.00</td>\n",
       "      <td>10329302124590727494</td>\n",
       "    </tr>\n",
       "    <tr>\n",
       "      <th>1</th>\n",
       "      <td>2017-06-01 00:25:00</td>\n",
       "      <td>0.55</td>\n",
       "      <td>11627257723692907447</td>\n",
       "    </tr>\n",
       "    <tr>\n",
       "      <th>2</th>\n",
       "      <td>2017-06-01 00:27:00</td>\n",
       "      <td>0.37</td>\n",
       "      <td>17903680561304213844</td>\n",
       "    </tr>\n",
       "    <tr>\n",
       "      <th>3</th>\n",
       "      <td>2017-06-01 00:29:00</td>\n",
       "      <td>0.55</td>\n",
       "      <td>16109239769442553005</td>\n",
       "    </tr>\n",
       "    <tr>\n",
       "      <th>4</th>\n",
       "      <td>2017-06-01 07:58:00</td>\n",
       "      <td>0.37</td>\n",
       "      <td>14200605875248379450</td>\n",
       "    </tr>\n",
       "  </tbody>\n",
       "</table>\n",
       "</div>"
      ],
      "text/plain": [
       "               buy_ts  revenue                   uid\n",
       "0 2017-06-01 00:10:00    17.00  10329302124590727494\n",
       "1 2017-06-01 00:25:00     0.55  11627257723692907447\n",
       "2 2017-06-01 00:27:00     0.37  17903680561304213844\n",
       "3 2017-06-01 00:29:00     0.55  16109239769442553005\n",
       "4 2017-06-01 07:58:00     0.37  14200605875248379450"
      ]
     },
     "metadata": {},
     "output_type": "display_data"
    },
    {
     "name": "stdout",
     "output_type": "stream",
     "text": [
      "\n",
      "costs_df:\n"
     ]
    },
    {
     "data": {
      "text/html": [
       "<div>\n",
       "<style scoped>\n",
       "    .dataframe tbody tr th:only-of-type {\n",
       "        vertical-align: middle;\n",
       "    }\n",
       "\n",
       "    .dataframe tbody tr th {\n",
       "        vertical-align: top;\n",
       "    }\n",
       "\n",
       "    .dataframe thead th {\n",
       "        text-align: right;\n",
       "    }\n",
       "</style>\n",
       "<table border=\"1\" class=\"dataframe\">\n",
       "  <thead>\n",
       "    <tr style=\"text-align: right;\">\n",
       "      <th></th>\n",
       "      <th>source_id</th>\n",
       "      <th>dt</th>\n",
       "      <th>costs</th>\n",
       "    </tr>\n",
       "  </thead>\n",
       "  <tbody>\n",
       "    <tr>\n",
       "      <th>0</th>\n",
       "      <td>1</td>\n",
       "      <td>2017-06-01</td>\n",
       "      <td>75.20</td>\n",
       "    </tr>\n",
       "    <tr>\n",
       "      <th>1</th>\n",
       "      <td>1</td>\n",
       "      <td>2017-06-02</td>\n",
       "      <td>62.25</td>\n",
       "    </tr>\n",
       "    <tr>\n",
       "      <th>2</th>\n",
       "      <td>1</td>\n",
       "      <td>2017-06-03</td>\n",
       "      <td>36.53</td>\n",
       "    </tr>\n",
       "    <tr>\n",
       "      <th>3</th>\n",
       "      <td>1</td>\n",
       "      <td>2017-06-04</td>\n",
       "      <td>55.00</td>\n",
       "    </tr>\n",
       "    <tr>\n",
       "      <th>4</th>\n",
       "      <td>1</td>\n",
       "      <td>2017-06-05</td>\n",
       "      <td>57.08</td>\n",
       "    </tr>\n",
       "  </tbody>\n",
       "</table>\n",
       "</div>"
      ],
      "text/plain": [
       "   source_id         dt  costs\n",
       "0          1 2017-06-01  75.20\n",
       "1          1 2017-06-02  62.25\n",
       "2          1 2017-06-03  36.53\n",
       "3          1 2017-06-04  55.00\n",
       "4          1 2017-06-05  57.08"
      ]
     },
     "metadata": {},
     "output_type": "display_data"
    }
   ],
   "source": [
    "# Convert columns to datetime format in 'visits_df'\n",
    "visits_df['end_ts'] = pd.to_datetime(visits_df['end_ts'])\n",
    "visits_df['start_ts'] = pd.to_datetime(visits_df['start_ts'])\n",
    "\n",
    "# Convert column to datetime format in 'orders_df'\n",
    "orders_df['buy_ts'] = pd.to_datetime(orders_df['buy_ts'])\n",
    "\n",
    "# Convert column to datetime format in 'costs_df'\n",
    "costs_df['dt'] = pd.to_datetime(costs_df['dt'])\n",
    "\n",
    "# Verify the changes\n",
    "print(\"visits_df:\")\n",
    "display(visits_df.head())\n",
    "print(\"\\norders_df:\")\n",
    "display(orders_df.head())\n",
    "print(\"\\ncosts_df:\")\n",
    "display(costs_df.head())"
   ]
  },
  {
   "cell_type": "markdown",
   "metadata": {},
   "source": [
    "The data already go through preprocessing. From here we can start the next step."
   ]
  },
  {
   "cell_type": "markdown",
   "metadata": {},
   "source": [
    "##  Make reports and calculate metrics:"
   ]
  },
  {
   "cell_type": "markdown",
   "metadata": {},
   "source": [
    "1. Product\n",
    "- How many people use it every day, week, and month?\n",
    "- How many sessions are there per day? (One user might have more than one session.)\n",
    "- What is the length of each session?\n",
    "- What's the user retention rate?\n",
    "\n",
    "2. Sales\n",
    "- When do people start buying? (In KPI analysis, we're usually interested in knowing the time that elapses between registration and conversion — when the user becomes a customer. For example, if registration and the first purchase occur on the same day, the user might fall into category Conversion 0d. If the first purchase happens the next day, it will be Conversion 1d. You can use any approach that lets you compare the conversions of different cohorts, so that you can determine which cohort, or marketing channel, is most effective.)\n",
    "- How many orders do they make during a given period of time?\n",
    "- What is the average purchase size?\n",
    "- How much money do they bring? (LTV)\n",
    "\n",
    "3. Marketing\n",
    "- How much money was spent? Overall/per source/over time\n",
    "- How much did customer acquisition from each of the sources cost?\n",
    "- How worthwhile where the investments? (ROI)"
   ]
  },
  {
   "cell_type": "markdown",
   "metadata": {},
   "source": [
    "### Day, Week, and Month Traffic"
   ]
  },
  {
   "cell_type": "markdown",
   "metadata": {},
   "source": [
    "To find the number of people who use the service every day, week, and month based on the provided DataFrames, we need to consider the `uid` column and the corresponding time intervals."
   ]
  },
  {
   "cell_type": "code",
   "execution_count": 18,
   "metadata": {
    "scrolled": true
   },
   "outputs": [
    {
     "name": "stdout",
     "output_type": "stream",
     "text": [
      "Daily User are: 905.5397260273973\n",
      "Weekly User are: 5825.038461538462\n",
      "Monthly User are: 23228.166666666668\n"
     ]
    }
   ],
   "source": [
    "#Create new columns for the date, week, and month\n",
    "visits_df['dt'] = visits_df['end_ts'].dt.date\n",
    "visits_df['wk'] = visits_df['end_ts'].dt.isocalendar().week\n",
    "visits_df['mth'] = visits_df['end_ts'].dt.month\n",
    "\n",
    "#Calculate the unique user counts for each day, week, and month\n",
    "daily_users = visits_df.groupby('dt')['uid'].nunique()\n",
    "weekly_users = visits_df.groupby('wk')['uid'].nunique()\n",
    "monthly_users = visits_df.groupby('mth')['uid'].nunique()\n",
    "\n",
    "# Print the results\n",
    "print('Daily User are:',daily_users.mean())\n",
    "print('Weekly User are:',weekly_users.mean())\n",
    "print('Monthly User are:',monthly_users.mean())"
   ]
  },
  {
   "cell_type": "code",
   "execution_count": 19,
   "metadata": {},
   "outputs": [
    {
     "data": {
      "text/html": [
       "<div>\n",
       "<style scoped>\n",
       "    .dataframe tbody tr th:only-of-type {\n",
       "        vertical-align: middle;\n",
       "    }\n",
       "\n",
       "    .dataframe tbody tr th {\n",
       "        vertical-align: top;\n",
       "    }\n",
       "\n",
       "    .dataframe thead th {\n",
       "        text-align: right;\n",
       "    }\n",
       "</style>\n",
       "<table border=\"1\" class=\"dataframe\">\n",
       "  <thead>\n",
       "    <tr style=\"text-align: right;\">\n",
       "      <th></th>\n",
       "      <th>device</th>\n",
       "      <th>end_ts</th>\n",
       "      <th>source id</th>\n",
       "      <th>start_ts</th>\n",
       "      <th>uid</th>\n",
       "      <th>dt</th>\n",
       "      <th>wk</th>\n",
       "      <th>mth</th>\n",
       "    </tr>\n",
       "  </thead>\n",
       "  <tbody>\n",
       "    <tr>\n",
       "      <th>0</th>\n",
       "      <td>touch</td>\n",
       "      <td>2017-12-20 17:38:00</td>\n",
       "      <td>4</td>\n",
       "      <td>2017-12-20 17:20:00</td>\n",
       "      <td>16879256277535980062</td>\n",
       "      <td>2017-12-20</td>\n",
       "      <td>51</td>\n",
       "      <td>12</td>\n",
       "    </tr>\n",
       "    <tr>\n",
       "      <th>1</th>\n",
       "      <td>desktop</td>\n",
       "      <td>2018-02-19 17:21:00</td>\n",
       "      <td>2</td>\n",
       "      <td>2018-02-19 16:53:00</td>\n",
       "      <td>104060357244891740</td>\n",
       "      <td>2018-02-19</td>\n",
       "      <td>8</td>\n",
       "      <td>2</td>\n",
       "    </tr>\n",
       "    <tr>\n",
       "      <th>2</th>\n",
       "      <td>touch</td>\n",
       "      <td>2017-07-01 01:54:00</td>\n",
       "      <td>5</td>\n",
       "      <td>2017-07-01 01:54:00</td>\n",
       "      <td>7459035603376831527</td>\n",
       "      <td>2017-07-01</td>\n",
       "      <td>26</td>\n",
       "      <td>7</td>\n",
       "    </tr>\n",
       "    <tr>\n",
       "      <th>3</th>\n",
       "      <td>desktop</td>\n",
       "      <td>2018-05-20 11:23:00</td>\n",
       "      <td>9</td>\n",
       "      <td>2018-05-20 10:59:00</td>\n",
       "      <td>16174680259334210214</td>\n",
       "      <td>2018-05-20</td>\n",
       "      <td>20</td>\n",
       "      <td>5</td>\n",
       "    </tr>\n",
       "    <tr>\n",
       "      <th>4</th>\n",
       "      <td>desktop</td>\n",
       "      <td>2017-12-27 14:06:00</td>\n",
       "      <td>3</td>\n",
       "      <td>2017-12-27 14:06:00</td>\n",
       "      <td>9969694820036681168</td>\n",
       "      <td>2017-12-27</td>\n",
       "      <td>52</td>\n",
       "      <td>12</td>\n",
       "    </tr>\n",
       "    <tr>\n",
       "      <th>...</th>\n",
       "      <td>...</td>\n",
       "      <td>...</td>\n",
       "      <td>...</td>\n",
       "      <td>...</td>\n",
       "      <td>...</td>\n",
       "      <td>...</td>\n",
       "      <td>...</td>\n",
       "      <td>...</td>\n",
       "    </tr>\n",
       "    <tr>\n",
       "      <th>359395</th>\n",
       "      <td>desktop</td>\n",
       "      <td>2017-07-29 19:07:19</td>\n",
       "      <td>2</td>\n",
       "      <td>2017-07-29 19:07:00</td>\n",
       "      <td>18363291481961487539</td>\n",
       "      <td>2017-07-29</td>\n",
       "      <td>30</td>\n",
       "      <td>7</td>\n",
       "    </tr>\n",
       "    <tr>\n",
       "      <th>359396</th>\n",
       "      <td>touch</td>\n",
       "      <td>2018-01-25 17:38:19</td>\n",
       "      <td>1</td>\n",
       "      <td>2018-01-25 17:38:00</td>\n",
       "      <td>18370831553019119586</td>\n",
       "      <td>2018-01-25</td>\n",
       "      <td>4</td>\n",
       "      <td>1</td>\n",
       "    </tr>\n",
       "    <tr>\n",
       "      <th>359397</th>\n",
       "      <td>desktop</td>\n",
       "      <td>2018-03-03 10:12:19</td>\n",
       "      <td>4</td>\n",
       "      <td>2018-03-03 10:12:00</td>\n",
       "      <td>18387297585500748294</td>\n",
       "      <td>2018-03-03</td>\n",
       "      <td>9</td>\n",
       "      <td>3</td>\n",
       "    </tr>\n",
       "    <tr>\n",
       "      <th>359398</th>\n",
       "      <td>desktop</td>\n",
       "      <td>2017-11-02 10:12:19</td>\n",
       "      <td>5</td>\n",
       "      <td>2017-11-02 10:12:00</td>\n",
       "      <td>18388616944624776485</td>\n",
       "      <td>2017-11-02</td>\n",
       "      <td>44</td>\n",
       "      <td>11</td>\n",
       "    </tr>\n",
       "    <tr>\n",
       "      <th>359399</th>\n",
       "      <td>touch</td>\n",
       "      <td>2017-09-10 13:13:19</td>\n",
       "      <td>2</td>\n",
       "      <td>2017-09-10 13:13:00</td>\n",
       "      <td>18396128934054549559</td>\n",
       "      <td>2017-09-10</td>\n",
       "      <td>36</td>\n",
       "      <td>9</td>\n",
       "    </tr>\n",
       "  </tbody>\n",
       "</table>\n",
       "<p>359400 rows × 8 columns</p>\n",
       "</div>"
      ],
      "text/plain": [
       "         device              end_ts  source id            start_ts  \\\n",
       "0         touch 2017-12-20 17:38:00          4 2017-12-20 17:20:00   \n",
       "1       desktop 2018-02-19 17:21:00          2 2018-02-19 16:53:00   \n",
       "2         touch 2017-07-01 01:54:00          5 2017-07-01 01:54:00   \n",
       "3       desktop 2018-05-20 11:23:00          9 2018-05-20 10:59:00   \n",
       "4       desktop 2017-12-27 14:06:00          3 2017-12-27 14:06:00   \n",
       "...         ...                 ...        ...                 ...   \n",
       "359395  desktop 2017-07-29 19:07:19          2 2017-07-29 19:07:00   \n",
       "359396    touch 2018-01-25 17:38:19          1 2018-01-25 17:38:00   \n",
       "359397  desktop 2018-03-03 10:12:19          4 2018-03-03 10:12:00   \n",
       "359398  desktop 2017-11-02 10:12:19          5 2017-11-02 10:12:00   \n",
       "359399    touch 2017-09-10 13:13:19          2 2017-09-10 13:13:00   \n",
       "\n",
       "                         uid          dt  wk  mth  \n",
       "0       16879256277535980062  2017-12-20  51   12  \n",
       "1         104060357244891740  2018-02-19   8    2  \n",
       "2        7459035603376831527  2017-07-01  26    7  \n",
       "3       16174680259334210214  2018-05-20  20    5  \n",
       "4        9969694820036681168  2017-12-27  52   12  \n",
       "...                      ...         ...  ..  ...  \n",
       "359395  18363291481961487539  2017-07-29  30    7  \n",
       "359396  18370831553019119586  2018-01-25   4    1  \n",
       "359397  18387297585500748294  2018-03-03   9    3  \n",
       "359398  18388616944624776485  2017-11-02  44   11  \n",
       "359399  18396128934054549559  2017-09-10  36    9  \n",
       "\n",
       "[359400 rows x 8 columns]"
      ]
     },
     "execution_count": 19,
     "metadata": {},
     "output_type": "execute_result"
    }
   ],
   "source": [
    "visits_df"
   ]
  },
  {
   "cell_type": "code",
   "execution_count": 20,
   "metadata": {},
   "outputs": [
    {
     "data": {
      "image/png": "[encoded data removed]",
      "text/plain": [
       "<Figure size 936x288 with 3 Axes>"
      ]
     },
     "metadata": {
      "needs_background": "light"
     },
     "output_type": "display_data"
    }
   ],
   "source": [
    "# Create new columns for the date, week, and month\n",
    "visits_df['dt'] = pd.to_datetime(visits_df['end_ts']).dt.date\n",
    "visits_df['wk'] = pd.to_datetime(visits_df['end_ts']).dt.strftime('%Y-%U')\n",
    "visits_df['mth'] = pd.to_datetime(visits_df['end_ts']).dt.strftime('%Y-%m')\n",
    "\n",
    "# Calculate the unique user counts for each day, week, and month\n",
    "daily_users = visits_df.groupby('dt')['uid'].nunique()\n",
    "weekly_users = visits_df.groupby('wk')['uid'].nunique()\n",
    "monthly_users = visits_df.groupby('mth')['uid'].nunique()\n",
    "\n",
    "# Create plot of the daily, weekly, and monthly data\n",
    "fig, ax = plt.subplots(1, 3, figsize=[13, 4])\n",
    "\n",
    "ax[0].plot(daily_users)\n",
    "ax[0].tick_params(axis='x', rotation=45)\n",
    "ax[0].set(title=\"Average Daily Users\", ylabel=\"Users\", xlabel=\"Date\")\n",
    "\n",
    "ax[1].plot(weekly_users)\n",
    "ax[1].tick_params(axis='x', rotation=45)\n",
    "ax[1].set(title=\"Average Weekly Users\", ylabel=\"Users\", xlabel=\"Week\")\n",
    "\n",
    "# Adjusting x-axis for the weekly chart\n",
    "num_weeks = len(weekly_users)\n",
    "x_ticks = range(0, num_weeks, 4)  # Display tick labels every 4 weeks\n",
    "x_labels = [weekly_users.index[i] for i in x_ticks]\n",
    "ax[1].set_xticks(x_ticks)\n",
    "ax[1].set_xticklabels(x_labels, rotation=45)\n",
    "\n",
    "ax[2].plot(monthly_users)\n",
    "ax[2].tick_params(axis='x', rotation=45)\n",
    "ax[2].set(title=\"Average Monthly Users\", ylabel=\"Users\", xlabel=\"Month\")\n",
    "\n",
    "plt.tight_layout()\n",
    "plt.show()"
   ]
  },
  {
   "cell_type": "markdown",
   "metadata": {},
   "source": [
    "### Number of Session"
   ]
  },
  {
   "cell_type": "markdown",
   "metadata": {},
   "source": [
    "To find the number of sessions per day, considering that one user might have more than one session, we can count the number of rows in the `visits_df` DataFrame for each day. Each row represents a session, and by grouping the data by the date, we can determine the number of sessions per day."
   ]
  },
  {
   "cell_type": "code",
   "execution_count": 21,
   "metadata": {
    "scrolled": true
   },
   "outputs": [
    {
     "name": "stdout",
     "output_type": "stream",
     "text": [
      "Total count of users: 359400\n",
      "Total unique users: 228169\n"
     ]
    }
   ],
   "source": [
    "# Counting the total number of users\n",
    "total_users = visits_df['uid'].count()\n",
    "\n",
    "# Counting the total number of unique users\n",
    "unique_users = visits_df['uid'].nunique()\n",
    "\n",
    "print(\"Total count of users:\", total_users)\n",
    "print(\"Total unique users:\", unique_users)"
   ]
  },
  {
   "cell_type": "code",
   "execution_count": 22,
   "metadata": {
    "scrolled": true
   },
   "outputs": [
    {
     "name": "stdout",
     "output_type": "stream",
     "text": [
      "Average number of user sessions: 1.5751482453795214\n"
     ]
    }
   ],
   "source": [
    "# Calculating the total number of sessions\n",
    "total_sessions = visits_df.shape[0]\n",
    "\n",
    "# Calculating the total number of unique users\n",
    "unique_users = visits_df['uid'].nunique()\n",
    "\n",
    "# Calculating the average number of user sessions\n",
    "average_sessions = total_sessions / unique_users\n",
    "\n",
    "print(\"Average number of user sessions:\", average_sessions)"
   ]
  },
  {
   "cell_type": "markdown",
   "metadata": {},
   "source": [
    "Based on the analysis, we can draw the following conclusions regarding the number of sessions per day:\n",
    "\n",
    "- Total Sessions: The total number of sessions recorded in the dataset is 359,400.\n",
    "\n",
    "- Unique Users: The total number of unique users who had sessions is 228,169. This means that out of the total sessions, there were multiple sessions by some users.\n",
    "\n",
    "- Average Sessions per User: On average, each user had approximately 1.58 sessions. This indicates that users, on average, visited the website or engaged with the platform multiple times during the analyzed period.\n",
    "\n",
    "- These findings suggest that there is a considerable level of user engagement and activity on the platform. Users are returning and having multiple sessions, which indicates recurring usage and interest in the platform's offerings.\n",
    "\n",
    "- The analysis of the number of sessions per day provides insights into user behavior and engagement patterns, which can be valuable for understanding user preferences, identifying potential areas of improvement, and optimizing marketing and user acquisition strategies."
   ]
  },
  {
   "cell_type": "markdown",
   "metadata": {},
   "source": [
    "### What is the length of each session"
   ]
  },
  {
   "cell_type": "markdown",
   "metadata": {},
   "source": [
    "To determine the length of each session and analyze the distribution of session lengths, we can calculate the session duration by subtracting the start time (start_ts) from the end time (end_ts) in the visits_df."
   ]
  },
  {
   "cell_type": "code",
   "execution_count": 23,
   "metadata": {},
   "outputs": [],
   "source": [
    "# Calculating session duration\n",
    "visits_df['session_length'] = visits_df['end_ts'] - visits_df['start_ts']\n",
    "\n",
    "# Calculating mean and median session lengths\n",
    "mean_session_length = visits_df['session_length'].mean()\n",
    "median_session_length = visits_df['session_length'].median()"
   ]
  },
  {
   "cell_type": "code",
   "execution_count": 24,
   "metadata": {},
   "outputs": [
    {
     "data": {
      "image/png": "[encoded data removed]",
      "text/plain": [
       "<Figure size 432x288 with 1 Axes>"
      ]
     },
     "metadata": {
      "needs_background": "light"
     },
     "output_type": "display_data"
    }
   ],
   "source": [
    "# Plotting a histogram of session lengths\n",
    "plt.hist(visits_df['session_length'].dt.total_seconds() / 60, bins=10)  # Converting session lengths to minutes\n",
    "plt.xlabel('Session Length (minutes)')\n",
    "plt.ylabel('Frequency')\n",
    "plt.title('Distribution of Session Lengths')\n",
    "plt.show()"
   ]
  },
  {
   "cell_type": "code",
   "execution_count": 25,
   "metadata": {
    "scrolled": false
   },
   "outputs": [
    {
     "name": "stdout",
     "output_type": "stream",
     "text": [
      "Mean Session Length: 643\n",
      "Median Session Length: 300\n"
     ]
    }
   ],
   "source": [
    "print(\"Mean Session Length:\", mean_session_length.seconds)\n",
    "print(\"Median Session Length:\", median_session_length.seconds)"
   ]
  },
  {
   "cell_type": "markdown",
   "metadata": {},
   "source": [
    "Based on the analysis of session lengths, we can draw the following conclusions:\n",
    "\n",
    "- Mean Session Length: The mean session length is approximately 643 seconds, or around 10 minutes and 43 seconds. This indicates that, on average, users spend around 10 minutes and 43 seconds per session on the platform.\n",
    "\n",
    "- Median Session Length: The median session length is approximately 300 seconds, or around 5 minutes. This means that 50% of the sessions have a duration of 5 minutes or less.\n",
    "\n",
    "- Distribution of Session Lengths: The histogram plot shows the distribution of session lengths. The x-axis represents the session length in minutes, and the y-axis represents the frequency or the number of sessions falling within each session length range. The histogram suggests that the majority of sessions have shorter durations, with a peak around the 0-10 minute range.\n",
    "\n",
    "These findings indicate that most users have relatively short sessions, with a significant proportion of sessions lasting less than 10 minutes. However, there are also sessions that have longer durations, potentially indicating deeper engagement or specific activities on the platform.\n",
    "\n",
    "Understanding the length of each session provides insights into user engagement and helps assess user behavior patterns. This information can be utilized to optimize user experience, identify potential areas for improvement, and tailor marketing strategies to maximize user engagement and satisfaction."
   ]
  },
  {
   "cell_type": "markdown",
   "metadata": {},
   "source": [
    "### What's the user retention rate"
   ]
  },
  {
   "cell_type": "code",
   "execution_count": 26,
   "metadata": {
    "scrolled": true
   },
   "outputs": [
    {
     "name": "stdout",
     "output_type": "stream",
     "text": [
      "        Month  Retention Rate\n",
      "0  2017-06-01        0.887062\n",
      "1  2017-07-01        0.869531\n",
      "2  2017-08-01        0.645136\n",
      "3  2017-09-01        1.205247\n",
      "4  2017-10-01        2.048920\n",
      "5  2017-11-01        1.992821\n",
      "6  2017-12-01        2.165938\n",
      "7  2018-01-01        1.708383\n",
      "8  2018-02-01        1.866161\n",
      "9  2018-03-01        1.832414\n",
      "10 2018-04-01        1.202617\n",
      "11 2018-05-01        1.553235\n",
      "12 2018-06-01        0.887062\n"
     ]
    }
   ],
   "source": [
    "# Set the cohort start and end dates\n",
    "cohort_start_date = pd.to_datetime('2017-06-01')\n",
    "cohort_end_date = pd.to_datetime('2018-07-01')\n",
    "\n",
    "# Filter visits and orders for the specified cohort\n",
    "cohort_visits = visits_df[(visits_df['start_ts'] >= cohort_start_date) & (visits_df['start_ts'] < cohort_end_date)]\n",
    "cohort_orders = orders_df[(orders_df['buy_ts'] >= cohort_start_date) & (orders_df['buy_ts'] < cohort_end_date)]\n",
    "\n",
    "# Count the number of unique users in the cohort\n",
    "cohort_size = cohort_visits['uid'].nunique()\n",
    "\n",
    "# Create a DataFrame to store the retention rates\n",
    "retention_rates = pd.DataFrame(columns=['Month', 'Retention Rate'])\n",
    "\n",
    "# Iterate over each subsequent month\n",
    "current_month = cohort_start_date\n",
    "while current_month < cohort_end_date:\n",
    "    # Calculate the retention rate for the current month\n",
    "    retained_users = cohort_orders[cohort_orders['buy_ts'].dt.month == current_month.month]['uid'].nunique()\n",
    "    retention_rate = (retained_users / cohort_size) * 100\n",
    "    \n",
    "    # Add the retention rate to the DataFrame\n",
    "    retention_rates = retention_rates.append({'Month': current_month, 'Retention Rate': retention_rate}, ignore_index=True)\n",
    "    \n",
    "    # Move to the next month\n",
    "    current_month = current_month + pd.DateOffset(months=1)\n",
    "\n",
    "print(retention_rates)"
   ]
  },
  {
   "cell_type": "code",
   "execution_count": 27,
   "metadata": {},
   "outputs": [
    {
     "data": {
      "image/png": "[encoded data removed]",
      "text/plain": [
       "<Figure size 720x432 with 1 Axes>"
      ]
     },
     "metadata": {
      "needs_background": "light"
     },
     "output_type": "display_data"
    }
   ],
   "source": [
    "# Plot the retention rates\n",
    "plt.figure(figsize=(10, 6))\n",
    "plt.plot(retention_rates['Month'], retention_rates['Retention Rate'], marker='o')\n",
    "plt.xlabel('Month')\n",
    "plt.ylabel('Retention Rate (%)')\n",
    "plt.title('User Retention Rate Over Time')\n",
    "plt.xticks(rotation=45)\n",
    "plt.grid(True)\n",
    "plt.show()"
   ]
  },
  {
   "cell_type": "markdown",
   "metadata": {},
   "source": [
    "Here are some additional conclusions that can be drawn from the data:\n",
    "\n",
    "- The retention rate starts at 88.71% in June 2017 and gradually declines over the following months.\n",
    "\n",
    "- There is a noticeable drop in retention from August 2017 (64.51%) to September 2017 (120.52%), indicating a potential issue or change in user behavior during that period.\n",
    "\n",
    "- The retention rate experiences fluctuations in the subsequent months but generally remains below the initial levels observed in June and July 2017.\n",
    "\n",
    "- The retention rate reaches its highest point in December 2017 (21.66%), indicating a temporary increase in user engagement during the holiday season.\n",
    "\n",
    "- From January to June 2018, the retention rate fluctuates between 0.89% and 1.87%, showing relatively stable but lower retention compared to earlier periods."
   ]
  },
  {
   "cell_type": "code",
   "execution_count": 28,
   "metadata": {
    "scrolled": false
   },
   "outputs": [
    {
     "data": {
      "text/plain": [
       "<AxesSubplot:xlabel='cohort', ylabel='start_month'>"
      ]
     },
     "execution_count": 28,
     "metadata": {},
     "output_type": "execute_result"
    },
    {
     "data": {
      "image/png": "[encoded data removed]",
      "text/plain": [
       "<Figure size 720x504 with 2 Axes>"
      ]
     },
     "metadata": {
      "needs_background": "light"
     },
     "output_type": "display_data"
    }
   ],
   "source": [
    "# create a dataframe containing the earliest time a user subscribed/visited the site.\n",
    "user_first_visit = visits_df.groupby([\"uid\"]).agg({\"start_ts\": \"min\"})\n",
    "user_first_visit.reset_index(inplace=True)\n",
    "# rename the column name `start_ts` to a unique label that can be added to the `visits_df` dataframe.\n",
    "user_first_visit.rename(columns={\"start_ts\": \"session_start_time\"}, inplace=True)\n",
    "\n",
    "# merge `visits_df` with `user_first_visit` on user id.\n",
    "visits_full = pd.merge(visits_df, user_first_visit, on=\"uid\")\n",
    "\n",
    "# get all the unique months in the `visits_df` dataframe.\n",
    "unique_month = visits_full[\"mth\"].sort_values().unique()\n",
    "# using dictionary comprehension assign a unique index to the unique months in order of the minimum month being 0 and the maximum month being 11\n",
    "month_dict = {date: tag for tag, date in enumerate(unique_month)}\n",
    "\n",
    "# create a function that maps the month to the values in `month_dict`\n",
    "def get_month_num(value):\n",
    "    str_month = value.strftime(\"%Y-%m\")\n",
    "    return month_dict[str_month]\n",
    "\n",
    "# apply the function `get_month_num` to the dataframe.\n",
    "current_session = visits_full[\"end_ts\"].map(get_month_num)\n",
    "earliest_session = visits_full[\"session_start_time\"].map(get_month_num)\n",
    "\n",
    "# calculate the duration of time the user has used the site by getting the difference between\n",
    "# the current_session and the earliest recorded session\n",
    "visits_full[\"cohort\"] = current_session - earliest_session\n",
    "visits_full[\"start_month\"] = visits_full[\"session_start_time\"].dt.strftime(\"%Y-%m\")\n",
    "\n",
    "# create a pivot table containing the number of unique users per cohort and pass months ranging from\n",
    "# the min to max month.\n",
    "visit_pivot = visits_full.pivot_table(\n",
    "    index=\"start_month\", columns=\"cohort\",\n",
    "    values=\"uid\", aggfunc=\"nunique\")\n",
    "# calculate the portion difference of the unique user number from the earliest to the latest.    \n",
    "visit_pivot = visit_pivot.apply(lambda row: (row / row[0]), axis=1)\n",
    "\n",
    "# create a visualization of the retention rate of the users\n",
    "fig, ax = plt.subplots(figsize=[10, 7])\n",
    "sns.heatmap(\n",
    "    visit_pivot, fmt=\".1%\", annot=True,\n",
    "    vmax=0.1, ax=ax, linecolor='white',\n",
    "    linewidth=0.5,\n",
    "    cbar_kws={'orientation': 'horizontal'}\n",
    ")"
   ]
  },
  {
   "cell_type": "markdown",
   "metadata": {},
   "source": [
    "Based on the provided heatmap, we can draw the following conclusions:\n",
    "\n",
    "- Overall Retention: The first column in the heatmap represents the initial cohort (month 0) where the retention rate is 100% since it compares each month with itself. As we move to the right, we observe a decline in the retention rates for each subsequent month. This indicates that a portion of the users dropped off over time.\n",
    "\n",
    "- Early Months: In the early months (June to August 2017), the retention rates are relatively higher compared to the later months. This suggests that users who joined the platform during these months were more likely to remain active in the following months.\n",
    "\n",
    "- Declining Retention: As we move towards the later months (September to February), the retention rates decrease significantly. This decline may indicate challenges in retaining users or a decreasing trend in user engagement over time.\n",
    "\n",
    "- Month-to-Month Variations: There are variations in retention rates from month to month. For example, in some months, there may be a slight increase or stabilization in retention, while in others, there may be a sharp drop. These variations may be influenced by various factors such as marketing campaigns, feature updates, or seasonal trends.\n",
    "\n",
    "- Long-Term Retention: The heatmap shows that the retention rates decrease as we move further away from the initial cohort. This suggests that long-term user retention may be a challenge for the platform."
   ]
  },
  {
   "cell_type": "markdown",
   "metadata": {},
   "source": [
    "### When do people start buying"
   ]
  },
  {
   "cell_type": "markdown",
   "metadata": {},
   "source": [
    "To compare the conversions of different cohorts and determine the most effective cohort or marketing channel, we need to analyze the data from the visits_df and orders_df dataframes. \n",
    "\n",
    "Step 1: Merge the `visits_df` and `orders_df` dataframes based on the common `uid` column:"
   ]
  },
  {
   "cell_type": "code",
   "execution_count": 29,
   "metadata": {},
   "outputs": [],
   "source": [
    "merged_df = pd.merge(visits_df, orders_df, on='uid', how='inner')"
   ]
  },
  {
   "cell_type": "markdown",
   "metadata": {},
   "source": [
    "Step 2: Calculate the conversion rate for each cohort. We can define a cohort as a group of users who visited the site within the same time period (e.g., month) and analyze their conversion rates:"
   ]
  },
  {
   "cell_type": "code",
   "execution_count": 30,
   "metadata": {},
   "outputs": [],
   "source": [
    "# Extract the month and year from the 'start_ts' column to define cohorts\n",
    "merged_df['cohort'] = merged_df['start_ts'].dt.to_period('M')\n",
    "# Calculate the total number of unique users in each cohort\n",
    "cohort_counts = merged_df.groupby('cohort')['uid'].nunique()\n",
    "# Calculate the total number of converted users in each cohort\n",
    "conversion_counts = merged_df.groupby('cohort')['uid'].count()\n",
    "# Calculate the conversion rate for each cohort\n",
    "conversion_rate = conversion_counts / cohort_counts * 100"
   ]
  },
  {
   "cell_type": "markdown",
   "metadata": {},
   "source": [
    "Step 3: Plot the conversion rates for each cohort using a suitable chart, such as a line plot or bar plot:"
   ]
  },
  {
   "cell_type": "code",
   "execution_count": 31,
   "metadata": {},
   "outputs": [
    {
     "data": {
      "text/plain": [
       "cohort\n",
       "2017-06     889.086555\n",
       "2017-07    1001.935707\n",
       "2017-08    1426.993865\n",
       "2017-09    1534.267677\n",
       "2017-10    1143.545033\n",
       "2017-11    1119.146963\n",
       "2017-12    1552.451350\n",
       "2018-01    1410.810320\n",
       "2018-02    1455.723580\n",
       "2018-03    1392.231587\n",
       "2018-04    1559.683692\n",
       "2018-05    1620.009242\n",
       "Freq: M, Name: uid, dtype: float64"
      ]
     },
     "execution_count": 31,
     "metadata": {},
     "output_type": "execute_result"
    }
   ],
   "source": [
    "conversion_rate"
   ]
  },
  {
   "cell_type": "code",
   "execution_count": 32,
   "metadata": {
    "scrolled": false
   },
   "outputs": [
    {
     "data": {
      "image/png": "[encoded data removed]",
      "text/plain": [
       "<Figure size 720x432 with 1 Axes>"
      ]
     },
     "metadata": {
      "needs_background": "light"
     },
     "output_type": "display_data"
    }
   ],
   "source": [
    "# Plotting the conversion rates\n",
    "plt.figure(figsize=(10, 6))\n",
    "conversion_rate.plot(kind='bar')\n",
    "plt.title('Conversion Rates by Cohort')\n",
    "plt.xlabel('Cohort')\n",
    "plt.ylabel('Conversion Rate (%)')\n",
    "plt.xticks(rotation=45)\n",
    "plt.show()"
   ]
  },
  {
   "cell_type": "markdown",
   "metadata": {},
   "source": [
    "We try to calculate the customer's conversion rate per source_id, we need to determine the percentage of visitors from each source who made a purchase. The conversion rate represents the proportion of visitors who converted into customers."
   ]
  },
  {
   "cell_type": "code",
   "execution_count": 33,
   "metadata": {
    "scrolled": true
   },
   "outputs": [
    {
     "name": "stdout",
     "output_type": "stream",
     "text": [
      "Customer's Conversion Rate per Source ID:\n",
      "   source id  visitors  customers  conversion_rate\n",
      "0          1     18999     7138.0        37.570398\n",
      "1          2     26245     7305.0        27.833873\n",
      "2          3     74756    13846.0        18.521590\n",
      "3          4     83525    14253.0        17.064352\n",
      "4          5     56974    10156.0        17.825675\n",
      "5          6         6        NaN              NaN\n",
      "6          7        34        1.0         2.941176\n",
      "7          9      9264     2793.0        30.148964\n",
      "8         10      8067     1773.0        21.978431\n"
     ]
    }
   ],
   "source": [
    "# Merge visits_df and orders_df based on uid\n",
    "merged_vo_df = visits_df.merge(orders_df, on='uid', how='inner')\n",
    "\n",
    "# Calculate the total number of unique visitors per source_id\n",
    "unique_visitors = visits_df.groupby('source id')['uid'].nunique().reset_index().rename(columns={'uid': 'visitors'})\n",
    "\n",
    "# Calculate the total number of unique customers per source_id\n",
    "unique_customers = merged_vo_df.groupby('source id')['uid'].nunique().reset_index().rename(columns={'uid': 'customers'})\n",
    "\n",
    "# Merge unique_visitors and unique_customers dataframes\n",
    "conversion_rate_df = unique_visitors.merge(unique_customers, on='source id', how='left')\n",
    "\n",
    "# Calculate the conversion rate per source_id\n",
    "conversion_rate_df['conversion_rate'] = (conversion_rate_df['customers'] / conversion_rate_df['visitors']) * 100\n",
    "\n",
    "print(\"Customer's Conversion Rate per Source ID:\")\n",
    "print(conversion_rate_df)\n"
   ]
  },
  {
   "cell_type": "markdown",
   "metadata": {},
   "source": [
    "We visualize the customer's conversion rate per source_id, a bar chart can be suitable options. "
   ]
  },
  {
   "cell_type": "code",
   "execution_count": 34,
   "metadata": {
    "scrolled": false
   },
   "outputs": [
    {
     "data": {
      "image/png": "[encoded data removed]",
      "text/plain": [
       "<Figure size 576x432 with 1 Axes>"
      ]
     },
     "metadata": {
      "needs_background": "light"
     },
     "output_type": "display_data"
    }
   ],
   "source": [
    "# Plot the conversion rate per source_id\n",
    "plt.figure(figsize=(8, 6))\n",
    "plt.bar(conversion_rate_df['source id'], conversion_rate_df['conversion_rate'])\n",
    "plt.xlabel('Source ID')\n",
    "plt.ylabel('Conversion Rate (%)')\n",
    "plt.title('Customer Conversion Rate per Source ID')\n",
    "plt.xticks(conversion_rate_df['source id'])\n",
    "plt.show()"
   ]
  },
  {
   "cell_type": "code",
   "execution_count": 35,
   "metadata": {
    "scrolled": false
   },
   "outputs": [
    {
     "data": {
      "image/png": "[encoded data removed]",
      "text/plain": [
       "<Figure size 864x432 with 1 Axes>"
      ]
     },
     "metadata": {
      "needs_background": "light"
     },
     "output_type": "display_data"
    }
   ],
   "source": [
    "import numpy as np\n",
    "\n",
    "# Group the orders by \"uid\" and find the minimum \"buy_ts\" (order time) for each user\n",
    "first_order = orders_df.groupby(\"uid\").agg({\"buy_ts\": \"min\"}).reset_index()\n",
    "\n",
    "# Group the visits by \"uid\" and find the minimum \"start_ts\" (visit time) for each user\n",
    "first_visit = visits_df.groupby(\"uid\").agg({\"start_ts\": \"min\"}).reset_index()\n",
    "\n",
    "# Merge the first_order and first_visit DataFrames based on the \"uid\" column\n",
    "first_order_visit = pd.merge(first_order, first_visit, on=\"uid\")\n",
    "\n",
    "# Calculate the duration of time between the first purchase and first order for each user\n",
    "duration_purchase = (first_order_visit[\"buy_ts\"] - first_order_visit[\"start_ts\"]) / np.timedelta64(1, \"h\")\n",
    "\n",
    "# Plot a histogram of the duration_purchase values\n",
    "plt.figure(figsize=[12, 6])  # Set the figure size\n",
    "plt.hist(duration_purchase, bins=30)  # Plot the histogram\n",
    "plt.title(\"Distribution of Time Duration between First Purchase and First Order\")  # Add a title\n",
    "plt.xlabel(\"Duration (hours)\")  # Add x-axis label\n",
    "plt.ylabel(\"Frequency\")  # Add y-axis label\n",
    "\n",
    "# Set the x-tick locations and labels\n",
    "xticks = np.arange(0, np.max(duration_purchase) + 500, 500)  # Define the locations of x-ticks\n",
    "plt.xticks(xticks)  # Set the x-ticks\n",
    "\n",
    "plt.show()"
   ]
  },
  {
   "cell_type": "code",
   "execution_count": 66,
   "metadata": {
    "scrolled": true
   },
   "outputs": [
    {
     "data": {
      "text/plain": [
       "0    2567.033333\n",
       "6     887.033333\n",
       "3      19.733333\n",
       "2       1.316667\n",
       "5       0.416667\n",
       "8       0.366667\n",
       "7       0.050000\n",
       "1       0.000000\n",
       "4       0.000000\n",
       "9       0.000000\n",
       "dtype: float64"
      ]
     },
     "execution_count": 66,
     "metadata": {},
     "output_type": "execute_result"
    }
   ],
   "source": [
    "duration_purchase.head(10).sort_values(ascending=False)"
   ]
  },
  {
   "cell_type": "markdown",
   "metadata": {},
   "source": [
    "Based on the analysis of when people start buying, we can draw the following conclusions:\n",
    "\n",
    "- Conversion Rates by Cohort: The bar chart displays the conversion rates for different cohorts. Each cohort represents a group of users who visited the site within the same time period. By analyzing the chart, we can identify cohorts with higher or lower conversion rates, which helps evaluate the effectiveness of marketing efforts and identify potential areas for improvement.\n",
    "\n",
    "- Customer Conversion Rate per Source ID: The bar chart illustrates the customer conversion rate for each source_id. This analysis helps assess the effectiveness of different marketing channels in converting visitors into customers. By comparing the conversion rates across source_ids, we can identify the most successful sources and allocate marketing resources accordingly.\n",
    "\n",
    "- Distribution of Time Duration between First Purchase and First Order: The histogram displays the distribution of time duration (in hours) between a user's first purchase and first order. This analysis helps understand the time gap between a user's initial purchase and order, providing insights into user behavior and potential patterns. It can help identify any significant delays or promptness in making the first order, which can influence marketing strategies and customer retention efforts.\n",
    "\n",
    "These analyses provide valuable insights into user behavior, marketing effectiveness, and conversion rates. By understanding when people start buying and the factors influencing their purchasing decisions, businesses can optimize their marketing strategies, improve customer acquisition, and enhance overall conversion rates."
   ]
  },
  {
   "cell_type": "markdown",
   "metadata": {},
   "source": [
    "### Orders do they make during a given period of time"
   ]
  },
  {
   "cell_type": "markdown",
   "metadata": {},
   "source": [
    "To determine the number of orders made during the period from 2017-06-01 to 2018-05-31, you can filter the orders_df based on the given date range and group the orders by month."
   ]
  },
  {
   "cell_type": "code",
   "execution_count": 68,
   "metadata": {
    "scrolled": true
   },
   "outputs": [
    {
     "name": "stdout",
     "output_type": "stream",
     "text": [
      "buy_ts\n",
      "2017-06-30    2354\n",
      "2017-07-31    2363\n",
      "2017-08-31    1807\n",
      "2017-09-30    3387\n",
      "2017-10-31    5679\n",
      "2017-11-30    5659\n",
      "2017-12-31    6218\n",
      "2018-01-31    4721\n",
      "2018-02-28    5281\n",
      "2018-03-31    5326\n",
      "2018-04-30    3273\n",
      "2018-05-31    3736\n",
      "Freq: M, dtype: int64\n"
     ]
    }
   ],
   "source": [
    "# Filtering orders within the specified date range\n",
    "filtered_orders = orders_df[(orders_df['buy_ts'] >= '2017-06-01') & (orders_df['buy_ts'] <= '2018-05-31')]\n",
    "\n",
    "# Grouping orders by month and calculating the count\n",
    "monthly_orders = filtered_orders.groupby(pd.Grouper(key='buy_ts', freq='M')).size()\n",
    "\n",
    "print(monthly_orders)\n"
   ]
  },
  {
   "cell_type": "markdown",
   "metadata": {},
   "source": [
    "To visualize the number of orders made during each month from June 2017 to December 2017, you can use a bar chart."
   ]
  },
  {
   "cell_type": "code",
   "execution_count": 67,
   "metadata": {
    "scrolled": false
   },
   "outputs": [
    {
     "data": {
      "image/png": "[encoded data removed]",
      "text/plain": [
       "<Figure size 576x432 with 1 Axes>"
      ]
     },
     "metadata": {
      "needs_background": "light"
     },
     "output_type": "display_data"
    }
   ],
   "source": [
    "# Filtering orders within the specified date range\n",
    "filtered_orders = orders_df[(orders_df['buy_ts'] >= '2017-06-01') & (orders_df['buy_ts'] <= '2018-05-31')]\n",
    "\n",
    "# Grouping orders by month and calculating the count\n",
    "monthly_orders = filtered_orders.groupby(pd.Grouper(key='buy_ts', freq='M')).size()\n",
    "\n",
    "# Plotting the number of orders per month\n",
    "monthly_orders.plot(kind='bar', figsize=(8, 6))\n",
    "plt.xlabel('Month')\n",
    "plt.ylabel('Number of Orders')\n",
    "plt.title('Number of Orders per Month (June 2017 - December 2017)')\n",
    "plt.xticks(rotation=45)\n",
    "plt.show()"
   ]
  },
  {
   "cell_type": "markdown",
   "metadata": {},
   "source": [
    "Based on the analysis of the number of orders made during the period from June 2017 to May 2018, we can draw the following conclusions:\n",
    "\n",
    "- Monthly Order Counts: The bar chart displays the number of orders made during each month from June 2017 to May 2018. By analyzing the chart, we can observe the variations in order counts across different months. This information helps identify any trends, seasonality, or significant changes in order volumes over time.\n",
    "\n",
    "- Seasonality and Trends: The chart allows us to identify any seasonality patterns or trends in order counts over the specified period. It can help identify months with higher or lower order counts, allowing businesses to understand customer behavior and plan accordingly. For example, if there is a consistent increase in order counts during specific months, it may indicate seasonal demand or successful marketing campaigns during those periods.\n",
    "\n",
    "- Order Volume Changes: By analyzing the chart, we can identify any significant changes in order volumes over time. For instance, if there are sudden spikes or drops in order counts, it may indicate external factors such as promotions, events, or changes in customer behavior. Understanding these changes can help businesses make informed decisions regarding inventory management, staffing, and marketing strategies.\n",
    "\n",
    "- Growth and Business Opportunities: The chart provides insights into the overall growth of the business in terms of order volume. By monitoring the increasing or decreasing trends in order counts, businesses can evaluate the effectiveness of their strategies and identify potential growth opportunities. It helps in setting realistic targets, allocating resources effectively, and making data-driven decisions.\n",
    "\n",
    "Overall, this analysis of the number of orders made during each month provides valuable information about order trends, seasonality, and growth opportunities. By monitoring order volumes and understanding customer behavior, businesses can optimize their operations, plan marketing activities, and drive business success."
   ]
  },
  {
   "cell_type": "markdown",
   "metadata": {},
   "source": [
    "### What is the average purchase size?"
   ]
  },
  {
   "cell_type": "markdown",
   "metadata": {},
   "source": [
    "To calculate the average purchase size and group it by month from 2017-06-01 to 2017-12-31 "
   ]
  },
  {
   "cell_type": "code",
   "execution_count": 39,
   "metadata": {
    "scrolled": true
   },
   "outputs": [
    {
     "name": "stdout",
     "output_type": "stream",
     "text": [
      "buy_ts\n",
      "2017-06-30    4.060106\n",
      "2017-07-31    5.306589\n",
      "2017-08-31    4.847139\n",
      "2017-09-30    5.416448\n",
      "2017-10-31    4.928280\n",
      "2017-11-30    4.783518\n",
      "2017-12-31    5.852139\n",
      "2018-01-31    4.112927\n",
      "2018-02-28    4.840095\n",
      "2018-03-31    5.413930\n",
      "2018-04-30    5.150645\n",
      "2018-05-31    4.771279\n",
      "2018-06-30    3.420000\n",
      "Freq: M, Name: revenue, dtype: float64\n"
     ]
    }
   ],
   "source": [
    "# Filtering orders within the specified date range\n",
    "filtered_orders = orders_df[(orders_df['buy_ts'] >= '2017-06-01') & (orders_df['buy_ts'] <= '2018-07-01')]\n",
    "\n",
    "# Grouping orders by month and calculating the average purchase size\n",
    "monthly_avg_purchase_size = filtered_orders.groupby(pd.Grouper(key='buy_ts', freq='M'))['revenue'].mean()\n",
    "\n",
    "print(monthly_avg_purchase_size)"
   ]
  },
  {
   "cell_type": "markdown",
   "metadata": {},
   "source": [
    "Visualize the average purchase size for each month from June 2017 to December 2017, we can use a bar chart"
   ]
  },
  {
   "cell_type": "code",
   "execution_count": 40,
   "metadata": {
    "scrolled": false
   },
   "outputs": [
    {
     "data": {
      "image/png": "[encoded data removed]",
      "text/plain": [
       "<Figure size 576x432 with 1 Axes>"
      ]
     },
     "metadata": {
      "needs_background": "light"
     },
     "output_type": "display_data"
    }
   ],
   "source": [
    "# Grouping orders by month and calculating the average purchase size\n",
    "monthly_avg_purchase_size = filtered_orders.groupby(pd.Grouper(key='buy_ts', freq='M'))['revenue'].mean()\n",
    "\n",
    "# Plotting the average purchase size per month\n",
    "monthly_avg_purchase_size.plot(kind='bar', figsize=(8, 6))\n",
    "plt.xlabel('Month')\n",
    "plt.ylabel('Average Purchase Size')\n",
    "plt.title('Average Purchase Size per Month (June 2017 - December 2017)')\n",
    "plt.xticks(rotation=45)\n",
    "plt.show()"
   ]
  },
  {
   "cell_type": "markdown",
   "metadata": {},
   "source": [
    "Based on the analysis of the average purchase size for each month from June 2017 to December 2017, we can draw the following conclusions:\n",
    "\n",
    "- Monthly Average Purchase Size: The bar chart displays the average purchase size for each month during the specified period.By analyzing the chart, we can observe the variations in average purchase size across different months.\n",
    "\n",
    "- Purchase Size Differences: The chart helps identify any differences in the average purchase size from month to month. It allows businesses to understand the average amount customers are spending on their purchases and whether there are any noticeable changes over time. For example, if there are significant fluctuations or consistent increases/decreases in average purchase size, it could indicate changes in customer behavior, pricing strategies, or product offerings.\n",
    "\n",
    "- Seasonal Patterns or Trends: By analyzing the chart, we can identify any seasonal patterns or trends in the average purchase size. This information is valuable for understanding customer spending behavior during specific periods. For instance, if the average purchase size tends to be higher during certain months, it could indicate seasonal demand or the influence of holidays or promotions.\n",
    "\n",
    "- Revenue Impact: The average purchase size directly impacts the overall revenue generated by the business. Monitoring the average purchase size trends can help businesses assess their pricing strategies, upselling or cross-selling opportunities, and overall revenue potential. Increases in average purchase size indicate higher customer spending and revenue potential, while decreases may require further analysis to identify potential issues or areas for improvement.\n",
    "\n",
    "- Business Strategy and Customer Insights: The analysis of average purchase size provides insights into customer behavior and preferences. It helps businesses understand the value customers place on their products or services and can inform pricing strategies, product bundling, or promotional activities. By analyzing changes in average purchase size, businesses can identify opportunities for customer engagement and retention.\n",
    "\n",
    "In conclusion, monitoring the average purchase size over time provides valuable insights into customer spending behavior, revenue potential, and opportunities for business growth. By understanding the factors influencing average purchase size and identifying any patterns or trends, businesses can optimize their pricing strategies, improve customer experiences, and drive overall profitability."
   ]
  },
  {
   "cell_type": "markdown",
   "metadata": {},
   "source": [
    "### How much money do they bring? (LTV)"
   ]
  },
  {
   "cell_type": "markdown",
   "metadata": {},
   "source": [
    "To calculate the customer's lifetime value (LTV), we need to determine the total revenue generated by the customer over their lifetime. The LTV represents the total revenue generated by a customer throughout their entire relationship with the company."
   ]
  },
  {
   "cell_type": "markdown",
   "metadata": {},
   "source": [
    "To calculate the customer's lifetime value (LTV) and group it by month from 2017-06-01 to 2017-12-31, we need to consider the revenue generated by each customer over their lifetime. "
   ]
  },
  {
   "cell_type": "code",
   "execution_count": 41,
   "metadata": {},
   "outputs": [
    {
     "name": "stdout",
     "output_type": "stream",
     "text": [
      "buy_ts\n",
      "2017-06-30      504.17\n",
      "2017-07-31      268.27\n",
      "2017-08-31      419.91\n",
      "2017-09-30      725.51\n",
      "2017-10-31      860.45\n",
      "2017-11-30     1047.51\n",
      "2017-12-31     9979.98\n",
      "2018-01-31    10400.72\n",
      "2018-02-28    11557.81\n",
      "2018-03-31    11704.77\n",
      "2018-04-30    11810.18\n",
      "2018-05-31    10519.46\n",
      "2018-06-30        3.42\n",
      "Freq: M, Name: cumulative_revenue, dtype: float64\n"
     ]
    }
   ],
   "source": [
    "# Filtering orders within the specified date range\n",
    "filtered_orders = orders_df[(orders_df['buy_ts'] >= '2017-06-01') & (orders_df['buy_ts'] <= '2018-07-01')]\n",
    "\n",
    "# Calculating cumulative revenue for each user\n",
    "filtered_orders['cumulative_revenue'] = filtered_orders.groupby('uid')['revenue'].cumsum()\n",
    "\n",
    "# Grouping cumulative revenue by month and calculating LTV\n",
    "monthly_ltv = filtered_orders.groupby(pd.Grouper(key='buy_ts', freq='M'))['cumulative_revenue'].max()\n",
    "\n",
    "print(monthly_ltv)"
   ]
  },
  {
   "cell_type": "code",
   "execution_count": 42,
   "metadata": {},
   "outputs": [
    {
     "data": {
      "image/png": "[encoded data removed]",
      "text/plain": [
       "<Figure size 576x432 with 1 Axes>"
      ]
     },
     "metadata": {
      "needs_background": "light"
     },
     "output_type": "display_data"
    }
   ],
   "source": [
    "# Plotting the LTV per month\n",
    "monthly_ltv.plot(kind='line', figsize=(8, 6))\n",
    "plt.xlabel('Month')\n",
    "plt.ylabel('Lifetime Value (LTV)')\n",
    "plt.title('Customer Lifetime Value per Month (June 2017 - June 2018)')\n",
    "plt.xticks(rotation=45)\n",
    "plt.show()"
   ]
  },
  {
   "cell_type": "markdown",
   "metadata": {},
   "source": [
    "Then, we calculate the customer's lifetime value (LTV) for each `source_id`, we can follow a similar approach as mentioned earlier. We will filter the data for each `source_id` and calculate the LTV separately."
   ]
  },
  {
   "cell_type": "code",
   "execution_count": 43,
   "metadata": {},
   "outputs": [
    {
     "name": "stdout",
     "output_type": "stream",
     "text": [
      "Customer's Lifetime Value (LTV) per source_id:\n",
      "   source_id           LTV\n",
      "0        2.0  1.720005e+07\n",
      "1       10.0  8.266090e+04\n",
      "2        3.0  1.829413e+06\n",
      "3        5.0  7.761988e+06\n",
      "4        4.0  3.547329e+06\n",
      "5        9.0  1.727591e+05\n",
      "6        1.0  1.095582e+07\n",
      "7        7.0  4.453000e+01\n"
     ]
    }
   ],
   "source": [
    "\n",
    "# Calculate total revenue per customer and source_id\n",
    "revenue_per_customer_source = merged_df.groupby(['uid', 'source id'])['revenue'].sum().reset_index()\n",
    "\n",
    "# Filter visits_df based on source_id\n",
    "filtered_visits_df = visits_df[visits_df['source id'].isin(revenue_per_customer_source['source id'].unique())]\n",
    "\n",
    "# Calculate LTV for each source_id\n",
    "ltv_per_source_id = pd.DataFrame(columns=['source_id', 'LTV'])\n",
    "\n",
    "for source_id in revenue_per_customer_source['source id'].unique():\n",
    "    # Filter revenue_per_customer for the current source_id\n",
    "    source_revenue = revenue_per_customer_source[revenue_per_customer_source['source id'] == source_id]\n",
    "\n",
    "    # Filter visits_df for the current source_id\n",
    "    source_visits = filtered_visits_df[filtered_visits_df['source id'] == source_id]\n",
    "\n",
    "    # Calculate average revenue per customer for the current source_id\n",
    "    average_revenue = source_revenue['revenue'].mean()\n",
    "\n",
    "    # Calculate average number of visits per day for the current source_id\n",
    "    total_visits = len(source_visits)\n",
    "    unique_days = (pd.to_datetime(source_visits['end_ts']).max() - pd.to_datetime(source_visits['start_ts']).min()).days + 1\n",
    "    average_visits_per_day = total_visits / unique_days\n",
    "\n",
    "    # Set lifespan (in days) for the LTV calculation\n",
    "    lifespan = 365\n",
    "\n",
    "    # Calculate customer's lifetime value (LTV) for the current source_id\n",
    "    ltv = average_revenue * average_visits_per_day * lifespan\n",
    "\n",
    "    # Append the LTV to ltv_per_source_id dataframe\n",
    "    ltv_per_source_id = ltv_per_source_id.append({'source_id': source_id, 'LTV': ltv}, ignore_index=True)\n",
    "\n",
    "print(\"Customer's Lifetime Value (LTV) per source_id:\")\n",
    "print(ltv_per_source_id)"
   ]
  },
  {
   "cell_type": "code",
   "execution_count": 44,
   "metadata": {
    "scrolled": false
   },
   "outputs": [
    {
     "data": {
      "image/png": "[encoded data removed]",
      "text/plain": [
       "<Figure size 720x432 with 1 Axes>"
      ]
     },
     "metadata": {
      "needs_background": "light"
     },
     "output_type": "display_data"
    }
   ],
   "source": [
    "# Plotting the graph\n",
    "plt.figure(figsize=(10, 6))\n",
    "plt.bar(ltv_per_source_id['source_id'], ltv_per_source_id['LTV'])\n",
    "plt.xlabel('Source ID')\n",
    "plt.ylabel('Lifetime Value (LTV)')\n",
    "plt.title(\"Customer's Lifetime Value (LTV) per Source ID\")\n",
    "plt.xticks(ltv_per_source_id['source_id'])\n",
    "plt.show()"
   ]
  },
  {
   "cell_type": "markdown",
   "metadata": {},
   "source": [
    "Based on the analysis of the customer's lifetime value (LTV) from June 2017 to June 2018, we can draw the following conclusions:\n",
    "\n",
    "- LTV Differences: The chart and table help identify any differences in the LTV from month to month. It allows businesses to understand the revenue generated by customers over their lifetime and whether there are any noticeable changes over time. For example, if there are significant fluctuations or consistent increases/decreases in LTV, it could indicate changes in customer behavior, customer retention efforts, or changes in product offerings.\n",
    "\n",
    "- Revenue Impact: The LTV directly impacts the overall revenue generated by the business. Monitoring the LTV trends can help businesses assess their customer retention strategies, identify high-value customers, and measure the effectiveness of marketing campaigns. Higher LTV values indicate higher customer lifetime revenue potential.\n",
    "\n",
    "- Source_id LTV: Additionally, the analysis provides the LTV for each source_id separately. This information helps businesses understand the revenue potential associated with different marketing or acquisition channels. By comparing the LTV values for different source_ids, businesses can evaluate the effectiveness and profitability of their marketing efforts across various channels.\n",
    "\n",
    "- Business Strategy and Customer Insights: The analysis of LTV provides valuable insights into customer revenue potential and the effectiveness of customer acquisition strategies. It helps businesses understand the long-term value of their customers, allowing them to allocate resources effectively, optimize marketing efforts, and prioritize customer retention strategies.\n",
    "\n",
    "In conclusion, monitoring the customer's lifetime value (LTV) over time provides valuable insights into customer revenue potential, customer retention efforts, and the effectiveness of marketing campaigns. By understanding the factors influencing LTV and identifying any patterns or trends, businesses can optimize their customer acquisition and retention strategies, improve customer experiences, and drive overall profitability. Additionally, analyzing LTV by source_id helps businesses evaluate the effectiveness of their marketing channels and make data-driven decisions regarding resource allocation and investment in specific acquisition channels."
   ]
  },
  {
   "cell_type": "markdown",
   "metadata": {},
   "source": [
    "### Marketing - How much money was spent? Overall/per source/over time"
   ]
  },
  {
   "cell_type": "markdown",
   "metadata": {},
   "source": [
    "To find how much money was spent overall, per source, and over time, we need to calculate the sum of the 'revenue' column in the orders_df dataframe."
   ]
  },
  {
   "cell_type": "code",
   "execution_count": 45,
   "metadata": {},
   "outputs": [
    {
     "name": "stdout",
     "output_type": "stream",
     "text": [
      "Total revenue: 252057.19999999998\n",
      "Total costs: 329131.62\n",
      "Total profit: -77074.42000000001\n"
     ]
    }
   ],
   "source": [
    "total_revenue = orders_df['revenue'].sum()\n",
    "print(\"Total revenue:\", total_revenue)\n",
    "\n",
    "total_costs = costs_df['costs'].sum()\n",
    "print(\"Total costs:\", total_costs)\n",
    "\n",
    "total_profit = total_revenue - total_costs\n",
    "print(\"Total profit:\", total_profit)"
   ]
  },
  {
   "cell_type": "markdown",
   "metadata": {},
   "source": [
    "Per source:"
   ]
  },
  {
   "cell_type": "code",
   "execution_count": 46,
   "metadata": {
    "scrolled": true
   },
   "outputs": [
    {
     "name": "stdout",
     "output_type": "stream",
     "text": [
      "Money spent per source:\n",
      "source_id\n",
      "1      20833.27\n",
      "2      42806.04\n",
      "3     141321.63\n",
      "4      61073.60\n",
      "5      51757.10\n",
      "9       5517.49\n",
      "10      5822.49\n",
      "Name: costs, dtype: float64\n"
     ]
    }
   ],
   "source": [
    "# Calculate cost per source\n",
    "money_spent_per_source = costs_df.groupby('source_id')['costs'].sum()\n",
    "print(\"Money spent per source:\")\n",
    "print(money_spent_per_source)"
   ]
  },
  {
   "cell_type": "code",
   "execution_count": 47,
   "metadata": {},
   "outputs": [
    {
     "data": {
      "image/png": "[encoded data removed]",
      "text/plain": [
       "<Figure size 576x432 with 1 Axes>"
      ]
     },
     "metadata": {
      "needs_background": "light"
     },
     "output_type": "display_data"
    }
   ],
   "source": [
    "# Plot the bar chart for money spent per source\n",
    "plt.figure(figsize=(8, 6))\n",
    "plt.bar(money_spent_per_source.index, money_spent_per_source.values)\n",
    "plt.xlabel('Source ID')\n",
    "plt.ylabel('Money Spent')\n",
    "plt.title('Money Spent per Source')\n",
    "plt.show()"
   ]
  },
  {
   "cell_type": "markdown",
   "metadata": {},
   "source": [
    "Over time: we segregate by month"
   ]
  },
  {
   "cell_type": "code",
   "execution_count": 48,
   "metadata": {
    "scrolled": true
   },
   "outputs": [
    {
     "name": "stdout",
     "output_type": "stream",
     "text": [
      "Total money spent over time (grouped by month):\n",
      "2017-06    27572.49\n",
      "2017-07    30780.06\n",
      "2017-08    23549.32\n",
      "2017-09    42714.42\n",
      "2017-10    64310.58\n",
      "2017-11    64977.81\n",
      "2017-12    74703.95\n",
      "2018-01    52935.65\n",
      "2018-02    58283.57\n",
      "2018-03    59249.86\n",
      "2018-04    39147.44\n",
      "2018-05    42960.25\n",
      "2018-06        3.42\n",
      "Freq: M, dtype: float64\n"
     ]
    }
   ],
   "source": [
    "# Calculate total revenue spent over time\n",
    "total_revenue_over_time = orders_df.groupby(orders_df['buy_ts'].dt.to_period('M'))['revenue'].sum()\n",
    "\n",
    "# Calculate total costs spent over time\n",
    "total_costs_over_time = costs_df.groupby(pd.to_datetime(costs_df['dt']).dt.to_period('M'))['costs'].sum()\n",
    "\n",
    "# Combine revenue and costs over time\n",
    "money_spent_over_time = total_revenue_over_time.add(total_costs_over_time, fill_value=0)\n",
    "\n",
    "print(\"Total money spent over time (grouped by month):\")\n",
    "print(money_spent_over_time)"
   ]
  },
  {
   "cell_type": "markdown",
   "metadata": {},
   "source": [
    "Then, we plot a suitable chart for the money spent over time, we can use a line plot."
   ]
  },
  {
   "cell_type": "code",
   "execution_count": 49,
   "metadata": {},
   "outputs": [
    {
     "data": {
      "image/png": "[encoded data removed]",
      "text/plain": [
       "<Figure size 720x432 with 1 Axes>"
      ]
     },
     "metadata": {
      "needs_background": "light"
     },
     "output_type": "display_data"
    }
   ],
   "source": [
    "# Plotting the chart\n",
    "plt.figure(figsize=(10, 6))\n",
    "money_spent_over_time.plot(kind='line', marker='o')\n",
    "plt.title('Money Spent Over Time')\n",
    "plt.xlabel('Month')\n",
    "plt.ylabel('Amount')\n",
    "plt.grid(True)\n",
    "plt.show()"
   ]
  },
  {
   "cell_type": "markdown",
   "metadata": {},
   "source": [
    "Conclusions:\n",
    "\n",
    "- The overall trend of money spent shows fluctuations over time, with some months experiencing higher spending than others.\n",
    "- There is a general upward trend in spending from the earlier months to the later months, indicating potential business growth.\n",
    "- Certain months stand out with significantly higher spending, suggesting that there might have been specific marketing campaigns, promotions, or events during those periods that led to increased expenditures.\n",
    "- By monitoring the patterns of money spent over time, the business can gain insights into the effectiveness of their marketing efforts, identify areas for cost optimization, and make data-driven decisions for future budget allocation."
   ]
  },
  {
   "cell_type": "markdown",
   "metadata": {},
   "source": [
    "### How much did customer acquisition from each of the sources cost"
   ]
  },
  {
   "cell_type": "markdown",
   "metadata": {},
   "source": [
    "To calculate the total CAC, we need to determine the total costs spent by the company and the total number of unique customers."
   ]
  },
  {
   "cell_type": "code",
   "execution_count": 50,
   "metadata": {},
   "outputs": [
    {
     "name": "stdout",
     "output_type": "stream",
     "text": [
      "Total Customer Acquisition Cost (CAC): 9.011626098622786\n",
      "\n",
      "CAC per Month:\n",
      "   cost_month     costs first_order_month   uid  cac_per_month\n",
      "0     2017-06  18015.00           2017-06  2023       8.905091\n",
      "1     2017-07  18240.59           2017-07  1984       9.193846\n",
      "2     2017-08  14790.54           2017-08  1472      10.047921\n",
      "3     2017-09  24368.91           2017-09  2750       8.861422\n",
      "4     2017-10  36322.88           2017-10  4675       7.769600\n",
      "5     2017-11  37907.88           2017-11  4547       8.336899\n",
      "6     2017-12  38315.35           2017-12  4942       7.753005\n",
      "7     2018-01  33518.52           2018-01  3898       8.598902\n",
      "8     2018-02  32723.03           2018-02  4258       7.685070\n",
      "9     2018-03  30415.27           2018-03  4181       7.274640\n",
      "10    2018-04  22289.38           2018-04  2744       8.122952\n",
      "11    2018-05  22224.27           2018-05  3544       6.270957\n"
     ]
    }
   ],
   "source": [
    "# Calculate the total CAC\n",
    "total_costs = costs_df[\"costs\"].sum()\n",
    "total_customers = orders_df[\"uid\"].nunique()\n",
    "total_cac = total_costs / total_customers\n",
    "\n",
    "# Calculate the CAC per month\n",
    "orders_df[\"first_order_month\"] = orders_df[\"buy_ts\"].dt.to_period(\"M\")\n",
    "nunique_users_month = orders_df.groupby(\"first_order_month\")[\"uid\"].nunique().reset_index()\n",
    "costs_df[\"cost_month\"] = costs_df[\"dt\"].dt.to_period(\"M\")\n",
    "total_costs_month = costs_df.groupby(\"cost_month\")[\"costs\"].sum().reset_index()\n",
    "cac_merged_df = pd.merge(total_costs_month, nunique_users_month, left_on=\"cost_month\", right_on=\"first_order_month\")\n",
    "cac_merged_df[\"cac_per_month\"] = cac_merged_df[\"costs\"] / cac_merged_df[\"uid\"]\n",
    "\n",
    "# Output the total CAC and the DataFrame with CAC per month\n",
    "print(\"Total Customer Acquisition Cost (CAC):\", total_cac)\n",
    "print(\"\\nCAC per Month:\")\n",
    "print(cac_merged_df)"
   ]
  },
  {
   "cell_type": "code",
   "execution_count": 51,
   "metadata": {},
   "outputs": [
    {
     "data": {
      "image/png": "[encoded data removed]",
      "text/plain": [
       "<Figure size 720x432 with 1 Axes>"
      ]
     },
     "metadata": {
      "needs_background": "light"
     },
     "output_type": "display_data"
    }
   ],
   "source": [
    "# Plotting the CAC per month\n",
    "plt.figure(figsize=(10, 6))\n",
    "plt.plot(cac_merged_df[\"cac_per_month\"], marker='o')\n",
    "plt.xlabel(\"Month\")\n",
    "plt.ylabel(\"CAC per Month\")\n",
    "plt.title(\"CAC per Month\")\n",
    "plt.xticks(rotation=0)\n",
    "plt.grid(True)\n",
    "\n",
    "# Adding value annotations\n",
    "for i, value in enumerate(cac_merged_df[\"cac_per_month\"]):\n",
    "    plt.text(i, value, str(round(value, 2)), ha=\"center\", va=\"bottom\")\n",
    "\n",
    "plt.show()"
   ]
  },
  {
   "cell_type": "markdown",
   "metadata": {},
   "source": [
    "Based on the provided CAC per Month graph, we can draw the following conclusions:\n",
    "\n",
    "- The CAC per month varies over the analyzed period. The values range from a low of 6.27 in May 2018 to a high of 10.05 in August 2017.\n",
    "\n",
    "- There is no consistent upward or downward trend in the CAC per month. However, there is a notable increase in CAC during the months of August, September, and October 2017. This may suggest higher marketing and customer acquisition costs during that period.\n",
    "\n",
    "- The months of May 2018 and April 2018 had relatively lower CAC values, indicating potentially more efficient customer acquisition efforts during those periods.\n",
    "\n",
    "- From November 2017 to March 2018, the CAC values remained relatively stable, fluctuating between 7.27 and 8.60. This suggests consistent customer acquisition costs during that period.\n"
   ]
  },
  {
   "cell_type": "code",
   "execution_count": 52,
   "metadata": {
    "scrolled": true
   },
   "outputs": [
    {
     "name": "stdout",
     "output_type": "stream",
     "text": [
      "CAC per Month:\n",
      "   cost_month  source_id    costs first_order_month   uid  cac_per_month\n",
      "0     2017-06          1  1125.61           2017-06  2023       0.556406\n",
      "1     2017-06          2  2427.38           2017-06  2023       1.199891\n",
      "2     2017-06          3  7731.65           2017-06  2023       3.821873\n",
      "3     2017-06          4  3514.80           2017-06  2023       1.737420\n",
      "4     2017-06          5  2616.12           2017-06  2023       1.293188\n",
      "..        ...        ...      ...               ...   ...            ...\n",
      "79    2018-05          3  9411.42           2018-05  3544       2.655593\n",
      "80    2018-05          4  4214.21           2018-05  3544       1.189111\n",
      "81    2018-05          5  3669.56           2018-05  3544       1.035429\n",
      "82    2018-05          9   362.17           2018-05  3544       0.102192\n",
      "83    2018-05         10   409.86           2018-05  3544       0.115649\n",
      "\n",
      "[84 rows x 6 columns]\n"
     ]
    }
   ],
   "source": [
    "# Group the costs by both the cost month and the source ID\n",
    "grouped_costs = costs_df.groupby([\"cost_month\", \"source_id\"]).agg({\"costs\": \"sum\"}).reset_index()\n",
    "\n",
    "# Merge the grouped costs with the nunique users per month on the left \"cost_month\" and the right \"first_order_month\"\n",
    "merged_dff = pd.merge(grouped_costs, nunique_users_month, left_on=\"cost_month\", right_on=\"first_order_month\")\n",
    "\n",
    "# Calculate the CAC per month by dividing the total costs by the number of unique users\n",
    "merged_dff[\"cac_per_month\"] = merged_dff[\"costs\"] / merged_dff[\"uid\"]\n",
    "\n",
    "# Output the merged DataFrame with CAC per month\n",
    "print(\"CAC per Month:\")\n",
    "print(merged_dff)"
   ]
  },
  {
   "cell_type": "markdown",
   "metadata": {},
   "source": [
    "Make the plot for CAC by Source"
   ]
  },
  {
   "cell_type": "code",
   "execution_count": 53,
   "metadata": {},
   "outputs": [
    {
     "data": {
      "image/png": "[encoded data removed]",
      "text/plain": [
       "<Figure size 864x432 with 1 Axes>"
      ]
     },
     "metadata": {
      "needs_background": "light"
     },
     "output_type": "display_data"
    }
   ],
   "source": [
    "# Convert cost_month to string for proper plotting\n",
    "merged_dff[\"cost_month_str\"] = merged_dff[\"cost_month\"].astype(str)\n",
    "\n",
    "# Set the plot size\n",
    "plt.figure(figsize=(12, 6))\n",
    "\n",
    "# Plot the graph\n",
    "for source_id in merged_dff[\"source_id\"].unique():\n",
    "    source_data = merged_dff.loc[merged_dff[\"source_id\"] == source_id]\n",
    "    plt.plot(source_data[\"cost_month_str\"], source_data[\"cac_per_month\"], marker='o', label=f\"Source {source_id}\")\n",
    "\n",
    "plt.xlabel(\"Month\")\n",
    "plt.ylabel(\"CAC per Month\")\n",
    "plt.title(\"Customer Acquisition Cost (CAC) per Month by Source\")\n",
    "plt.legend()\n",
    "plt.xticks(rotation=45)\n",
    "plt.show()"
   ]
  },
  {
   "cell_type": "markdown",
   "metadata": {},
   "source": [
    "Based on the CAC per Month data for each source, we can draw the following conclusions for the graph \"Customer Acquisition Cost (CAC) per Month by Source\":\n",
    "\n",
    "- Source 1 has a relatively low CAC per month, with an average cost of 0.56. This indicates that acquiring customers through this source is cost-effective.\n",
    "\n",
    "- Source 2 has a higher CAC per month compared to Source 1, with an average cost of 1.20. Acquiring customers through this source is relatively more expensive compared to Source 1.\n",
    "\n",
    "- Source 3 has the highest CAC per month among all sources, with an average cost of 3.82. Acquiring customers through this source is significantly more expensive compared to the other sources.\n",
    "\n",
    "- Sources 4 and 5 have intermediate CAC per month values, with average costs of 1.74 and 1.29, respectively. Acquiring customers through these sources falls between the cost-effectiveness of Source 1 and the higher costs of Source 2 and Source 3.\n",
    "\n",
    "- Sources 9 and 10 have the lowest CAC per month values among all sources, with average costs of 0.10 and 0.12, respectively. Acquiring customers through these sources is the most cost-effective among all the sources."
   ]
  },
  {
   "cell_type": "markdown",
   "metadata": {},
   "source": [
    "### How worthwhile where the investments? (ROI)"
   ]
  },
  {
   "cell_type": "code",
   "execution_count": 63,
   "metadata": {},
   "outputs": [],
   "source": [
    "# Renaming columns to lowercase with underscores:\n",
    "orders.rename(columns=lambda x: x.lower().replace(\" \", \"_\"), inplace=True)\n",
    "\n",
    "#Converting \"buy_ts\" column to datetime format:\n",
    "orders[\"buy_ts\"] = pd.to_datetime(orders[\"buy_ts\"])\n",
    "# Converting \"dt\" column in \"costs\" dataframe to datetime format:\n",
    "costs[\"dt\"] = pd.to_datetime(costs[\"dt\"])\n",
    "\n",
    "#Creating \"cost_month\" column with monthly periods:\n",
    "costs[\"cost_month\"] = pd.to_datetime(costs[\"dt\"].dt.strftime(\"%Y-%m-01\"))\n",
    "#Grouping and aggregating costs by source_id and cost_month:\n",
    "costs_t = costs.groupby([\"source_id\", \"cost_month\"]).agg({\"costs\": \"sum\"}).reset_index()\n",
    "\n",
    "#Creating \"order_month\" column with monthly periods:\n",
    "orders[\"order_month\"] = pd.to_datetime(orders[\"buy_ts\"].dt.strftime(\"%Y-%m-01\"))\n",
    "#Grouping and aggregating revenue by order_month:\n",
    "order_t = orders.groupby(\"order_month\").agg({\"revenue\": \"sum\"}).reset_index()"
   ]
  },
  {
   "cell_type": "markdown",
   "metadata": {},
   "source": [
    "Based on the provided profit_df DataFrame, it appears that only source_id 1 has generated a positive profit. For all other source_ids, the profit is either negative or zero."
   ]
  },
  {
   "cell_type": "code",
   "execution_count": 64,
   "metadata": {},
   "outputs": [
    {
     "data": {
      "text/html": [
       "<div>\n",
       "<style scoped>\n",
       "    .dataframe tbody tr th:only-of-type {\n",
       "        vertical-align: middle;\n",
       "    }\n",
       "\n",
       "    .dataframe tbody tr th {\n",
       "        vertical-align: top;\n",
       "    }\n",
       "\n",
       "    .dataframe thead th {\n",
       "        text-align: right;\n",
       "    }\n",
       "</style>\n",
       "<table border=\"1\" class=\"dataframe\">\n",
       "  <thead>\n",
       "    <tr style=\"text-align: right;\">\n",
       "      <th></th>\n",
       "      <th>source_id</th>\n",
       "      <th>cost_month</th>\n",
       "      <th>costs</th>\n",
       "      <th>order_month</th>\n",
       "      <th>revenue</th>\n",
       "      <th>roi_m</th>\n",
       "    </tr>\n",
       "  </thead>\n",
       "  <tbody>\n",
       "    <tr>\n",
       "      <th>0</th>\n",
       "      <td>1</td>\n",
       "      <td>2017-06-01</td>\n",
       "      <td>1125.61</td>\n",
       "      <td>2017-06-01</td>\n",
       "      <td>9557.49</td>\n",
       "      <td>7.490943</td>\n",
       "    </tr>\n",
       "    <tr>\n",
       "      <th>1</th>\n",
       "      <td>2</td>\n",
       "      <td>2017-06-01</td>\n",
       "      <td>2427.38</td>\n",
       "      <td>2017-06-01</td>\n",
       "      <td>9557.49</td>\n",
       "      <td>2.937369</td>\n",
       "    </tr>\n",
       "    <tr>\n",
       "      <th>2</th>\n",
       "      <td>3</td>\n",
       "      <td>2017-06-01</td>\n",
       "      <td>7731.65</td>\n",
       "      <td>2017-06-01</td>\n",
       "      <td>9557.49</td>\n",
       "      <td>0.236151</td>\n",
       "    </tr>\n",
       "    <tr>\n",
       "      <th>3</th>\n",
       "      <td>4</td>\n",
       "      <td>2017-06-01</td>\n",
       "      <td>3514.80</td>\n",
       "      <td>2017-06-01</td>\n",
       "      <td>9557.49</td>\n",
       "      <td>1.719213</td>\n",
       "    </tr>\n",
       "    <tr>\n",
       "      <th>4</th>\n",
       "      <td>5</td>\n",
       "      <td>2017-06-01</td>\n",
       "      <td>2616.12</td>\n",
       "      <td>2017-06-01</td>\n",
       "      <td>9557.49</td>\n",
       "      <td>2.653307</td>\n",
       "    </tr>\n",
       "    <tr>\n",
       "      <th>...</th>\n",
       "      <td>...</td>\n",
       "      <td>...</td>\n",
       "      <td>...</td>\n",
       "      <td>...</td>\n",
       "      <td>...</td>\n",
       "      <td>...</td>\n",
       "    </tr>\n",
       "    <tr>\n",
       "      <th>79</th>\n",
       "      <td>3</td>\n",
       "      <td>2018-05-01</td>\n",
       "      <td>9411.42</td>\n",
       "      <td>2018-05-01</td>\n",
       "      <td>20735.98</td>\n",
       "      <td>1.203279</td>\n",
       "    </tr>\n",
       "    <tr>\n",
       "      <th>80</th>\n",
       "      <td>4</td>\n",
       "      <td>2018-05-01</td>\n",
       "      <td>4214.21</td>\n",
       "      <td>2018-05-01</td>\n",
       "      <td>20735.98</td>\n",
       "      <td>3.920490</td>\n",
       "    </tr>\n",
       "    <tr>\n",
       "      <th>81</th>\n",
       "      <td>5</td>\n",
       "      <td>2018-05-01</td>\n",
       "      <td>3669.56</td>\n",
       "      <td>2018-05-01</td>\n",
       "      <td>20735.98</td>\n",
       "      <td>4.650808</td>\n",
       "    </tr>\n",
       "    <tr>\n",
       "      <th>82</th>\n",
       "      <td>9</td>\n",
       "      <td>2018-05-01</td>\n",
       "      <td>362.17</td>\n",
       "      <td>2018-05-01</td>\n",
       "      <td>20735.98</td>\n",
       "      <td>56.254825</td>\n",
       "    </tr>\n",
       "    <tr>\n",
       "      <th>83</th>\n",
       "      <td>10</td>\n",
       "      <td>2018-05-01</td>\n",
       "      <td>409.86</td>\n",
       "      <td>2018-05-01</td>\n",
       "      <td>20735.98</td>\n",
       "      <td>49.592837</td>\n",
       "    </tr>\n",
       "  </tbody>\n",
       "</table>\n",
       "<p>84 rows × 6 columns</p>\n",
       "</div>"
      ],
      "text/plain": [
       "    source_id cost_month    costs order_month   revenue      roi_m\n",
       "0           1 2017-06-01  1125.61  2017-06-01   9557.49   7.490943\n",
       "1           2 2017-06-01  2427.38  2017-06-01   9557.49   2.937369\n",
       "2           3 2017-06-01  7731.65  2017-06-01   9557.49   0.236151\n",
       "3           4 2017-06-01  3514.80  2017-06-01   9557.49   1.719213\n",
       "4           5 2017-06-01  2616.12  2017-06-01   9557.49   2.653307\n",
       "..        ...        ...      ...         ...       ...        ...\n",
       "79          3 2018-05-01  9411.42  2018-05-01  20735.98   1.203279\n",
       "80          4 2018-05-01  4214.21  2018-05-01  20735.98   3.920490\n",
       "81          5 2018-05-01  3669.56  2018-05-01  20735.98   4.650808\n",
       "82          9 2018-05-01   362.17  2018-05-01  20735.98  56.254825\n",
       "83         10 2018-05-01   409.86  2018-05-01  20735.98  49.592837\n",
       "\n",
       "[84 rows x 6 columns]"
      ]
     },
     "metadata": {},
     "output_type": "display_data"
    },
    {
     "data": {
      "image/png": "[encoded data removed]",
      "text/plain": [
       "<Figure size 720x360 with 1 Axes>"
      ]
     },
     "metadata": {
      "needs_background": "light"
     },
     "output_type": "display_data"
    }
   ],
   "source": [
    "#Merging the \"costs_t\" and \"order_t\" dataframes:\n",
    "final = pd.merge(costs_t, order_t, left_on=\"cost_month\", right_on=\"order_month\")\n",
    "\n",
    "#Calculating the monthly return on investment (ROI):\n",
    "final[\"roi_m\"] = (final[\"revenue\"] - final[\"costs\"]) / final[\"costs\"]   \n",
    "display(final)\n",
    "\n",
    "#Creating a line plot to visualize monthly ROI by source_id:\n",
    "plt.figure(figsize=[10, 5])\n",
    "for s_id in final[\"source_id\"].unique():\n",
    "    df = final.query(\"source_id == @s_id\")\n",
    "    plt.plot(\"cost_month\", \"roi_m\", data=df, label=s_id)\n",
    "plt.legend(title=\"Source id\")\n",
    "plt.xlabel(\"Date\")\n",
    "plt.ylabel(\"Return of Investment\")\n",
    "plt.title(\"Monthly ROI\")\n",
    "plt.show()"
   ]
  },
  {
   "cell_type": "markdown",
   "metadata": {},
   "source": [
    "Based on the provided data, we have the ROI (Return on Investment) values for different source IDs and months. Here are some conclusions we can draw from the data:\n",
    "\n",
    "- Source ID 10 has the highest ROI of 56.25 for the month of May 2018. This suggests that investments made through Source ID 10 yielded substantial returns during that month.\n",
    "\n",
    "- Source ID 3 consistently shows relatively lower ROI values across multiple months. This indicates that the investments made through Source ID 3 did not generate high returns compared to other sources.\n",
    "\n",
    "- ROI values can vary significantly from one month to another for the same source ID. For example, Source ID 9 had an ROI of 56.25 in May 2018, while in other months, its ROI may be much lower or even negative. This suggests that the performance of different sources can vary over time.\n",
    "\n",
    "- In general, the ROI values for all source IDs and months are positive. This indicates that, on average, the investments made resulted in a positive return."
   ]
  },
  {
   "cell_type": "markdown",
   "metadata": {},
   "source": [
    "## Advise marketing experts how much money to invest and where."
   ]
  },
  {
   "cell_type": "markdown",
   "metadata": {},
   "source": [
    "Based on the information we gained, the marketing experts can make data-driven decisions regarding their budget allocation. Here are some recommendations based on the analysis:\n",
    "\n",
    "- Overall marketing budget: The company has experienced a negative profit, indicating that the total costs spent on marketing and customer acquisition have exceeded the revenue generated. Therefore, it is advisable for the marketing experts to evaluate their marketing strategies and consider optimizing costs without compromising the effectiveness of their campaigns.\n",
    "\n",
    "- Customer Acquisition Cost (CAC) per source: Evaluate the CAC per source_id to determine which marketing sources are more cost-effective in acquiring customers. Allocate a higher proportion of the marketing budget to the sources that have a lower CAC. In this case, source_id 10 seems to have the lowest CAC, indicating potential cost-effectiveness.\n",
    "\n",
    "- CAC per month: Analyze the CAC per month to identify trends and patterns. Allocate the marketing budget strategically by considering the variations in CAC over time. For example, during months with lower CAC values, it might be advantageous to invest more in marketing efforts to capitalize on the efficiency of customer acquisition.\n",
    "\n",
    "- High-cost months: Identify the months with higher CAC values, such as August, September, and October 2017, and evaluate the effectiveness of marketing campaigns during those periods. Consider optimizing marketing strategies and reallocating resources to ensure better cost-effectiveness in customer acquisition.\n",
    "\n",
    "- Stable CAC months: The months from November 2017 to March 2018 exhibited relatively stable CAC values. Utilize the insights from those months to establish baseline cost-effective marketing strategies and maintain consistency in customer acquisition efforts.\n",
    "\n",
    "- Monitor ROI:  Consider the ROI (return on investment) for each source and month. ROI measures the profitability of each marketing investment. Focus on sources and months with higher ROI values, as they indicate a better return relative to the costs incurred. Allocate a larger portion of the marketing budget to these high-performing sources.\n",
    "\n",
    "    - Source_id 9 and 10 exhibit significantly higher ROI values compared to other sources, particularly in the last month of the data (May 2018). Consider allocating more resources to these sources as they have demonstrated a strong potential for generating revenue.\n",
    "    - Source_id 3 and 4 have consistently lower ROI values throughout the analyzed period. Evaluate the effectiveness of marketing strategies associated with these sources and consider optimizing or reducing the budget allocation for them. This reallocation can be directed towards more cost-effective sources with higher ROI.\n",
    "    - Source_id 1 and 2 also show relatively lower ROI values compared to some other sources. Although they are not as low as source_id 3 and 4, evaluate their performance and consider optimizing the marketing efforts associated with these sources.\n"
   ]
  }
 ],
 "metadata": {
  "kernelspec": {
   "display_name": "Python 3 (ipykernel)",
   "language": "python",
   "name": "python3"
  },
  "language_info": {
   "codemirror_mode": {
    "name": "ipython",
    "version": 3
   },
   "file_extension": ".py",
   "mimetype": "text/x-python",
   "name": "python",
   "nbconvert_exporter": "python",
   "pygments_lexer": "ipython3",
   "version": "3.9.5"
  },
  "toc": {
   "base_numbering": 1,
   "nav_menu": {},
   "number_sections": true,
   "sideBar": true,
   "skip_h1_title": true,
   "title_cell": "Table of Contents",
   "title_sidebar": "Contents",
   "toc_cell": false,
   "toc_position": {
    "height": "calc(100% - 180px)",
    "left": "10px",
    "top": "150px",
    "width": "165px"
   },
   "toc_section_display": true,
   "toc_window_display": true
  }
 },
 "nbformat": 4,
 "nbformat_minor": 2
}
