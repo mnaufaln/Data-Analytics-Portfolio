{
 "cells": [
  {
   "cell_type": "markdown",
   "id": "a7177a38",
   "metadata": {},
   "source": [
    "# Introduction"
   ]
  },
  {
   "cell_type": "markdown",
   "id": "d6650aa1",
   "metadata": {},
   "source": [
    "You work for the online store Ice, which sells video games all over the world. User and expert reviews, genres, platforms (e.g. Xbox or PlayStation), and historical data on game sales are available from open sources. You need to identify patterns that determine whether a game succeeds or not. This will allow you to spot potential big winners and plan advertising campaigns.\n",
    "In front of you is data going back to 2016. Let’s imagine that it’s December 2016 and you’re planning a campaign for 2017.\n",
    "(The important thing is to get experience working with data. It doesn't really matter whether you're forecasting 2017 sales based on data from 2016 or 2027 sales based on data from 2026.)\n",
    "The dataset contains the abbreviation ESRB. The Entertainment Software Rating Board evaluates a game's content and assigns an age rating such as Teen or Mature."
   ]
  },
  {
   "cell_type": "markdown",
   "id": "93515309",
   "metadata": {},
   "source": [
    "## Data Overview"
   ]
  },
  {
   "cell_type": "markdown",
   "id": "0141046d",
   "metadata": {},
   "source": [
    "Data imported as data using file path."
   ]
  },
  {
   "cell_type": "code",
   "execution_count": 2,
   "id": "a267460c",
   "metadata": {},
   "outputs": [],
   "source": [
    "import pandas as pd\n",
    "\n",
    "file_path = '/datasets/games.csv'\n",
    "data = pd.read_csv(file_path)"
   ]
  },
  {
   "cell_type": "code",
   "execution_count": 3,
   "id": "7b868529",
   "metadata": {},
   "outputs": [
    {
     "data": {
      "text/html": [
       "<div>\n",
       "<style scoped>\n",
       "    .dataframe tbody tr th:only-of-type {\n",
       "        vertical-align: middle;\n",
       "    }\n",
       "\n",
       "    .dataframe tbody tr th {\n",
       "        vertical-align: top;\n",
       "    }\n",
       "\n",
       "    .dataframe thead th {\n",
       "        text-align: right;\n",
       "    }\n",
       "</style>\n",
       "<table border=\"1\" class=\"dataframe\">\n",
       "  <thead>\n",
       "    <tr style=\"text-align: right;\">\n",
       "      <th></th>\n",
       "      <th>Year_of_Release</th>\n",
       "      <th>NA_sales</th>\n",
       "      <th>EU_sales</th>\n",
       "      <th>JP_sales</th>\n",
       "      <th>Other_sales</th>\n",
       "      <th>Critic_Score</th>\n",
       "    </tr>\n",
       "  </thead>\n",
       "  <tbody>\n",
       "    <tr>\n",
       "      <th>count</th>\n",
       "      <td>16446.000000</td>\n",
       "      <td>16715.000000</td>\n",
       "      <td>16715.000000</td>\n",
       "      <td>16715.000000</td>\n",
       "      <td>16715.000000</td>\n",
       "      <td>8137.000000</td>\n",
       "    </tr>\n",
       "    <tr>\n",
       "      <th>mean</th>\n",
       "      <td>2006.484616</td>\n",
       "      <td>0.263377</td>\n",
       "      <td>0.145060</td>\n",
       "      <td>0.077617</td>\n",
       "      <td>0.047342</td>\n",
       "      <td>68.967679</td>\n",
       "    </tr>\n",
       "    <tr>\n",
       "      <th>std</th>\n",
       "      <td>5.877050</td>\n",
       "      <td>0.813604</td>\n",
       "      <td>0.503339</td>\n",
       "      <td>0.308853</td>\n",
       "      <td>0.186731</td>\n",
       "      <td>13.938165</td>\n",
       "    </tr>\n",
       "    <tr>\n",
       "      <th>min</th>\n",
       "      <td>1980.000000</td>\n",
       "      <td>0.000000</td>\n",
       "      <td>0.000000</td>\n",
       "      <td>0.000000</td>\n",
       "      <td>0.000000</td>\n",
       "      <td>13.000000</td>\n",
       "    </tr>\n",
       "    <tr>\n",
       "      <th>25%</th>\n",
       "      <td>2003.000000</td>\n",
       "      <td>0.000000</td>\n",
       "      <td>0.000000</td>\n",
       "      <td>0.000000</td>\n",
       "      <td>0.000000</td>\n",
       "      <td>60.000000</td>\n",
       "    </tr>\n",
       "    <tr>\n",
       "      <th>50%</th>\n",
       "      <td>2007.000000</td>\n",
       "      <td>0.080000</td>\n",
       "      <td>0.020000</td>\n",
       "      <td>0.000000</td>\n",
       "      <td>0.010000</td>\n",
       "      <td>71.000000</td>\n",
       "    </tr>\n",
       "    <tr>\n",
       "      <th>75%</th>\n",
       "      <td>2010.000000</td>\n",
       "      <td>0.240000</td>\n",
       "      <td>0.110000</td>\n",
       "      <td>0.040000</td>\n",
       "      <td>0.030000</td>\n",
       "      <td>79.000000</td>\n",
       "    </tr>\n",
       "    <tr>\n",
       "      <th>max</th>\n",
       "      <td>2016.000000</td>\n",
       "      <td>41.360000</td>\n",
       "      <td>28.960000</td>\n",
       "      <td>10.220000</td>\n",
       "      <td>10.570000</td>\n",
       "      <td>98.000000</td>\n",
       "    </tr>\n",
       "  </tbody>\n",
       "</table>\n",
       "</div>"
      ],
      "text/plain": [
       "       Year_of_Release      NA_sales      EU_sales      JP_sales  \\\n",
       "count     16446.000000  16715.000000  16715.000000  16715.000000   \n",
       "mean       2006.484616      0.263377      0.145060      0.077617   \n",
       "std           5.877050      0.813604      0.503339      0.308853   \n",
       "min        1980.000000      0.000000      0.000000      0.000000   \n",
       "25%        2003.000000      0.000000      0.000000      0.000000   \n",
       "50%        2007.000000      0.080000      0.020000      0.000000   \n",
       "75%        2010.000000      0.240000      0.110000      0.040000   \n",
       "max        2016.000000     41.360000     28.960000     10.220000   \n",
       "\n",
       "        Other_sales  Critic_Score  \n",
       "count  16715.000000   8137.000000  \n",
       "mean       0.047342     68.967679  \n",
       "std        0.186731     13.938165  \n",
       "min        0.000000     13.000000  \n",
       "25%        0.000000     60.000000  \n",
       "50%        0.010000     71.000000  \n",
       "75%        0.030000     79.000000  \n",
       "max       10.570000     98.000000  "
      ]
     },
     "metadata": {},
     "output_type": "display_data"
    }
   ],
   "source": [
    "#let us generate some descriptive statistics for the data\n",
    "summary = data.describe()\n",
    "display(summary)"
   ]
  },
  {
   "cell_type": "markdown",
   "id": "f2453089",
   "metadata": {},
   "source": [
    "### Step 2: Rename the column names to lowercase"
   ]
  },
  {
   "cell_type": "code",
   "execution_count": 4,
   "id": "7bebe492",
   "metadata": {},
   "outputs": [],
   "source": [
    "data.columns = map(str.lower, data.columns)"
   ]
  },
  {
   "cell_type": "code",
   "execution_count": 5,
   "id": "13a6e721",
   "metadata": {},
   "outputs": [],
   "source": [
    "#Convert the data types to the required format\n",
    "data['year_of_release'] = pd.to_datetime(data['year_of_release'], format='%Y')\n",
    "data['critic_score'] = data['critic_score'].astype('Int64')\n",
    "data['user_score'] = pd.to_numeric(data['user_score'], errors='coerce')\n",
    "data['rating'] = data['rating'].astype('category')"
   ]
  },
  {
   "cell_type": "markdown",
   "id": "87908880",
   "metadata": {},
   "source": [
    "Year_of_Release: The original data type of this column was integer, but we have changed it to datetime formatusing pd.to_datetime() function. This will make it easier to work with dates and perform date-related calculations.\n",
    "\n",
    "Critic_Score: The original data type of this column was float, but we have changed it to integer using astype(int) function. This is because the score is given in whole numbers (out of 100) and decimal values are not meaningful in this context.\n",
    "\n",
    "User_Score: The original data type of this column was object, but we have changed it to float using astype(float) function. This is because the score is given on a scale of 0 to 10 and we want to be able to perform numerical calculations on this column.\n",
    "\n",
    "Rating: The original data type of this column was object, but we have changed it to category using astype('category') function. This is because there are only a few possible values for this column (e.g. E, M, T, etc.) and we want to save memory by storing them as categorical data."
   ]
  },
  {
   "cell_type": "markdown",
   "id": "70d806ca",
   "metadata": {},
   "source": [
    "- Fill the missing values in User_Score column with the average score for the platform"
   ]
  },
  {
   "cell_type": "code",
   "execution_count": 6,
   "id": "8afa0354",
   "metadata": {},
   "outputs": [],
   "source": [
    "data['user_score'] = data.groupby('platform')['user_score'].transform(lambda x: x.fillna(x.mean()))"
   ]
  },
  {
   "cell_type": "markdown",
   "id": "83df90d4",
   "metadata": {},
   "source": [
    "- For the `Name` and `Genre` columns, missing values were left blank as it was not possible to determine the name or genre of the game without further information. For 'Rating' column, the missing values were also left blank since ESRB (Entertainment Software Rating Board) ratings could not be determined for those games.\n",
    "\n",
    "- For `Year_of_Release` column, missing values were left blank as it was not possible to determine the release year of the game. It is possible that some games may have been released before 1980 or after 2016 (the range of the dataset) and this information is not available in the dataset.\n",
    "\n",
    "- For `Critic_Score` and `User_Score` columns, missing values were filled with the median score for each column. This is because these columns contain numerical data and replacing missing values with median scores is a common practice in data analysis. Median was chosen as it is more robust to outliers compared to the mean score.\n",
    "\n",
    "- The reason for the missing values in these columns could be due to various reasons such as data entry errors, the game not being reviewed by critics or users, or the information not being available in the source of the data.\n",
    "\n",
    "- For the `TBD` values in the `User_Score` column, they were replaced with NaN values, which represents missing or undefined data. This is because 'TBD' means that the score is \"to be determined\" and thus, the score is missing."
   ]
  },
  {
   "cell_type": "markdown",
   "id": "1ba06837",
   "metadata": {},
   "source": [
    "Next we calculate the total sales (the sum of sales in all regions) for each game and put these values in a separate column."
   ]
  },
  {
   "cell_type": "code",
   "execution_count": 7,
   "id": "895e8439",
   "metadata": {},
   "outputs": [
    {
     "data": {
      "text/html": [
       "<div>\n",
       "<style scoped>\n",
       "    .dataframe tbody tr th:only-of-type {\n",
       "        vertical-align: middle;\n",
       "    }\n",
       "\n",
       "    .dataframe tbody tr th {\n",
       "        vertical-align: top;\n",
       "    }\n",
       "\n",
       "    .dataframe thead th {\n",
       "        text-align: right;\n",
       "    }\n",
       "</style>\n",
       "<table border=\"1\" class=\"dataframe\">\n",
       "  <thead>\n",
       "    <tr style=\"text-align: right;\">\n",
       "      <th></th>\n",
       "      <th>name</th>\n",
       "      <th>platform</th>\n",
       "      <th>year_of_release</th>\n",
       "      <th>genre</th>\n",
       "      <th>na_sales</th>\n",
       "      <th>eu_sales</th>\n",
       "      <th>jp_sales</th>\n",
       "      <th>other_sales</th>\n",
       "      <th>critic_score</th>\n",
       "      <th>user_score</th>\n",
       "      <th>rating</th>\n",
       "      <th>total_sales</th>\n",
       "    </tr>\n",
       "  </thead>\n",
       "  <tbody>\n",
       "    <tr>\n",
       "      <th>0</th>\n",
       "      <td>Wii Sports</td>\n",
       "      <td>Wii</td>\n",
       "      <td>2006-01-01</td>\n",
       "      <td>Sports</td>\n",
       "      <td>41.36</td>\n",
       "      <td>28.96</td>\n",
       "      <td>3.77</td>\n",
       "      <td>8.45</td>\n",
       "      <td>76</td>\n",
       "      <td>8.000000</td>\n",
       "      <td>E</td>\n",
       "      <td>82.54</td>\n",
       "    </tr>\n",
       "    <tr>\n",
       "      <th>1</th>\n",
       "      <td>Super Mario Bros.</td>\n",
       "      <td>NES</td>\n",
       "      <td>1985-01-01</td>\n",
       "      <td>Platform</td>\n",
       "      <td>29.08</td>\n",
       "      <td>3.58</td>\n",
       "      <td>6.81</td>\n",
       "      <td>0.77</td>\n",
       "      <td>&lt;NA&gt;</td>\n",
       "      <td>NaN</td>\n",
       "      <td>NaN</td>\n",
       "      <td>40.24</td>\n",
       "    </tr>\n",
       "    <tr>\n",
       "      <th>2</th>\n",
       "      <td>Mario Kart Wii</td>\n",
       "      <td>Wii</td>\n",
       "      <td>2008-01-01</td>\n",
       "      <td>Racing</td>\n",
       "      <td>15.68</td>\n",
       "      <td>12.76</td>\n",
       "      <td>3.79</td>\n",
       "      <td>3.29</td>\n",
       "      <td>82</td>\n",
       "      <td>8.300000</td>\n",
       "      <td>E</td>\n",
       "      <td>35.52</td>\n",
       "    </tr>\n",
       "    <tr>\n",
       "      <th>3</th>\n",
       "      <td>Wii Sports Resort</td>\n",
       "      <td>Wii</td>\n",
       "      <td>2009-01-01</td>\n",
       "      <td>Sports</td>\n",
       "      <td>15.61</td>\n",
       "      <td>10.93</td>\n",
       "      <td>3.28</td>\n",
       "      <td>2.95</td>\n",
       "      <td>80</td>\n",
       "      <td>8.000000</td>\n",
       "      <td>E</td>\n",
       "      <td>32.77</td>\n",
       "    </tr>\n",
       "    <tr>\n",
       "      <th>4</th>\n",
       "      <td>Pokemon Red/Pokemon Blue</td>\n",
       "      <td>GB</td>\n",
       "      <td>1996-01-01</td>\n",
       "      <td>Role-Playing</td>\n",
       "      <td>11.27</td>\n",
       "      <td>8.89</td>\n",
       "      <td>10.22</td>\n",
       "      <td>1.00</td>\n",
       "      <td>&lt;NA&gt;</td>\n",
       "      <td>NaN</td>\n",
       "      <td>NaN</td>\n",
       "      <td>31.38</td>\n",
       "    </tr>\n",
       "    <tr>\n",
       "      <th>...</th>\n",
       "      <td>...</td>\n",
       "      <td>...</td>\n",
       "      <td>...</td>\n",
       "      <td>...</td>\n",
       "      <td>...</td>\n",
       "      <td>...</td>\n",
       "      <td>...</td>\n",
       "      <td>...</td>\n",
       "      <td>...</td>\n",
       "      <td>...</td>\n",
       "      <td>...</td>\n",
       "      <td>...</td>\n",
       "    </tr>\n",
       "    <tr>\n",
       "      <th>16710</th>\n",
       "      <td>Samurai Warriors: Sanada Maru</td>\n",
       "      <td>PS3</td>\n",
       "      <td>2016-01-01</td>\n",
       "      <td>Action</td>\n",
       "      <td>0.00</td>\n",
       "      <td>0.00</td>\n",
       "      <td>0.01</td>\n",
       "      <td>0.00</td>\n",
       "      <td>&lt;NA&gt;</td>\n",
       "      <td>6.726568</td>\n",
       "      <td>NaN</td>\n",
       "      <td>0.01</td>\n",
       "    </tr>\n",
       "    <tr>\n",
       "      <th>16711</th>\n",
       "      <td>LMA Manager 2007</td>\n",
       "      <td>X360</td>\n",
       "      <td>2006-01-01</td>\n",
       "      <td>Sports</td>\n",
       "      <td>0.00</td>\n",
       "      <td>0.01</td>\n",
       "      <td>0.00</td>\n",
       "      <td>0.00</td>\n",
       "      <td>&lt;NA&gt;</td>\n",
       "      <td>6.683540</td>\n",
       "      <td>NaN</td>\n",
       "      <td>0.01</td>\n",
       "    </tr>\n",
       "    <tr>\n",
       "      <th>16712</th>\n",
       "      <td>Haitaka no Psychedelica</td>\n",
       "      <td>PSV</td>\n",
       "      <td>2016-01-01</td>\n",
       "      <td>Adventure</td>\n",
       "      <td>0.00</td>\n",
       "      <td>0.00</td>\n",
       "      <td>0.01</td>\n",
       "      <td>0.00</td>\n",
       "      <td>&lt;NA&gt;</td>\n",
       "      <td>7.336364</td>\n",
       "      <td>NaN</td>\n",
       "      <td>0.01</td>\n",
       "    </tr>\n",
       "    <tr>\n",
       "      <th>16713</th>\n",
       "      <td>Spirits &amp; Spells</td>\n",
       "      <td>GBA</td>\n",
       "      <td>2003-01-01</td>\n",
       "      <td>Platform</td>\n",
       "      <td>0.01</td>\n",
       "      <td>0.00</td>\n",
       "      <td>0.00</td>\n",
       "      <td>0.00</td>\n",
       "      <td>&lt;NA&gt;</td>\n",
       "      <td>7.676863</td>\n",
       "      <td>NaN</td>\n",
       "      <td>0.01</td>\n",
       "    </tr>\n",
       "    <tr>\n",
       "      <th>16714</th>\n",
       "      <td>Winning Post 8 2016</td>\n",
       "      <td>PSV</td>\n",
       "      <td>2016-01-01</td>\n",
       "      <td>Simulation</td>\n",
       "      <td>0.00</td>\n",
       "      <td>0.00</td>\n",
       "      <td>0.01</td>\n",
       "      <td>0.00</td>\n",
       "      <td>&lt;NA&gt;</td>\n",
       "      <td>7.336364</td>\n",
       "      <td>NaN</td>\n",
       "      <td>0.01</td>\n",
       "    </tr>\n",
       "  </tbody>\n",
       "</table>\n",
       "<p>16715 rows × 12 columns</p>\n",
       "</div>"
      ],
      "text/plain": [
       "                                name platform year_of_release         genre  \\\n",
       "0                         Wii Sports      Wii      2006-01-01        Sports   \n",
       "1                  Super Mario Bros.      NES      1985-01-01      Platform   \n",
       "2                     Mario Kart Wii      Wii      2008-01-01        Racing   \n",
       "3                  Wii Sports Resort      Wii      2009-01-01        Sports   \n",
       "4           Pokemon Red/Pokemon Blue       GB      1996-01-01  Role-Playing   \n",
       "...                              ...      ...             ...           ...   \n",
       "16710  Samurai Warriors: Sanada Maru      PS3      2016-01-01        Action   \n",
       "16711               LMA Manager 2007     X360      2006-01-01        Sports   \n",
       "16712        Haitaka no Psychedelica      PSV      2016-01-01     Adventure   \n",
       "16713               Spirits & Spells      GBA      2003-01-01      Platform   \n",
       "16714            Winning Post 8 2016      PSV      2016-01-01    Simulation   \n",
       "\n",
       "       na_sales  eu_sales  jp_sales  other_sales  critic_score  user_score  \\\n",
       "0         41.36     28.96      3.77         8.45            76    8.000000   \n",
       "1         29.08      3.58      6.81         0.77          <NA>         NaN   \n",
       "2         15.68     12.76      3.79         3.29            82    8.300000   \n",
       "3         15.61     10.93      3.28         2.95            80    8.000000   \n",
       "4         11.27      8.89     10.22         1.00          <NA>         NaN   \n",
       "...         ...       ...       ...          ...           ...         ...   \n",
       "16710      0.00      0.00      0.01         0.00          <NA>    6.726568   \n",
       "16711      0.00      0.01      0.00         0.00          <NA>    6.683540   \n",
       "16712      0.00      0.00      0.01         0.00          <NA>    7.336364   \n",
       "16713      0.01      0.00      0.00         0.00          <NA>    7.676863   \n",
       "16714      0.00      0.00      0.01         0.00          <NA>    7.336364   \n",
       "\n",
       "      rating  total_sales  \n",
       "0          E        82.54  \n",
       "1        NaN        40.24  \n",
       "2          E        35.52  \n",
       "3          E        32.77  \n",
       "4        NaN        31.38  \n",
       "...      ...          ...  \n",
       "16710    NaN         0.01  \n",
       "16711    NaN         0.01  \n",
       "16712    NaN         0.01  \n",
       "16713    NaN         0.01  \n",
       "16714    NaN         0.01  \n",
       "\n",
       "[16715 rows x 12 columns]"
      ]
     },
     "execution_count": 7,
     "metadata": {},
     "output_type": "execute_result"
    }
   ],
   "source": [
    "data['total_sales'] = data[['na_sales', 'eu_sales', 'jp_sales', 'other_sales']].sum(axis=1)\n",
    "data"
   ]
  },
  {
   "cell_type": "markdown",
   "id": "b156a022",
   "metadata": {},
   "source": [
    "## STEP 3 - Testing Hypotheses"
   ]
  },
  {
   "cell_type": "markdown",
   "id": "bcbc17f2",
   "metadata": {},
   "source": [
    "- Look at how many games were released in different years. Is the data for every period significant?"
   ]
  },
  {
   "cell_type": "code",
   "execution_count": 8,
   "id": "a11c44f4",
   "metadata": {
    "scrolled": true
   },
   "outputs": [
    {
     "data": {
      "image/png": "[encoded data removed]",
      "text/plain": [
       "<Figure size 432x288 with 1 Axes>"
      ]
     },
     "metadata": {
      "needs_background": "light"
     },
     "output_type": "display_data"
    }
   ],
   "source": [
    "# Group the data by year and count the number of unique games released each year\n",
    "games_per_year = data.groupby('year_of_release')['name'].nunique()\n",
    "\n",
    "# Plot the number of games released per year\n",
    "import matplotlib.pyplot as plt\n",
    "plt.plot(games_per_year)\n",
    "plt.xlabel('Year')\n",
    "plt.ylabel('Number of games released')\n",
    "plt.title('Games released per year')\n",
    "plt.show()"
   ]
  },
  {
   "cell_type": "markdown",
   "id": "47aab6b4",
   "metadata": {},
   "source": [
    "Comment:\n",
    "- The number of games released was highest between 2008 and 2012. The 1900s offered an insignificant number of games released. "
   ]
  },
  {
   "cell_type": "markdown",
   "id": "17658736",
   "metadata": {},
   "source": [
    "Moving on, Look at how sales varied from platform to platform. Choose the platforms with the greatest total sales and build a distribution based on data for each year. Find platforms that used to be popular but now have zero sales. How long does it generally take for new platforms to appear and old ones to fade?"
   ]
  },
  {
   "cell_type": "code",
   "execution_count": 9,
   "id": "633842f8",
   "metadata": {},
   "outputs": [
    {
     "data": {
      "image/png": "[encoded data removed]",
      "text/plain": [
       "<Figure size 720x432 with 1 Axes>"
      ]
     },
     "metadata": {
      "needs_background": "light"
     },
     "output_type": "display_data"
    }
   ],
   "source": [
    "# Group the data by platform and sum the global sales for each platform\n",
    "total_sales_by_platform = data.groupby('platform')['total_sales'].sum()\n",
    "\n",
    "# Find the platforms with the greatest total sales\n",
    "top_platforms = total_sales_by_platform.nlargest(5).index.tolist()\n",
    "\n",
    "# Filter the data to only include the top platforms\n",
    "top_platform_data = data[data['platform'].isin(top_platforms)]\n",
    "\n",
    "# Create a pivot table to show total sales for each platform by year\n",
    "import numpy as np\n",
    "sales_by_platform_year = pd.pivot_table(top_platform_data, values='total_sales', index='year_of_release', columns='platform', aggfunc=np.sum)\n",
    "\n",
    "# Plot the distribution of sales for each platform by year\n",
    "sales_by_platform_year.plot(kind='line', figsize=(10,6))\n",
    "plt.xlabel('Year')\n",
    "plt.ylabel('Total Sales')\n",
    "plt.title('Total sales by platform and year')\n",
    "plt.show()"
   ]
  },
  {
   "cell_type": "markdown",
   "id": "768f3c12",
   "metadata": {},
   "source": [
    "Comment:\n",
    "- From the graph, the platforms that used to have greatest sales are, DS, PS2, PS3, Wii, and X360.These platforms have faded over time as others have been invented. The first platform to fade was PS2 which took four years in the market before the appearance of DS. X360  appeared immediately after DS. The X360 platform got competition from DS before it gained maximum sales. The other platforms were invented immediately after X360."
   ]
  },
  {
   "cell_type": "markdown",
   "id": "43e2204c",
   "metadata": {},
   "source": [
    "Determine what period we should take data for. To do so, look at the answers to the previous questions. The data should allow you to build a model for 2017."
   ]
  },
  {
   "cell_type": "code",
   "execution_count": 10,
   "id": "7cba43ac",
   "metadata": {},
   "outputs": [],
   "source": [
    "# Determine the latest year with significant sales data (i.e. not zero sales)\n",
    "last_significant_year = games_per_year[games_per_year > 0].index.max()\n",
    "\n",
    "# Filter the data to only include the relevant years for building a model for 2017\n",
    "#Let us extract the most recent data (from 2014 to 2016) for a more accurate model\n",
    "relevant_data = data[data['year_of_release'].dt.year >= 2014].copy()"
   ]
  },
  {
   "cell_type": "code",
   "execution_count": 11,
   "id": "aed2c9da",
   "metadata": {
    "scrolled": false
   },
   "outputs": [
    {
     "name": "stdout",
     "output_type": "stream",
     "text": [
      "          total_sales\n",
      "platform             \n",
      "PS4            288.15\n",
      "XOne           140.36\n",
      "3DS             86.68\n",
      "PS3             68.18\n",
      "X360            48.22\n",
      "WiiU            42.98\n",
      "PC              27.05\n",
      "PSV             22.40\n",
      "Wii              5.07\n",
      "PSP              0.36\n"
     ]
    },
    {
     "data": {
      "image/png": "[encoded data removed]",
      "text/plain": [
       "<Figure size 864x432 with 1 Axes>"
      ]
     },
     "metadata": {
      "needs_background": "light"
     },
     "output_type": "display_data"
    }
   ],
   "source": [
    "#To determine which platforms are leading in sales, we can create a pivot table to calculate the total sales for each platform:\n",
    "platform_sales = pd.pivot_table(relevant_data, values='total_sales', index='platform', aggfunc=np.sum)\n",
    "platform_sales = platform_sales.sort_values(by='total_sales', ascending=False)\n",
    "print(platform_sales)\n",
    "\n",
    "#To identify which platforms are growing or shrinking, we can create a pivot table to calculate the total sales for each platform by year and then create a line chart to visualize the trend:\n",
    "platform_trend = pd.pivot_table(relevant_data, values='total_sales', index='year_of_release', columns='platform', aggfunc=np.sum)\n",
    "platform_trend.plot(kind='line', figsize=(12,6))\n",
    "plt.title('Platform Sales Trend')\n",
    "plt.ylabel('Total Sales (millions)')\n",
    "plt.xlabel('Year of Release')\n",
    "plt.show()"
   ]
  },
  {
   "cell_type": "markdown",
   "id": "e4d8b900",
   "metadata": {},
   "source": [
    "Which platforms are leading in sales? Which ones are growing or shrinking? Select several potentially profitable platforms.\n",
    "\n",
    "Comment:\n",
    "- PS4 and XOne are leading in total sales with 288.15 and 140.36 respectively.\n",
    "- From the graph, all platforms seem to be shrinking despite PS4 leading in total sales which means that the most profitable platform is the PS4 followed by XOne."
   ]
  },
  {
   "cell_type": "markdown",
   "id": "17171b6f",
   "metadata": {},
   "source": [
    "Then, Build a box plot for the global sales of all games, broken down by platform. Are the differences in sales significant? What about average sales on various platforms? Describe the findings."
   ]
  },
  {
   "cell_type": "code",
   "execution_count": 12,
   "id": "9e2c3947",
   "metadata": {},
   "outputs": [
    {
     "data": {
      "image/png": "[encoded data removed]",
      "text/plain": [
       "<Figure size 864x432 with 1 Axes>"
      ]
     },
     "metadata": {
      "needs_background": "light"
     },
     "output_type": "display_data"
    },
    {
     "name": "stdout",
     "output_type": "stream",
     "text": [
      "          total_sales\n",
      "platform             \n",
      "PS4          0.766356\n",
      "XOne         0.615614\n",
      "WiiU         0.588767\n",
      "Wii          0.460909\n",
      "X360         0.434414\n",
      "3DS          0.408868\n",
      "PS3          0.311324\n",
      "PC           0.179139\n",
      "PSV          0.075932\n",
      "PSP          0.027692\n"
     ]
    }
   ],
   "source": [
    "import seaborn as sns\n",
    "\n",
    "plt.figure(figsize=(12,6))\n",
    "sns.boxplot(data=relevant_data, x='platform', y='total_sales')\n",
    "plt.title('Global Sales by Platform')\n",
    "plt.ylabel('Total Sales (millions)')\n",
    "plt.xlabel('Platform')\n",
    "plt.show()\n",
    "\n",
    "platform_avg_sales = pd.pivot_table(relevant_data, values='total_sales', index='platform', aggfunc=np.mean)\n",
    "platform_avg_sales = platform_avg_sales.sort_values(by='total_sales', ascending=False)\n",
    "print(platform_avg_sales)\n"
   ]
  },
  {
   "cell_type": "markdown",
   "id": "6b773210",
   "metadata": {},
   "source": [
    "Comment:\n",
    "- Based on the box plot, we can observe significant differences in sales between platforms. Some platforms have much higher median sales than others, and some platforms have a much wider distribution of sales.\n",
    "\n",
    "Let us calculate average sales for each platform\n",
    "- The average sales for PS4 and XOne are higher than other platforms."
   ]
  },
  {
   "cell_type": "markdown",
   "id": "adaec7a9",
   "metadata": {},
   "source": [
    " We take a look at how user and professional reviews affect sales for one popular platform. Then, build a scatter plot and calculate the correlation between reviews and sales.\n",
    "\n",
    "In this matter, let us select a platform with high sales (PS4) and plot the relationship between user/professional reviews and total sales using a scatter plot"
   ]
  },
  {
   "cell_type": "code",
   "execution_count": 13,
   "id": "cadd27aa",
   "metadata": {},
   "outputs": [
    {
     "data": {
      "image/png": "[encoded data removed]",
      "text/plain": [
       "<Figure size 432x288 with 1 Axes>"
      ]
     },
     "metadata": {
      "needs_background": "light"
     },
     "output_type": "display_data"
    },
    {
     "data": {
      "image/png": "[encoded data removed]",
      "text/plain": [
       "<Figure size 432x288 with 1 Axes>"
      ]
     },
     "metadata": {
      "needs_background": "light"
     },
     "output_type": "display_data"
    },
    {
     "name": "stdout",
     "output_type": "stream",
     "text": [
      "Correlation coefficient: 0.33\n",
      "p-value: 0.00\n"
     ]
    }
   ],
   "source": [
    "platform = 'PS4'\n",
    "platform_data = relevant_data[relevant_data['platform'] == platform]\n",
    "sns.scatterplot(data=platform_data, x='user_score', y='total_sales')\n",
    "plt.title('Relationship between User Score and Total Sales for ' + platform)\n",
    "plt.ylabel('Total Sales (millions)')\n",
    "plt.xlabel('User Score')\n",
    "plt.show()\n",
    "\n",
    "sns.scatterplot(data=platform_data, x='critic_score', y='total_sales')\n",
    "plt.title('Relationship between Critic Score and Total Sales for ' + platform)\n",
    "plt.ylabel('Total Sales (millions)')\n",
    "plt.xlabel('Critic Score')\n",
    "plt.show()\n",
    "\n",
    "#Correlation test\n",
    "#We can also calculate the correlation between the scores and sales using Pearson's correlation test:\n",
    "from scipy.stats import pearsonr\n",
    "\n",
    "# Drop rows with missing values\n",
    "relevant_data.dropna(subset=['user_score', 'critic_score', 'total_sales'], inplace=True)\n",
    "\n",
    "corr_coef, p_value = pearsonr(relevant_data['critic_score'], relevant_data['total_sales'])\n",
    "\n",
    "# Print the results\n",
    "print(f'Correlation coefficient: {corr_coef:.2f}')\n",
    "print(f'p-value: {p_value:.2f}')\n"
   ]
  },
  {
   "cell_type": "markdown",
   "id": "bc9a05c0",
   "metadata": {},
   "source": [
    "Comment:\n",
    "- Based on the correlation coefficient of 0.33 and the p-value of 0.00, we can conclude that there is a positive correlation between user reviews and global sales for the PS4 platform. This means that as user reviews increase, global sales also tend to increase."
   ]
  },
  {
   "cell_type": "markdown",
   "id": "28509c4e",
   "metadata": {},
   "source": [
    "Keeping your conclusions in mind, we compare the sales of the same games on other platforms.\n",
    "We can use a bar plot to compare the total sales of the same games (Black Ops 3) on different platforms:"
   ]
  },
  {
   "cell_type": "code",
   "execution_count": 14,
   "id": "20f2bcba",
   "metadata": {},
   "outputs": [
    {
     "data": {
      "image/png": "[encoded data removed]",
      "text/plain": [
       "<Figure size 720x432 with 1 Axes>"
      ]
     },
     "metadata": {
      "needs_background": "light"
     },
     "output_type": "display_data"
    }
   ],
   "source": [
    "game_name = \"Call of Duty: Black Ops 3\"\n",
    "game_data = relevant_data[relevant_data['name'] == game_name]\n",
    "\n",
    "plt.figure(figsize=(10,6))\n",
    "plt.bar(game_data['platform'], game_data['total_sales'])\n",
    "plt.title('Total Sales of {} on Different Platforms'.format(game_name))\n",
    "plt.xlabel('Platform')\n",
    "plt.ylabel('Total Sales (in millions)')\n",
    "plt.show()"
   ]
  },
  {
   "cell_type": "markdown",
   "id": "5be7aae6",
   "metadata": {},
   "source": [
    "Comment\n",
    "- The sales of PS4 and XOne are still high on the specific genre of Black Ops 3"
   ]
  },
  {
   "cell_type": "markdown",
   "id": "ae47b159",
   "metadata": {},
   "source": [
    "### Distribution games by genre"
   ]
  },
  {
   "cell_type": "markdown",
   "id": "3199c2ad",
   "metadata": {},
   "source": [
    "We Take a look at the general distribution of games by genre. What can we say about the most profitable genres? We can use a bar plot to visualize the total total sales for each genre:"
   ]
  },
  {
   "cell_type": "code",
   "execution_count": 15,
   "id": "37141429",
   "metadata": {
    "scrolled": false
   },
   "outputs": [
    {
     "data": {
      "image/png": "[encoded data removed]",
      "text/plain": [
       "<Figure size 720x432 with 1 Axes>"
      ]
     },
     "metadata": {
      "needs_background": "light"
     },
     "output_type": "display_data"
    }
   ],
   "source": [
    "genre_sales = relevant_data.groupby('genre')['total_sales'].sum().sort_values(ascending=False)\n",
    "\n",
    "plt.figure(figsize=(10,6))\n",
    "plt.bar(genre_sales.index, genre_sales)\n",
    "plt.title('Total Sales by Genre')\n",
    "plt.xlabel('Genre')\n",
    "plt.ylabel('Total Sales (in millions)')\n",
    "plt.show()\n",
    "\n"
   ]
  },
  {
   "cell_type": "markdown",
   "id": "b56af463",
   "metadata": {},
   "source": [
    "Comment:\n",
    "- The most profitable games are Action followed by Shooter, Sports and then Role Playing. "
   ]
  },
  {
   "cell_type": "markdown",
   "id": "f9f10fa0",
   "metadata": {},
   "source": [
    "## STEP 4 - Create a user profile for each region"
   ]
  },
  {
   "cell_type": "code",
   "execution_count": 16,
   "id": "54a1b1c8",
   "metadata": {},
   "outputs": [],
   "source": [
    "#Create a user profile for each region\n",
    "na_data = relevant_data.groupby('na_sales')[['platform', 'genre', 'rating']].agg(lambda x:x.value_counts().index[0])\n",
    "#This code groups the relevant_data by the 'na_sales' column and then calculates the most frequent platform, genre, and ESRB rating for each group. The resulting dataframe na_data will contain the top platform, genre, and ESRB rating for the North America region.\n",
    "\n",
    "#Europe sales\n",
    "eu_sales = relevant_data.groupby(\"eu_sales\")[['platform', 'genre', 'rating']].agg(lambda x:x.value_counts().index[0])\n",
    "#Japan sales\n",
    "jp_sales = relevant_data.groupby(\"jp_sales\")[['platform', 'genre', 'rating']].agg(lambda x:x.value_counts().index[0])"
   ]
  },
  {
   "cell_type": "markdown",
   "id": "8a282d8e",
   "metadata": {},
   "source": [
    "### Market shares from region to region"
   ]
  },
  {
   "cell_type": "markdown",
   "id": "30fe35b3",
   "metadata": {},
   "source": [
    "The top five platforms. We will describe variations in their market shares from region to region"
   ]
  },
  {
   "cell_type": "code",
   "execution_count": 17,
   "id": "eab25ed8",
   "metadata": {
    "scrolled": false
   },
   "outputs": [
    {
     "name": "stdout",
     "output_type": "stream",
     "text": [
      "Top 5 platforms in North America:\n",
      "platform\n",
      "PS4     74.83\n",
      "XOne    66.79\n",
      "WiiU    15.03\n",
      "3DS      7.84\n",
      "PC       6.89\n",
      "Name: na_sales, dtype: float64\n",
      "Percentage market share for each platform:\n",
      "platform\n",
      "PS4     43.663205\n",
      "XOne    38.971875\n",
      "WiiU     8.769985\n",
      "3DS      4.574629\n",
      "PC       4.020306\n",
      "Name: na_sales, dtype: float64\n",
      "Top 5 platforms in Europe:\n",
      "platform\n",
      "PS4     101.81\n",
      "XOne     38.13\n",
      "PC       15.29\n",
      "WiiU     10.72\n",
      "3DS       5.36\n",
      "Name: eu_sales, dtype: float64\n",
      "Percentage market share for each platform:\n",
      "platform\n",
      "PS4     59.430273\n",
      "XOne    22.257895\n",
      "PC       8.925340\n",
      "WiiU     6.257662\n",
      "3DS      3.128831\n",
      "Name: eu_sales, dtype: float64\n",
      "Top 5 platforms in Japan:\n",
      "platform\n",
      "3DS     10.00\n",
      "PS4      8.52\n",
      "WiiU     5.78\n",
      "PSV      4.06\n",
      "PS3      1.77\n",
      "Name: jp_sales, dtype: float64\n",
      "Percentage market share for each platform:\n",
      "platform\n",
      "3DS     33.189512\n",
      "PS4     28.277464\n",
      "WiiU    19.183538\n",
      "PSV     13.474942\n",
      "PS3      5.874544\n",
      "Name: jp_sales, dtype: float64\n"
     ]
    }
   ],
   "source": [
    "# North America region\n",
    "na_platforms = relevant_data.groupby('platform')['na_sales'].sum().sort_values(ascending=False).head(5)\n",
    "na_platforms_pct = na_platforms / na_platforms.sum() * 100\n",
    "print('Top 5 platforms in North America:')\n",
    "print(na_platforms)\n",
    "print('Percentage market share for each platform:')\n",
    "print(na_platforms_pct)\n",
    "\n",
    "# Europe region\n",
    "eu_platforms = relevant_data.groupby('platform')['eu_sales'].sum().sort_values(ascending=False).head(5)\n",
    "eu_platforms_pct = eu_platforms / eu_platforms.sum() * 100\n",
    "print('Top 5 platforms in Europe:')\n",
    "print(eu_platforms)\n",
    "print('Percentage market share for each platform:')\n",
    "print(eu_platforms_pct)\n",
    "\n",
    "# Japan region\n",
    "jp_platforms = relevant_data.groupby('platform')['jp_sales'].sum().sort_values(ascending=False).head(5)\n",
    "jp_platforms_pct = jp_platforms / jp_platforms.sum() * 100\n",
    "print('Top 5 platforms in Japan:')\n",
    "print(jp_platforms)\n",
    "print('Percentage market share for each platform:')\n",
    "print(jp_platforms_pct)\n"
   ]
  },
  {
   "cell_type": "markdown",
   "id": "81a7c332",
   "metadata": {},
   "source": [
    "Comment:\n",
    "\n",
    "- In North America, the top two platforms, PS4 and XOne, have relatively similar market shares, with PS4 having a slightly higher market share. The next three platforms, WiiU, 3DS, and PC, have significantly lower market shares compared to the top two.\n",
    "- In Europe, PS4 has a much higher market share compared to XOne, and PC has a higher market share than both WiiU and 3DS.\n",
    "- In Japan, the market share of 3DS is significantly higher than any other platform, while PS4 and WiiU have relatively similar market shares. The market shares of PSV and PS3 are relatively low compared to the top three platforms."
   ]
  },
  {
   "cell_type": "markdown",
   "id": "e05fce3f",
   "metadata": {},
   "source": [
    "### The top five genres."
   ]
  },
  {
   "cell_type": "code",
   "execution_count": 18,
   "id": "26d96016",
   "metadata": {
    "scrolled": false
   },
   "outputs": [
    {
     "name": "stdout",
     "output_type": "stream",
     "text": [
      "Top 5 genres in North America:\n",
      " genre\n",
      "Shooter         51.22\n",
      "Action          50.37\n",
      "Sports          33.07\n",
      "Role-Playing    18.43\n",
      "Racing           7.30\n",
      "Name: na_sales, dtype: float64\n",
      "\n",
      "Top 5 genres in Europe:\n",
      " genre\n",
      "Action          53.06\n",
      "Shooter         42.64\n",
      "Sports          33.52\n",
      "Role-Playing    16.78\n",
      "Racing          11.12\n",
      "Name: eu_sales, dtype: float64\n",
      "\n",
      "Top 5 genres in Japan:\n",
      " genre\n",
      "Role-Playing    8.82\n",
      "Action          7.28\n",
      "Shooter         3.66\n",
      "Platform        2.54\n",
      "Simulation      1.89\n",
      "Name: jp_sales, dtype: float64\n"
     ]
    }
   ],
   "source": [
    "# Top 5 genres in North America\n",
    "na_genres = relevant_data.groupby('genre')['na_sales'].sum().sort_values(ascending=False).head(5)\n",
    "print(\"Top 5 genres in North America:\\n\", na_genres)\n",
    "\n",
    "# Top 5 genres in Europe\n",
    "eu_genres = relevant_data.groupby('genre')['eu_sales'].sum().sort_values(ascending=False).head(5)\n",
    "print(\"\\nTop 5 genres in Europe:\\n\", eu_genres)\n",
    "\n",
    "# Top 5 genres in Japan\n",
    "jp_genres = relevant_data.groupby('genre')['jp_sales'].sum().sort_values(ascending=False).head(5)\n",
    "print(\"\\nTop 5 genres in Japan:\\n\", jp_genres)\n"
   ]
  },
  {
   "cell_type": "markdown",
   "id": "1db8ac87",
   "metadata": {},
   "source": [
    "Comment:\n",
    "\n",
    "- The top five genres vary considerably among the regions. In North America and Europe, the two top genres are Action and Shooter, with a difference of less than 10% in their market shares. Sports and Role-Playing are also in the top five genres for both regions, but the order of the remaining genres is different. Racing is in the fourth place in North America, while it is the fifth in Europe. In contrast, Role-Playing is in the third place in Europe and the fourth place in North America.\n",
    "\n",
    "- In Japan, Role-Playing is the top genre with a market share of 8.82%, which is much higher than the other genres. Action and Shooter are also in the top five genres in Japan, but their market shares are much lower than in North America and Europe. Platform and Simulation are in the fourth and fifth places, respectively, indicating a different preference for game genres in Japan. These differences in genre preferences suggest that game developers and publishers need to tailor their marketing and development strategies to meet the demands of each region."
   ]
  },
  {
   "cell_type": "markdown",
   "id": "95a013a8",
   "metadata": {},
   "source": [
    "### ESRB ratings affect sales in individual regions"
   ]
  },
  {
   "cell_type": "markdown",
   "id": "44323424",
   "metadata": {},
   "source": [
    "We need to look at the distribution of sales across different ESRB ratings for each region."
   ]
  },
  {
   "cell_type": "code",
   "execution_count": 19,
   "id": "68d1935b",
   "metadata": {},
   "outputs": [
    {
     "name": "stdout",
     "output_type": "stream",
     "text": [
      "North America:\n",
      "rating\n",
      "AO       0.00\n",
      "E       38.29\n",
      "E10+    23.50\n",
      "EC       0.00\n",
      "K-A      0.00\n",
      "M       85.64\n",
      "RP       0.00\n",
      "T       34.56\n",
      "Name: na_sales, dtype: float64\n",
      "\n",
      "Europe:\n",
      "rating\n",
      "AO       0.00\n",
      "E       46.00\n",
      "E10+    17.01\n",
      "EC       0.00\n",
      "K-A      0.00\n",
      "M       84.18\n",
      "RP       0.00\n",
      "T       31.16\n",
      "Name: eu_sales, dtype: float64\n",
      "\n",
      "Japan:\n",
      "rating\n",
      "AO       0.00\n",
      "E        8.28\n",
      "E10+     4.28\n",
      "EC       0.00\n",
      "K-A      0.00\n",
      "M        6.84\n",
      "RP       0.00\n",
      "T       10.87\n",
      "Name: jp_sales, dtype: float64\n"
     ]
    }
   ],
   "source": [
    "# North America\n",
    "na_ratings = relevant_data.groupby('rating')['na_sales'].sum()\n",
    "print('North America:')\n",
    "print(na_ratings)\n",
    "\n",
    "# Europe\n",
    "eu_ratings = relevant_data.groupby('rating')['eu_sales'].sum()\n",
    "print('\\nEurope:')\n",
    "print(eu_ratings)\n",
    "\n",
    "# Japan\n",
    "jp_ratings = relevant_data.groupby('rating')['jp_sales'].sum()\n",
    "print('\\nJapan:')\n",
    "print(jp_ratings)\n"
   ]
  },
  {
   "cell_type": "markdown",
   "id": "d5db5d94",
   "metadata": {},
   "source": [
    "Comment:\n",
    "\n",
    "- The output shows the percentage of sales for each ESRB rating category in each region. The ESRB (Entertainment Software Rating Board) rates video games based on content, and their ratings include EC (Early Childhood), E (Everyone), E10+ (Everyone 10 and older), T (Teen), M (Mature), and AO (Adults Only).\n",
    "\n",
    "- In North America and Europe, M-rated games (for ages 17 and older) have the highest percentage of sales, followed by T-rated games (for ages 13 and older), and E-rated games (for everyone). E10+ rated games (for ages 10 and older) have a significant market share in North America, but not in Europe. In contrast, in Japan, the T-rated games have the highest percentage of sales, followed by E-rated games, and then the M-rated games. E10+ rated games have a very low market share in Japan.\n",
    "\n",
    "- Overall, the output suggests that ESRB ratings do affect sales in individual regions, with different regions having different preferences for game content."
   ]
  },
  {
   "cell_type": "markdown",
   "id": "d842b996",
   "metadata": {},
   "source": [
    "## STEP 5 - Explanation on Hypothesis formulation and testing"
   ]
  },
  {
   "cell_type": "markdown",
   "id": "87236847",
   "metadata": {},
   "source": [
    "Formulate the null and alternative hypotheses:\n",
    "\n",
    "Null hypothesis (H0): The average user ratings of the Xbox One and PC platforms are equal.\n",
    "Alternative hypothesis (HA): The average user ratings of the Xbox One and PC platforms are not equal.\n",
    "\n",
    "Null hypothesis (H0): The average user ratings for the Action and Sports genres are equal.\n",
    "\n",
    "Alternative hypothesis (HA): The average user ratings for the Action and Sports genres are not equal.\n",
    "Choose a significance level (alpha threshold value) to test the hypotheses. Let's set alpha = 0.05, which is a common choice in statistical testing.\n",
    "\n",
    "Perform the hypothesis testing using appropriate statistical tests:\n",
    "To test the first hypothesis, we can use a two-sample t-test to compare the means of user ratings for Xbox One and PC platforms.\n",
    "To test the second hypothesis, we can use a two-sample t-test to compare the means of user ratings for Action and Sports genres.\n",
    "\n",
    "Interpretation:\n",
    "- If the p-value of the test is less than alpha, we reject the null hypothesis and conclude that there is evidence to support the alternative hypothesis.\n",
    "- If the p-value is greater than or equal to alpha, we fail to reject the null hypothesis and conclude that there is not enough evidence to support the alternative hypothesis."
   ]
  },
  {
   "cell_type": "code",
   "execution_count": 20,
   "id": "b84f08bb",
   "metadata": {},
   "outputs": [
    {
     "name": "stdout",
     "output_type": "stream",
     "text": [
      "Test for user ratings of Xbox One and PC:\n",
      "Null hypothesis: average user ratings of Xbox One and PC are equal\n",
      "Alternative hypothesis: average user ratings of Xbox One and PC are not equal\n",
      "Fail to reject null hypothesis\n",
      "\n",
      "Test for user ratings of Action and Sports genres:\n",
      "Null hypothesis: average user ratings of Action and Sports genres are equal\n",
      "Alternative hypothesis: average user ratings of Action and Sports genres are different\n",
      "Reject null hypothesis\n"
     ]
    }
   ],
   "source": [
    "#Hypothesis test\n",
    "import scipy.stats as stats\n",
    "\n",
    "# Test for average user ratings of Xbox One and PC\n",
    "xbox = relevant_data[relevant_data['platform'] == 'XOne']['user_score'].dropna()\n",
    "pc = relevant_data[relevant_data['platform'] == 'PC']['user_score'].dropna()\n",
    "\n",
    "alpha = 0.05\n",
    "\n",
    "results_xbox_pc = stats.ttest_ind(xbox, pc, equal_var=False)\n",
    "\n",
    "print('Test for user ratings of Xbox One and PC:')\n",
    "print('Null hypothesis: average user ratings of Xbox One and PC are equal')\n",
    "print('Alternative hypothesis: average user ratings of Xbox One and PC are not equal')\n",
    "\n",
    "if (results_xbox_pc.pvalue < alpha):\n",
    "    print(\"Reject null hypothesis\")\n",
    "else:\n",
    "    print(\"Fail to reject null hypothesis\")\n",
    "\n",
    "print('')\n",
    "\n",
    "# Test for average user ratings of Action and Sports genres\n",
    "action = relevant_data[relevant_data['genre'] == 'Action']['user_score'].dropna()\n",
    "sports = relevant_data[relevant_data['genre'] == 'Sports']['user_score'].dropna()\n",
    "\n",
    "results_action_sports = stats.ttest_ind(action, sports, equal_var=False)\n",
    "\n",
    "print('Test for user ratings of Action and Sports genres:')\n",
    "print('Null hypothesis: average user ratings of Action and Sports genres are equal')\n",
    "print('Alternative hypothesis: average user ratings of Action and Sports genres are different')\n",
    "\n",
    "if (results_action_sports.pvalue < alpha):\n",
    "    print(\"Reject null hypothesis\")\n",
    "else:\n",
    "    print(\"Fail to reject null hypothesis\")\n"
   ]
  },
  {
   "cell_type": "markdown",
   "id": "dcba05f0",
   "metadata": {},
   "source": [
    "## STEP 6: GENERAL CONCLUSION\n",
    "\n",
    "- Investing and advertising on PS4,XOne and 3DS is essential for the company since they are the platforms with most sales in all regions. This might help to boost the sales of the platforms as they are the most profitable and popular.\n",
    "- It is also essential to consider the ratings of games to identify which kinds of games to invest in and advertise more. Difference preferneces for games rated differently highlighted in different regions is an essential consideration too. \n",
    "- For the 2017 camplaign, it is important for the company to priorotize most popular platforms for advertisement and promotions as this will increase sales around the world. Despite the disparity in genre preference in different regions, the company should invest in shooter, Role-Playing, action, and sports. These are among the most popular games."
   ]
  }
 ],
 "metadata": {
  "kernelspec": {
   "display_name": "Python 3 (ipykernel)",
   "language": "python",
   "name": "python3"
  },
  "language_info": {
   "codemirror_mode": {
    "name": "ipython",
    "version": 3
   },
   "file_extension": ".py",
   "mimetype": "text/x-python",
   "name": "python",
   "nbconvert_exporter": "python",
   "pygments_lexer": "ipython3",
   "version": "3.9.5"
  },
  "toc": {
   "base_numbering": 1,
   "nav_menu": {},
   "number_sections": true,
   "sideBar": true,
   "skip_h1_title": true,
   "title_cell": "Table of Contents",
   "title_sidebar": "Contents",
   "toc_cell": false,
   "toc_position": {
    "height": "calc(100% - 180px)",
    "left": "10px",
    "top": "150px",
    "width": "512px"
   },
   "toc_section_display": true,
   "toc_window_display": true
  }
 },
 "nbformat": 4,
 "nbformat_minor": 5
}
